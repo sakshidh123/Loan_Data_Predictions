{
  "cells": [
    {
      "cell_type": "code",
      "execution_count": null,
      "metadata": {
        "id": "doHpjvA_KFZ3"
      },
      "outputs": [],
      "source": [
        "## importing necessary libraries\n",
        "\n",
        "import numpy as np\n",
        "import pandas as pd\n",
        "\n",
        "from sklearn.impute import SimpleImputer\n",
        "from sklearn.pipeline import make_pipeline,Pipeline\n",
        "from sklearn.preprocessing import StandardScaler, OneHotEncoder, OrdinalEncoder\n",
        "from sklearn.model_selection import train_test_split, cross_val_score, GridSearchCV, RandomizedSearchCV\n",
        "from sklearn.ensemble import RandomForestClassifier\n",
        "from sklearn.linear_model import LinearRegression\n",
        "from sklearn.metrics import roc_auc_score, auc,roc_curve ,confusion_matrix\n",
        "from sklearn.compose import ColumnTransformer\n",
        "from sklearn.linear_model import LogisticRegression\n",
        "import re\n",
        "import matplotlib.pyplot as plt\n"
      ]
    },
    {
      "cell_type": "code",
      "execution_count": null,
      "metadata": {
        "id": "iwWnBbc6Sh-b"
      },
      "outputs": [],
      "source": [
        "#from google.colab import drive\n",
        "#drive.mount('/mnt/drive')"
      ]
    },
    {
      "cell_type": "code",
      "execution_count": null,
      "metadata": {
        "id": "a_HzXuwMSqH7"
      },
      "outputs": [],
      "source": [
        "#import pandas as pd\n",
        "#mydata = pd.read_csv('/mnt/drive/MyDrive/Colab Notebooks/Subscribers.csv')\n",
        "#mydata.shape"
      ]
    },
    {
      "cell_type": "code",
      "execution_count": null,
      "metadata": {
        "id": "Qt3gmrrndlTM"
      },
      "outputs": [],
      "source": [
        "## reading the data sets"
      ]
    },
    {
      "cell_type": "code",
      "execution_count": null,
      "metadata": {
        "id": "B5Cl4upsd1rC"
      },
      "outputs": [],
      "source": [
        "data=pd.read_csv(\"default_data.csv\")"
      ]
    },
    {
      "cell_type": "code",
      "execution_count": null,
      "metadata": {
        "id": "SOSWf5Kob7Cs"
      },
      "outputs": [],
      "source": [
        "branch=pd.read_csv (\"branch.csv\")"
      ]
    },
    {
      "cell_type": "code",
      "execution_count": null,
      "metadata": {
        "id": "jnfMOPP1c1dd"
      },
      "outputs": [],
      "source": [
        "manufacturer =pd.read_csv (\"manufacturer.csv\")"
      ]
    },
    {
      "cell_type": "code",
      "execution_count": null,
      "metadata": {
        "id": "MtfnzWGEdUra"
      },
      "outputs": [],
      "source": [
        "state =pd.read_csv (\"state.csv\")"
      ]
    },
    {
      "cell_type": "code",
      "execution_count": null,
      "metadata": {
        "id": "UmsE0R-EdiNQ"
      },
      "outputs": [],
      "source": [
        "## now preprocessing of data"
      ]
    },
    {
      "cell_type": "code",
      "execution_count": null,
      "metadata": {
        "colab": {
          "base_uri": "https://localhost:8080/",
          "height": 255
        },
        "id": "F6dYXmK9eJ2R",
        "outputId": "5ca66ba9-676c-4a40-db59-1867f20e9794"
      },
      "outputs": [
        {
          "output_type": "execute_result",
          "data": {
            "text/plain": [
              "   UniqueID  disbursed_amount  asset_cost    ltv  branch_id  supplier_id  \\\n",
              "0    420825             50578       58400  89.55         67        22807   \n",
              "1    537409             47145       65550  73.23         67        22807   \n",
              "2    417566             53278       61360  89.63         67        22807   \n",
              "3    624493             57513       66113  88.48         67        22807   \n",
              "4    539055             52378       60300  88.39         67        22807   \n",
              "\n",
              "   manufacturer_id  Current_pincode_ID Date.of.Birth Employment.Type  ...  \\\n",
              "0               45                1441    01-01-1984        Salaried  ...   \n",
              "1               45                1502    31-07-1985   Self employed  ...   \n",
              "2               45                1497    24-08-1985   Self employed  ...   \n",
              "3               45                1501    30-12-1993   Self employed  ...   \n",
              "4               45                1495    09-12-1977   Self employed  ...   \n",
              "\n",
              "  SEC.SANCTIONED.AMOUNT  SEC.DISBURSED.AMOUNT  PRIMARY.INSTAL.AMT  \\\n",
              "0                     0                     0                   0   \n",
              "1                     0                     0                1991   \n",
              "2                     0                     0                   0   \n",
              "3                     0                     0                  31   \n",
              "4                     0                     0                   0   \n",
              "\n",
              "   SEC.INSTAL.AMT  NEW.ACCTS.IN.LAST.SIX.MONTHS  \\\n",
              "0               0                             0   \n",
              "1               0                             0   \n",
              "2               0                             0   \n",
              "3               0                             0   \n",
              "4               0                             0   \n",
              "\n",
              "   DELINQUENT.ACCTS.IN.LAST.SIX.MONTHS  AVERAGE.ACCT.AGE  \\\n",
              "0                                    0         0yrs 0mon   \n",
              "1                                    1        1yrs 11mon   \n",
              "2                                    0         0yrs 0mon   \n",
              "3                                    0         0yrs 8mon   \n",
              "4                                    0         0yrs 0mon   \n",
              "\n",
              "   CREDIT.HISTORY.LENGTH  NO.OF_INQUIRIES  loan_default  \n",
              "0              0yrs 0mon                0             0  \n",
              "1             1yrs 11mon                0             1  \n",
              "2              0yrs 0mon                0             0  \n",
              "3              1yrs 3mon                1             1  \n",
              "4              0yrs 0mon                1             1  \n",
              "\n",
              "[5 rows x 41 columns]"
            ],
            "text/html": [
              "\n",
              "  <div id=\"df-44f5a58d-95ab-404a-9578-3e4d261e06b5\" class=\"colab-df-container\">\n",
              "    <div>\n",
              "<style scoped>\n",
              "    .dataframe tbody tr th:only-of-type {\n",
              "        vertical-align: middle;\n",
              "    }\n",
              "\n",
              "    .dataframe tbody tr th {\n",
              "        vertical-align: top;\n",
              "    }\n",
              "\n",
              "    .dataframe thead th {\n",
              "        text-align: right;\n",
              "    }\n",
              "</style>\n",
              "<table border=\"1\" class=\"dataframe\">\n",
              "  <thead>\n",
              "    <tr style=\"text-align: right;\">\n",
              "      <th></th>\n",
              "      <th>UniqueID</th>\n",
              "      <th>disbursed_amount</th>\n",
              "      <th>asset_cost</th>\n",
              "      <th>ltv</th>\n",
              "      <th>branch_id</th>\n",
              "      <th>supplier_id</th>\n",
              "      <th>manufacturer_id</th>\n",
              "      <th>Current_pincode_ID</th>\n",
              "      <th>Date.of.Birth</th>\n",
              "      <th>Employment.Type</th>\n",
              "      <th>...</th>\n",
              "      <th>SEC.SANCTIONED.AMOUNT</th>\n",
              "      <th>SEC.DISBURSED.AMOUNT</th>\n",
              "      <th>PRIMARY.INSTAL.AMT</th>\n",
              "      <th>SEC.INSTAL.AMT</th>\n",
              "      <th>NEW.ACCTS.IN.LAST.SIX.MONTHS</th>\n",
              "      <th>DELINQUENT.ACCTS.IN.LAST.SIX.MONTHS</th>\n",
              "      <th>AVERAGE.ACCT.AGE</th>\n",
              "      <th>CREDIT.HISTORY.LENGTH</th>\n",
              "      <th>NO.OF_INQUIRIES</th>\n",
              "      <th>loan_default</th>\n",
              "    </tr>\n",
              "  </thead>\n",
              "  <tbody>\n",
              "    <tr>\n",
              "      <th>0</th>\n",
              "      <td>420825</td>\n",
              "      <td>50578</td>\n",
              "      <td>58400</td>\n",
              "      <td>89.55</td>\n",
              "      <td>67</td>\n",
              "      <td>22807</td>\n",
              "      <td>45</td>\n",
              "      <td>1441</td>\n",
              "      <td>01-01-1984</td>\n",
              "      <td>Salaried</td>\n",
              "      <td>...</td>\n",
              "      <td>0</td>\n",
              "      <td>0</td>\n",
              "      <td>0</td>\n",
              "      <td>0</td>\n",
              "      <td>0</td>\n",
              "      <td>0</td>\n",
              "      <td>0yrs 0mon</td>\n",
              "      <td>0yrs 0mon</td>\n",
              "      <td>0</td>\n",
              "      <td>0</td>\n",
              "    </tr>\n",
              "    <tr>\n",
              "      <th>1</th>\n",
              "      <td>537409</td>\n",
              "      <td>47145</td>\n",
              "      <td>65550</td>\n",
              "      <td>73.23</td>\n",
              "      <td>67</td>\n",
              "      <td>22807</td>\n",
              "      <td>45</td>\n",
              "      <td>1502</td>\n",
              "      <td>31-07-1985</td>\n",
              "      <td>Self employed</td>\n",
              "      <td>...</td>\n",
              "      <td>0</td>\n",
              "      <td>0</td>\n",
              "      <td>1991</td>\n",
              "      <td>0</td>\n",
              "      <td>0</td>\n",
              "      <td>1</td>\n",
              "      <td>1yrs 11mon</td>\n",
              "      <td>1yrs 11mon</td>\n",
              "      <td>0</td>\n",
              "      <td>1</td>\n",
              "    </tr>\n",
              "    <tr>\n",
              "      <th>2</th>\n",
              "      <td>417566</td>\n",
              "      <td>53278</td>\n",
              "      <td>61360</td>\n",
              "      <td>89.63</td>\n",
              "      <td>67</td>\n",
              "      <td>22807</td>\n",
              "      <td>45</td>\n",
              "      <td>1497</td>\n",
              "      <td>24-08-1985</td>\n",
              "      <td>Self employed</td>\n",
              "      <td>...</td>\n",
              "      <td>0</td>\n",
              "      <td>0</td>\n",
              "      <td>0</td>\n",
              "      <td>0</td>\n",
              "      <td>0</td>\n",
              "      <td>0</td>\n",
              "      <td>0yrs 0mon</td>\n",
              "      <td>0yrs 0mon</td>\n",
              "      <td>0</td>\n",
              "      <td>0</td>\n",
              "    </tr>\n",
              "    <tr>\n",
              "      <th>3</th>\n",
              "      <td>624493</td>\n",
              "      <td>57513</td>\n",
              "      <td>66113</td>\n",
              "      <td>88.48</td>\n",
              "      <td>67</td>\n",
              "      <td>22807</td>\n",
              "      <td>45</td>\n",
              "      <td>1501</td>\n",
              "      <td>30-12-1993</td>\n",
              "      <td>Self employed</td>\n",
              "      <td>...</td>\n",
              "      <td>0</td>\n",
              "      <td>0</td>\n",
              "      <td>31</td>\n",
              "      <td>0</td>\n",
              "      <td>0</td>\n",
              "      <td>0</td>\n",
              "      <td>0yrs 8mon</td>\n",
              "      <td>1yrs 3mon</td>\n",
              "      <td>1</td>\n",
              "      <td>1</td>\n",
              "    </tr>\n",
              "    <tr>\n",
              "      <th>4</th>\n",
              "      <td>539055</td>\n",
              "      <td>52378</td>\n",
              "      <td>60300</td>\n",
              "      <td>88.39</td>\n",
              "      <td>67</td>\n",
              "      <td>22807</td>\n",
              "      <td>45</td>\n",
              "      <td>1495</td>\n",
              "      <td>09-12-1977</td>\n",
              "      <td>Self employed</td>\n",
              "      <td>...</td>\n",
              "      <td>0</td>\n",
              "      <td>0</td>\n",
              "      <td>0</td>\n",
              "      <td>0</td>\n",
              "      <td>0</td>\n",
              "      <td>0</td>\n",
              "      <td>0yrs 0mon</td>\n",
              "      <td>0yrs 0mon</td>\n",
              "      <td>1</td>\n",
              "      <td>1</td>\n",
              "    </tr>\n",
              "  </tbody>\n",
              "</table>\n",
              "<p>5 rows × 41 columns</p>\n",
              "</div>\n",
              "    <div class=\"colab-df-buttons\">\n",
              "\n",
              "  <div class=\"colab-df-container\">\n",
              "    <button class=\"colab-df-convert\" onclick=\"convertToInteractive('df-44f5a58d-95ab-404a-9578-3e4d261e06b5')\"\n",
              "            title=\"Convert this dataframe to an interactive table.\"\n",
              "            style=\"display:none;\">\n",
              "\n",
              "  <svg xmlns=\"http://www.w3.org/2000/svg\" height=\"24px\" viewBox=\"0 -960 960 960\">\n",
              "    <path d=\"M120-120v-720h720v720H120Zm60-500h600v-160H180v160Zm220 220h160v-160H400v160Zm0 220h160v-160H400v160ZM180-400h160v-160H180v160Zm440 0h160v-160H620v160ZM180-180h160v-160H180v160Zm440 0h160v-160H620v160Z\"/>\n",
              "  </svg>\n",
              "    </button>\n",
              "\n",
              "  <style>\n",
              "    .colab-df-container {\n",
              "      display:flex;\n",
              "      gap: 12px;\n",
              "    }\n",
              "\n",
              "    .colab-df-convert {\n",
              "      background-color: #E8F0FE;\n",
              "      border: none;\n",
              "      border-radius: 50%;\n",
              "      cursor: pointer;\n",
              "      display: none;\n",
              "      fill: #1967D2;\n",
              "      height: 32px;\n",
              "      padding: 0 0 0 0;\n",
              "      width: 32px;\n",
              "    }\n",
              "\n",
              "    .colab-df-convert:hover {\n",
              "      background-color: #E2EBFA;\n",
              "      box-shadow: 0px 1px 2px rgba(60, 64, 67, 0.3), 0px 1px 3px 1px rgba(60, 64, 67, 0.15);\n",
              "      fill: #174EA6;\n",
              "    }\n",
              "\n",
              "    .colab-df-buttons div {\n",
              "      margin-bottom: 4px;\n",
              "    }\n",
              "\n",
              "    [theme=dark] .colab-df-convert {\n",
              "      background-color: #3B4455;\n",
              "      fill: #D2E3FC;\n",
              "    }\n",
              "\n",
              "    [theme=dark] .colab-df-convert:hover {\n",
              "      background-color: #434B5C;\n",
              "      box-shadow: 0px 1px 3px 1px rgba(0, 0, 0, 0.15);\n",
              "      filter: drop-shadow(0px 1px 2px rgba(0, 0, 0, 0.3));\n",
              "      fill: #FFFFFF;\n",
              "    }\n",
              "  </style>\n",
              "\n",
              "    <script>\n",
              "      const buttonEl =\n",
              "        document.querySelector('#df-44f5a58d-95ab-404a-9578-3e4d261e06b5 button.colab-df-convert');\n",
              "      buttonEl.style.display =\n",
              "        google.colab.kernel.accessAllowed ? 'block' : 'none';\n",
              "\n",
              "      async function convertToInteractive(key) {\n",
              "        const element = document.querySelector('#df-44f5a58d-95ab-404a-9578-3e4d261e06b5');\n",
              "        const dataTable =\n",
              "          await google.colab.kernel.invokeFunction('convertToInteractive',\n",
              "                                                    [key], {});\n",
              "        if (!dataTable) return;\n",
              "\n",
              "        const docLinkHtml = 'Like what you see? Visit the ' +\n",
              "          '<a target=\"_blank\" href=https://colab.research.google.com/notebooks/data_table.ipynb>data table notebook</a>'\n",
              "          + ' to learn more about interactive tables.';\n",
              "        element.innerHTML = '';\n",
              "        dataTable['output_type'] = 'display_data';\n",
              "        await google.colab.output.renderOutput(dataTable, element);\n",
              "        const docLink = document.createElement('div');\n",
              "        docLink.innerHTML = docLinkHtml;\n",
              "        element.appendChild(docLink);\n",
              "      }\n",
              "    </script>\n",
              "  </div>\n",
              "\n",
              "\n",
              "<div id=\"df-59b72dd5-4b90-474e-afc8-68b3d4041ce6\">\n",
              "  <button class=\"colab-df-quickchart\" onclick=\"quickchart('df-59b72dd5-4b90-474e-afc8-68b3d4041ce6')\"\n",
              "            title=\"Suggest charts\"\n",
              "            style=\"display:none;\">\n",
              "\n",
              "<svg xmlns=\"http://www.w3.org/2000/svg\" height=\"24px\"viewBox=\"0 0 24 24\"\n",
              "     width=\"24px\">\n",
              "    <g>\n",
              "        <path d=\"M19 3H5c-1.1 0-2 .9-2 2v14c0 1.1.9 2 2 2h14c1.1 0 2-.9 2-2V5c0-1.1-.9-2-2-2zM9 17H7v-7h2v7zm4 0h-2V7h2v10zm4 0h-2v-4h2v4z\"/>\n",
              "    </g>\n",
              "</svg>\n",
              "  </button>\n",
              "\n",
              "<style>\n",
              "  .colab-df-quickchart {\n",
              "      --bg-color: #E8F0FE;\n",
              "      --fill-color: #1967D2;\n",
              "      --hover-bg-color: #E2EBFA;\n",
              "      --hover-fill-color: #174EA6;\n",
              "      --disabled-fill-color: #AAA;\n",
              "      --disabled-bg-color: #DDD;\n",
              "  }\n",
              "\n",
              "  [theme=dark] .colab-df-quickchart {\n",
              "      --bg-color: #3B4455;\n",
              "      --fill-color: #D2E3FC;\n",
              "      --hover-bg-color: #434B5C;\n",
              "      --hover-fill-color: #FFFFFF;\n",
              "      --disabled-bg-color: #3B4455;\n",
              "      --disabled-fill-color: #666;\n",
              "  }\n",
              "\n",
              "  .colab-df-quickchart {\n",
              "    background-color: var(--bg-color);\n",
              "    border: none;\n",
              "    border-radius: 50%;\n",
              "    cursor: pointer;\n",
              "    display: none;\n",
              "    fill: var(--fill-color);\n",
              "    height: 32px;\n",
              "    padding: 0;\n",
              "    width: 32px;\n",
              "  }\n",
              "\n",
              "  .colab-df-quickchart:hover {\n",
              "    background-color: var(--hover-bg-color);\n",
              "    box-shadow: 0 1px 2px rgba(60, 64, 67, 0.3), 0 1px 3px 1px rgba(60, 64, 67, 0.15);\n",
              "    fill: var(--button-hover-fill-color);\n",
              "  }\n",
              "\n",
              "  .colab-df-quickchart-complete:disabled,\n",
              "  .colab-df-quickchart-complete:disabled:hover {\n",
              "    background-color: var(--disabled-bg-color);\n",
              "    fill: var(--disabled-fill-color);\n",
              "    box-shadow: none;\n",
              "  }\n",
              "\n",
              "  .colab-df-spinner {\n",
              "    border: 2px solid var(--fill-color);\n",
              "    border-color: transparent;\n",
              "    border-bottom-color: var(--fill-color);\n",
              "    animation:\n",
              "      spin 1s steps(1) infinite;\n",
              "  }\n",
              "\n",
              "  @keyframes spin {\n",
              "    0% {\n",
              "      border-color: transparent;\n",
              "      border-bottom-color: var(--fill-color);\n",
              "      border-left-color: var(--fill-color);\n",
              "    }\n",
              "    20% {\n",
              "      border-color: transparent;\n",
              "      border-left-color: var(--fill-color);\n",
              "      border-top-color: var(--fill-color);\n",
              "    }\n",
              "    30% {\n",
              "      border-color: transparent;\n",
              "      border-left-color: var(--fill-color);\n",
              "      border-top-color: var(--fill-color);\n",
              "      border-right-color: var(--fill-color);\n",
              "    }\n",
              "    40% {\n",
              "      border-color: transparent;\n",
              "      border-right-color: var(--fill-color);\n",
              "      border-top-color: var(--fill-color);\n",
              "    }\n",
              "    60% {\n",
              "      border-color: transparent;\n",
              "      border-right-color: var(--fill-color);\n",
              "    }\n",
              "    80% {\n",
              "      border-color: transparent;\n",
              "      border-right-color: var(--fill-color);\n",
              "      border-bottom-color: var(--fill-color);\n",
              "    }\n",
              "    90% {\n",
              "      border-color: transparent;\n",
              "      border-bottom-color: var(--fill-color);\n",
              "    }\n",
              "  }\n",
              "</style>\n",
              "\n",
              "  <script>\n",
              "    async function quickchart(key) {\n",
              "      const quickchartButtonEl =\n",
              "        document.querySelector('#' + key + ' button');\n",
              "      quickchartButtonEl.disabled = true;  // To prevent multiple clicks.\n",
              "      quickchartButtonEl.classList.add('colab-df-spinner');\n",
              "      try {\n",
              "        const charts = await google.colab.kernel.invokeFunction(\n",
              "            'suggestCharts', [key], {});\n",
              "      } catch (error) {\n",
              "        console.error('Error during call to suggestCharts:', error);\n",
              "      }\n",
              "      quickchartButtonEl.classList.remove('colab-df-spinner');\n",
              "      quickchartButtonEl.classList.add('colab-df-quickchart-complete');\n",
              "    }\n",
              "    (() => {\n",
              "      let quickchartButtonEl =\n",
              "        document.querySelector('#df-59b72dd5-4b90-474e-afc8-68b3d4041ce6 button');\n",
              "      quickchartButtonEl.style.display =\n",
              "        google.colab.kernel.accessAllowed ? 'block' : 'none';\n",
              "    })();\n",
              "  </script>\n",
              "</div>\n",
              "\n",
              "    </div>\n",
              "  </div>\n"
            ]
          },
          "metadata": {},
          "execution_count": 6
        }
      ],
      "source": [
        "data.head()"
      ]
    },
    {
      "cell_type": "code",
      "execution_count": null,
      "metadata": {
        "colab": {
          "base_uri": "https://localhost:8080/"
        },
        "id": "CYKolSnWeOqQ",
        "outputId": "017b8e04-1671-41f7-dc30-2a55bb1c4c26"
      },
      "outputs": [
        {
          "output_type": "execute_result",
          "data": {
            "text/plain": [
              "Index(['UniqueID', 'disbursed_amount', 'asset_cost', 'ltv', 'branch_id',\n",
              "       'supplier_id', 'manufacturer_id', 'Current_pincode_ID', 'Date.of.Birth',\n",
              "       'Employment.Type', 'DisbursalDate', 'State_ID', 'Employee_code_ID',\n",
              "       'MobileNo_Avl_Flag', 'Aadhar_flag', 'PAN_flag', 'VoterID_flag',\n",
              "       'Driving_flag', 'Passport_flag', 'PERFORM_CNS.SCORE',\n",
              "       'PERFORM_CNS.SCORE.DESCRIPTION', 'PRI.NO.OF.ACCTS', 'PRI.ACTIVE.ACCTS',\n",
              "       'PRI.OVERDUE.ACCTS', 'PRI.CURRENT.BALANCE', 'PRI.SANCTIONED.AMOUNT',\n",
              "       'PRI.DISBURSED.AMOUNT', 'SEC.NO.OF.ACCTS', 'SEC.ACTIVE.ACCTS',\n",
              "       'SEC.OVERDUE.ACCTS', 'SEC.CURRENT.BALANCE', 'SEC.SANCTIONED.AMOUNT',\n",
              "       'SEC.DISBURSED.AMOUNT', 'PRIMARY.INSTAL.AMT', 'SEC.INSTAL.AMT',\n",
              "       'NEW.ACCTS.IN.LAST.SIX.MONTHS', 'DELINQUENT.ACCTS.IN.LAST.SIX.MONTHS',\n",
              "       'AVERAGE.ACCT.AGE', 'CREDIT.HISTORY.LENGTH', 'NO.OF_INQUIRIES',\n",
              "       'loan_default'],\n",
              "      dtype='object')"
            ]
          },
          "metadata": {},
          "execution_count": 7
        }
      ],
      "source": [
        "data.columns"
      ]
    },
    {
      "cell_type": "code",
      "execution_count": null,
      "metadata": {
        "id": "UlQF24NWfXvB"
      },
      "outputs": [],
      "source": [
        "## Applying regular expressions"
      ]
    },
    {
      "cell_type": "code",
      "execution_count": null,
      "metadata": {
        "colab": {
          "base_uri": "https://localhost:8080/"
        },
        "id": "SSu6yMnQkA0B",
        "outputId": "45fafc87-0edd-4918-a500-d8228bf74303"
      },
      "outputs": [
        {
          "output_type": "execute_result",
          "data": {
            "text/plain": [
              "['uniqueid',\n",
              " 'disbursed_amount',\n",
              " 'asset_cost',\n",
              " 'ltv',\n",
              " 'branch_id',\n",
              " 'supplier_id',\n",
              " 'manufacturer_id',\n",
              " 'current_pincode_id',\n",
              " 'date-of-birth',\n",
              " 'employment-type',\n",
              " 'disbursaldate',\n",
              " 'state_id',\n",
              " 'employee_code_id',\n",
              " 'mobileno_avl_flag',\n",
              " 'aadhar_flag',\n",
              " 'pan_flag',\n",
              " 'voterid_flag',\n",
              " 'driving_flag',\n",
              " 'passport_flag',\n",
              " 'perform_cns-score',\n",
              " 'perform_cns-score-description',\n",
              " 'pri-no-of-accts',\n",
              " 'pri-active-accts',\n",
              " 'pri-overdue-accts',\n",
              " 'pri-current-balance',\n",
              " 'pri-sanctioned-amount',\n",
              " 'pri-disbursed-amount',\n",
              " 'sec-no-of-accts',\n",
              " 'sec-active-accts',\n",
              " 'sec-overdue-accts',\n",
              " 'sec-current-balance',\n",
              " 'sec-sanctioned-amount',\n",
              " 'sec-disbursed-amount',\n",
              " 'primary-instal-amt',\n",
              " 'sec-instal-amt',\n",
              " 'new-accts-in-last-six-months',\n",
              " 'delinquent-accts-in-last-six-months',\n",
              " 'average-acct-age',\n",
              " 'credit-history-length',\n",
              " 'no-of_inquiries',\n",
              " 'loan_default']"
            ]
          },
          "metadata": {},
          "execution_count": 8
        }
      ],
      "source": [
        "[re.sub(r'\\W+','-',i.lower())\n",
        "for i in data.columns ]"
      ]
    },
    {
      "cell_type": "code",
      "execution_count": null,
      "metadata": {
        "id": "J1iWw2BKkj3e"
      },
      "outputs": [],
      "source": [
        "data = data.rename(\n",
        "    columns = {old: re.sub(r'\\W+','_',old).lower()\n",
        "   for old in data.columns}\n",
        ")"
      ]
    },
    {
      "cell_type": "code",
      "execution_count": null,
      "metadata": {
        "colab": {
          "base_uri": "https://localhost:8080/"
        },
        "id": "BKmE-YtuqB3n",
        "outputId": "3fac608a-3912-4266-acdd-3a0b8497c90d"
      },
      "outputs": [
        {
          "output_type": "execute_result",
          "data": {
            "text/plain": [
              "Index(['uniqueid', 'disbursed_amount', 'asset_cost', 'ltv', 'branch_id',\n",
              "       'supplier_id', 'manufacturer_id', 'current_pincode_id', 'date_of_birth',\n",
              "       'employment_type', 'disbursaldate', 'state_id', 'employee_code_id',\n",
              "       'mobileno_avl_flag', 'aadhar_flag', 'pan_flag', 'voterid_flag',\n",
              "       'driving_flag', 'passport_flag', 'perform_cns_score',\n",
              "       'perform_cns_score_description', 'pri_no_of_accts', 'pri_active_accts',\n",
              "       'pri_overdue_accts', 'pri_current_balance', 'pri_sanctioned_amount',\n",
              "       'pri_disbursed_amount', 'sec_no_of_accts', 'sec_active_accts',\n",
              "       'sec_overdue_accts', 'sec_current_balance', 'sec_sanctioned_amount',\n",
              "       'sec_disbursed_amount', 'primary_instal_amt', 'sec_instal_amt',\n",
              "       'new_accts_in_last_six_months', 'delinquent_accts_in_last_six_months',\n",
              "       'average_acct_age', 'credit_history_length', 'no_of_inquiries',\n",
              "       'loan_default'],\n",
              "      dtype='object')"
            ]
          },
          "metadata": {},
          "execution_count": 10
        }
      ],
      "source": [
        "data.columns"
      ]
    },
    {
      "cell_type": "code",
      "execution_count": null,
      "metadata": {
        "colab": {
          "base_uri": "https://localhost:8080/"
        },
        "id": "Ocgj_IbBBiNC",
        "outputId": "7c6d3058-701f-4c23-f257-a5c825d9946d"
      },
      "outputs": [
        {
          "output_type": "execute_result",
          "data": {
            "text/plain": [
              "Index(['uniqueid', 'disbursed_amount', 'asset_cost', 'ltv', 'branch_id',\n",
              "       'supplier_id', 'manufacturer_id', 'current_pincode_id', 'date_of_birth',\n",
              "       'employment_type', 'disbursaldate', 'state_id', 'employee_code_id',\n",
              "       'mobileno_avl_flag', 'aadhar_flag', 'pan_flag', 'voterid_flag',\n",
              "       'driving_flag', 'passport_flag', 'perform_cns_score',\n",
              "       'perform_cns_score_description', 'pri_no_of_accts', 'pri_active_accts',\n",
              "       'pri_overdue_accts', 'pri_current_balance', 'pri_sanctioned_amount',\n",
              "       'pri_disbursed_amount', 'sec_no_of_accts', 'sec_active_accts',\n",
              "       'sec_overdue_accts', 'sec_current_balance', 'sec_sanctioned_amount',\n",
              "       'sec_disbursed_amount', 'primary_instal_amt', 'sec_instal_amt',\n",
              "       'new_accts_in_last_six_months', 'delinquent_accts_in_last_six_months',\n",
              "       'average_acct_age', 'credit_history_length', 'no_of_inquiries',\n",
              "       'loan_default'],\n",
              "      dtype='object')"
            ]
          },
          "metadata": {},
          "execution_count": 11
        }
      ],
      "source": [
        "data.columns"
      ]
    },
    {
      "cell_type": "code",
      "execution_count": null,
      "metadata": {
        "colab": {
          "base_uri": "https://localhost:8080/"
        },
        "id": "n9hnsr_GqQJb",
        "outputId": "56c0cd16-5cc4-4a7d-f62e-dd4b99b32f4d"
      },
      "outputs": [
        {
          "output_type": "execute_result",
          "data": {
            "text/plain": [
              "0         420825\n",
              "1         537409\n",
              "2         417566\n",
              "3         624493\n",
              "4         539055\n",
              "           ...  \n",
              "233149    626432\n",
              "233150    606141\n",
              "233151    613658\n",
              "233152    548084\n",
              "233153    630213\n",
              "Name: uniqueid, Length: 233154, dtype: int64"
            ]
          },
          "metadata": {},
          "execution_count": 12
        }
      ],
      "source": [
        "data.uniqueid"
      ]
    },
    {
      "cell_type": "code",
      "execution_count": null,
      "metadata": {
        "id": "no5mJl_Zqjcc"
      },
      "outputs": [],
      "source": [
        " data = data.merge(branch, on ='branch_id', how='left')"
      ]
    },
    {
      "cell_type": "code",
      "execution_count": null,
      "metadata": {
        "id": "TWVmY9ed1E7z"
      },
      "outputs": [],
      "source": [
        "data = data.merge(manufacturer, on ='manufacturer_id', how='left')"
      ]
    },
    {
      "cell_type": "code",
      "execution_count": null,
      "metadata": {
        "id": "7UN6cRzU15Wo"
      },
      "outputs": [],
      "source": [
        "data = data.merge(state, on ='state_id', how='left')"
      ]
    },
    {
      "cell_type": "code",
      "execution_count": null,
      "metadata": {
        "colab": {
          "base_uri": "https://localhost:8080/"
        },
        "id": "ZmL2Kz_v2D65",
        "outputId": "7c0a6e21-fde2-4e0c-bb87-139551a53da4"
      },
      "outputs": [
        {
          "output_type": "execute_result",
          "data": {
            "text/plain": [
              "Index(['uniqueid', 'disbursed_amount', 'asset_cost', 'ltv', 'branch_id',\n",
              "       'supplier_id', 'manufacturer_id', 'current_pincode_id', 'date_of_birth',\n",
              "       'employment_type', 'disbursaldate', 'state_id', 'employee_code_id',\n",
              "       'mobileno_avl_flag', 'aadhar_flag', 'pan_flag', 'voterid_flag',\n",
              "       'driving_flag', 'passport_flag', 'perform_cns_score',\n",
              "       'perform_cns_score_description', 'pri_no_of_accts', 'pri_active_accts',\n",
              "       'pri_overdue_accts', 'pri_current_balance', 'pri_sanctioned_amount',\n",
              "       'pri_disbursed_amount', 'sec_no_of_accts', 'sec_active_accts',\n",
              "       'sec_overdue_accts', 'sec_current_balance', 'sec_sanctioned_amount',\n",
              "       'sec_disbursed_amount', 'primary_instal_amt', 'sec_instal_amt',\n",
              "       'new_accts_in_last_six_months', 'delinquent_accts_in_last_six_months',\n",
              "       'average_acct_age', 'credit_history_length', 'no_of_inquiries',\n",
              "       'loan_default', 'event_count_branch', 'event_count_manufacturer',\n",
              "       'event_state'],\n",
              "      dtype='object')"
            ]
          },
          "metadata": {},
          "execution_count": 16
        }
      ],
      "source": [
        "data.columns"
      ]
    },
    {
      "cell_type": "code",
      "execution_count": null,
      "metadata": {
        "colab": {
          "base_uri": "https://localhost:8080/"
        },
        "id": "X6edT2an2RRU",
        "outputId": "d0d910b3-8b8d-404a-bc9d-d1c298f7d557"
      },
      "outputs": [
        {
          "output_type": "execute_result",
          "data": {
            "text/plain": [
              "(233154, 44)"
            ]
          },
          "metadata": {},
          "execution_count": 17
        }
      ],
      "source": [
        "data.shape"
      ]
    },
    {
      "cell_type": "code",
      "execution_count": null,
      "metadata": {
        "colab": {
          "base_uri": "https://localhost:8080/"
        },
        "id": "Xpae9cet2awU",
        "outputId": "f115648b-abee-46aa-ce00-3916de6b7b2b"
      },
      "outputs": [
        {
          "output_type": "execute_result",
          "data": {
            "text/plain": [
              "uniqueid                                 int64\n",
              "disbursed_amount                         int64\n",
              "asset_cost                               int64\n",
              "ltv                                    float64\n",
              "branch_id                                int64\n",
              "supplier_id                              int64\n",
              "manufacturer_id                          int64\n",
              "current_pincode_id                       int64\n",
              "date_of_birth                           object\n",
              "employment_type                         object\n",
              "disbursaldate                           object\n",
              "state_id                                 int64\n",
              "employee_code_id                         int64\n",
              "mobileno_avl_flag                        int64\n",
              "aadhar_flag                              int64\n",
              "pan_flag                                 int64\n",
              "voterid_flag                             int64\n",
              "driving_flag                             int64\n",
              "passport_flag                            int64\n",
              "perform_cns_score                        int64\n",
              "perform_cns_score_description           object\n",
              "pri_no_of_accts                          int64\n",
              "pri_active_accts                         int64\n",
              "pri_overdue_accts                        int64\n",
              "pri_current_balance                      int64\n",
              "pri_sanctioned_amount                    int64\n",
              "pri_disbursed_amount                     int64\n",
              "sec_no_of_accts                          int64\n",
              "sec_active_accts                         int64\n",
              "sec_overdue_accts                        int64\n",
              "sec_current_balance                      int64\n",
              "sec_sanctioned_amount                    int64\n",
              "sec_disbursed_amount                     int64\n",
              "primary_instal_amt                       int64\n",
              "sec_instal_amt                           int64\n",
              "new_accts_in_last_six_months             int64\n",
              "delinquent_accts_in_last_six_months      int64\n",
              "average_acct_age                        object\n",
              "credit_history_length                   object\n",
              "no_of_inquiries                          int64\n",
              "loan_default                             int64\n",
              "event_count_branch                       int64\n",
              "event_count_manufacturer                 int64\n",
              "event_state                              int64\n",
              "dtype: object"
            ]
          },
          "metadata": {},
          "execution_count": 18
        }
      ],
      "source": [
        "data.dtypes"
      ]
    },
    {
      "cell_type": "code",
      "execution_count": null,
      "metadata": {
        "colab": {
          "base_uri": "https://localhost:8080/",
          "height": 443
        },
        "id": "4_nekCQU2naI",
        "outputId": "211539de-7fd9-4bfc-aada-7caf3c9558d9"
      },
      "outputs": [
        {
          "output_type": "execute_result",
          "data": {
            "text/plain": [
              "             uniqueid  disbursed_amount    asset_cost            ltv  \\\n",
              "count   233154.000000     233154.000000  2.331540e+05  233154.000000   \n",
              "unique            NaN               NaN           NaN            NaN   \n",
              "top               NaN               NaN           NaN            NaN   \n",
              "freq              NaN               NaN           NaN            NaN   \n",
              "mean    535917.573376      54356.993528  7.586507e+04      74.746530   \n",
              "std      68315.693711      12971.314171  1.894478e+04      11.456636   \n",
              "min     417428.000000      13320.000000  3.700000e+04      10.030000   \n",
              "25%     476786.250000      47145.000000  6.571700e+04      68.880000   \n",
              "50%     535978.500000      53803.000000  7.094600e+04      76.800000   \n",
              "75%     595039.750000      60413.000000  7.920175e+04      83.670000   \n",
              "max     671084.000000     990572.000000  1.628992e+06      95.000000   \n",
              "\n",
              "            branch_id    supplier_id  manufacturer_id  current_pincode_id  \\\n",
              "count   233154.000000  233154.000000    233154.000000       233154.000000   \n",
              "unique            NaN            NaN              NaN                 NaN   \n",
              "top               NaN            NaN              NaN                 NaN   \n",
              "freq              NaN            NaN              NaN                 NaN   \n",
              "mean        72.936094   19638.635035        69.028054         3396.880247   \n",
              "std         69.834995    3491.949566        22.141304         2238.147502   \n",
              "min          1.000000   10524.000000        45.000000            1.000000   \n",
              "25%         14.000000   16535.000000        48.000000         1511.000000   \n",
              "50%         61.000000   20333.000000        86.000000         2970.000000   \n",
              "75%        130.000000   23000.000000        86.000000         5677.000000   \n",
              "max        261.000000   24803.000000       156.000000         7345.000000   \n",
              "\n",
              "       date_of_birth employment_type  ... sec_instal_amt  \\\n",
              "count         233154          225493  ...   2.331540e+05   \n",
              "unique         15433               2  ...            NaN   \n",
              "top       01-01-1988   Self employed  ...            NaN   \n",
              "freq            2173          127635  ...            NaN   \n",
              "mean             NaN             NaN  ...   3.232684e+02   \n",
              "std              NaN             NaN  ...   1.555369e+04   \n",
              "min              NaN             NaN  ...   0.000000e+00   \n",
              "25%              NaN             NaN  ...   0.000000e+00   \n",
              "50%              NaN             NaN  ...   0.000000e+00   \n",
              "75%              NaN             NaN  ...   0.000000e+00   \n",
              "max              NaN             NaN  ...   4.170901e+06   \n",
              "\n",
              "        new_accts_in_last_six_months  delinquent_accts_in_last_six_months  \\\n",
              "count                  233154.000000                        233154.000000   \n",
              "unique                           NaN                                  NaN   \n",
              "top                              NaN                                  NaN   \n",
              "freq                             NaN                                  NaN   \n",
              "mean                        0.381833                             0.097481   \n",
              "std                         0.955107                             0.384439   \n",
              "min                         0.000000                             0.000000   \n",
              "25%                         0.000000                             0.000000   \n",
              "50%                         0.000000                             0.000000   \n",
              "75%                         0.000000                             0.000000   \n",
              "max                        35.000000                            20.000000   \n",
              "\n",
              "        average_acct_age  credit_history_length  no_of_inquiries  \\\n",
              "count             233154                 233154    233154.000000   \n",
              "unique               192                    294              NaN   \n",
              "top            0yrs 0mon              0yrs 0mon              NaN   \n",
              "freq              119373                 119127              NaN   \n",
              "mean                 NaN                    NaN         0.206615   \n",
              "std                  NaN                    NaN         0.706498   \n",
              "min                  NaN                    NaN         0.000000   \n",
              "25%                  NaN                    NaN         0.000000   \n",
              "50%                  NaN                    NaN         0.000000   \n",
              "75%                  NaN                    NaN         0.000000   \n",
              "max                  NaN                    NaN        36.000000   \n",
              "\n",
              "         loan_default  event_count_branch  event_count_manufacturer  \\\n",
              "count   233154.000000       233154.000000             233154.000000   \n",
              "unique            NaN                 NaN                       NaN   \n",
              "top               NaN                 NaN                       NaN   \n",
              "freq              NaN                 NaN                       NaN   \n",
              "mean         0.322439         1000.269328              15163.381203   \n",
              "std          0.467411          866.707737               8004.082565   \n",
              "min          0.000000            3.000000                  0.000000   \n",
              "25%          0.000000          253.000000               9786.000000   \n",
              "50%          0.000000          900.000000              12149.000000   \n",
              "75%          1.000000         1506.000000              22987.000000   \n",
              "max          1.000000         3412.000000              22987.000000   \n",
              "\n",
              "          event_state  \n",
              "count   233154.000000  \n",
              "unique            NaN  \n",
              "top               NaN  \n",
              "freq              NaN  \n",
              "mean      4292.148413  \n",
              "std       2703.712160  \n",
              "min         18.000000  \n",
              "25%       2036.000000  \n",
              "50%       2923.000000  \n",
              "75%       7311.000000  \n",
              "max       7387.000000  \n",
              "\n",
              "[11 rows x 44 columns]"
            ],
            "text/html": [
              "\n",
              "  <div id=\"df-b6814904-37a5-4615-9f12-6b3345457854\" class=\"colab-df-container\">\n",
              "    <div>\n",
              "<style scoped>\n",
              "    .dataframe tbody tr th:only-of-type {\n",
              "        vertical-align: middle;\n",
              "    }\n",
              "\n",
              "    .dataframe tbody tr th {\n",
              "        vertical-align: top;\n",
              "    }\n",
              "\n",
              "    .dataframe thead th {\n",
              "        text-align: right;\n",
              "    }\n",
              "</style>\n",
              "<table border=\"1\" class=\"dataframe\">\n",
              "  <thead>\n",
              "    <tr style=\"text-align: right;\">\n",
              "      <th></th>\n",
              "      <th>uniqueid</th>\n",
              "      <th>disbursed_amount</th>\n",
              "      <th>asset_cost</th>\n",
              "      <th>ltv</th>\n",
              "      <th>branch_id</th>\n",
              "      <th>supplier_id</th>\n",
              "      <th>manufacturer_id</th>\n",
              "      <th>current_pincode_id</th>\n",
              "      <th>date_of_birth</th>\n",
              "      <th>employment_type</th>\n",
              "      <th>...</th>\n",
              "      <th>sec_instal_amt</th>\n",
              "      <th>new_accts_in_last_six_months</th>\n",
              "      <th>delinquent_accts_in_last_six_months</th>\n",
              "      <th>average_acct_age</th>\n",
              "      <th>credit_history_length</th>\n",
              "      <th>no_of_inquiries</th>\n",
              "      <th>loan_default</th>\n",
              "      <th>event_count_branch</th>\n",
              "      <th>event_count_manufacturer</th>\n",
              "      <th>event_state</th>\n",
              "    </tr>\n",
              "  </thead>\n",
              "  <tbody>\n",
              "    <tr>\n",
              "      <th>count</th>\n",
              "      <td>233154.000000</td>\n",
              "      <td>233154.000000</td>\n",
              "      <td>2.331540e+05</td>\n",
              "      <td>233154.000000</td>\n",
              "      <td>233154.000000</td>\n",
              "      <td>233154.000000</td>\n",
              "      <td>233154.000000</td>\n",
              "      <td>233154.000000</td>\n",
              "      <td>233154</td>\n",
              "      <td>225493</td>\n",
              "      <td>...</td>\n",
              "      <td>2.331540e+05</td>\n",
              "      <td>233154.000000</td>\n",
              "      <td>233154.000000</td>\n",
              "      <td>233154</td>\n",
              "      <td>233154</td>\n",
              "      <td>233154.000000</td>\n",
              "      <td>233154.000000</td>\n",
              "      <td>233154.000000</td>\n",
              "      <td>233154.000000</td>\n",
              "      <td>233154.000000</td>\n",
              "    </tr>\n",
              "    <tr>\n",
              "      <th>unique</th>\n",
              "      <td>NaN</td>\n",
              "      <td>NaN</td>\n",
              "      <td>NaN</td>\n",
              "      <td>NaN</td>\n",
              "      <td>NaN</td>\n",
              "      <td>NaN</td>\n",
              "      <td>NaN</td>\n",
              "      <td>NaN</td>\n",
              "      <td>15433</td>\n",
              "      <td>2</td>\n",
              "      <td>...</td>\n",
              "      <td>NaN</td>\n",
              "      <td>NaN</td>\n",
              "      <td>NaN</td>\n",
              "      <td>192</td>\n",
              "      <td>294</td>\n",
              "      <td>NaN</td>\n",
              "      <td>NaN</td>\n",
              "      <td>NaN</td>\n",
              "      <td>NaN</td>\n",
              "      <td>NaN</td>\n",
              "    </tr>\n",
              "    <tr>\n",
              "      <th>top</th>\n",
              "      <td>NaN</td>\n",
              "      <td>NaN</td>\n",
              "      <td>NaN</td>\n",
              "      <td>NaN</td>\n",
              "      <td>NaN</td>\n",
              "      <td>NaN</td>\n",
              "      <td>NaN</td>\n",
              "      <td>NaN</td>\n",
              "      <td>01-01-1988</td>\n",
              "      <td>Self employed</td>\n",
              "      <td>...</td>\n",
              "      <td>NaN</td>\n",
              "      <td>NaN</td>\n",
              "      <td>NaN</td>\n",
              "      <td>0yrs 0mon</td>\n",
              "      <td>0yrs 0mon</td>\n",
              "      <td>NaN</td>\n",
              "      <td>NaN</td>\n",
              "      <td>NaN</td>\n",
              "      <td>NaN</td>\n",
              "      <td>NaN</td>\n",
              "    </tr>\n",
              "    <tr>\n",
              "      <th>freq</th>\n",
              "      <td>NaN</td>\n",
              "      <td>NaN</td>\n",
              "      <td>NaN</td>\n",
              "      <td>NaN</td>\n",
              "      <td>NaN</td>\n",
              "      <td>NaN</td>\n",
              "      <td>NaN</td>\n",
              "      <td>NaN</td>\n",
              "      <td>2173</td>\n",
              "      <td>127635</td>\n",
              "      <td>...</td>\n",
              "      <td>NaN</td>\n",
              "      <td>NaN</td>\n",
              "      <td>NaN</td>\n",
              "      <td>119373</td>\n",
              "      <td>119127</td>\n",
              "      <td>NaN</td>\n",
              "      <td>NaN</td>\n",
              "      <td>NaN</td>\n",
              "      <td>NaN</td>\n",
              "      <td>NaN</td>\n",
              "    </tr>\n",
              "    <tr>\n",
              "      <th>mean</th>\n",
              "      <td>535917.573376</td>\n",
              "      <td>54356.993528</td>\n",
              "      <td>7.586507e+04</td>\n",
              "      <td>74.746530</td>\n",
              "      <td>72.936094</td>\n",
              "      <td>19638.635035</td>\n",
              "      <td>69.028054</td>\n",
              "      <td>3396.880247</td>\n",
              "      <td>NaN</td>\n",
              "      <td>NaN</td>\n",
              "      <td>...</td>\n",
              "      <td>3.232684e+02</td>\n",
              "      <td>0.381833</td>\n",
              "      <td>0.097481</td>\n",
              "      <td>NaN</td>\n",
              "      <td>NaN</td>\n",
              "      <td>0.206615</td>\n",
              "      <td>0.322439</td>\n",
              "      <td>1000.269328</td>\n",
              "      <td>15163.381203</td>\n",
              "      <td>4292.148413</td>\n",
              "    </tr>\n",
              "    <tr>\n",
              "      <th>std</th>\n",
              "      <td>68315.693711</td>\n",
              "      <td>12971.314171</td>\n",
              "      <td>1.894478e+04</td>\n",
              "      <td>11.456636</td>\n",
              "      <td>69.834995</td>\n",
              "      <td>3491.949566</td>\n",
              "      <td>22.141304</td>\n",
              "      <td>2238.147502</td>\n",
              "      <td>NaN</td>\n",
              "      <td>NaN</td>\n",
              "      <td>...</td>\n",
              "      <td>1.555369e+04</td>\n",
              "      <td>0.955107</td>\n",
              "      <td>0.384439</td>\n",
              "      <td>NaN</td>\n",
              "      <td>NaN</td>\n",
              "      <td>0.706498</td>\n",
              "      <td>0.467411</td>\n",
              "      <td>866.707737</td>\n",
              "      <td>8004.082565</td>\n",
              "      <td>2703.712160</td>\n",
              "    </tr>\n",
              "    <tr>\n",
              "      <th>min</th>\n",
              "      <td>417428.000000</td>\n",
              "      <td>13320.000000</td>\n",
              "      <td>3.700000e+04</td>\n",
              "      <td>10.030000</td>\n",
              "      <td>1.000000</td>\n",
              "      <td>10524.000000</td>\n",
              "      <td>45.000000</td>\n",
              "      <td>1.000000</td>\n",
              "      <td>NaN</td>\n",
              "      <td>NaN</td>\n",
              "      <td>...</td>\n",
              "      <td>0.000000e+00</td>\n",
              "      <td>0.000000</td>\n",
              "      <td>0.000000</td>\n",
              "      <td>NaN</td>\n",
              "      <td>NaN</td>\n",
              "      <td>0.000000</td>\n",
              "      <td>0.000000</td>\n",
              "      <td>3.000000</td>\n",
              "      <td>0.000000</td>\n",
              "      <td>18.000000</td>\n",
              "    </tr>\n",
              "    <tr>\n",
              "      <th>25%</th>\n",
              "      <td>476786.250000</td>\n",
              "      <td>47145.000000</td>\n",
              "      <td>6.571700e+04</td>\n",
              "      <td>68.880000</td>\n",
              "      <td>14.000000</td>\n",
              "      <td>16535.000000</td>\n",
              "      <td>48.000000</td>\n",
              "      <td>1511.000000</td>\n",
              "      <td>NaN</td>\n",
              "      <td>NaN</td>\n",
              "      <td>...</td>\n",
              "      <td>0.000000e+00</td>\n",
              "      <td>0.000000</td>\n",
              "      <td>0.000000</td>\n",
              "      <td>NaN</td>\n",
              "      <td>NaN</td>\n",
              "      <td>0.000000</td>\n",
              "      <td>0.000000</td>\n",
              "      <td>253.000000</td>\n",
              "      <td>9786.000000</td>\n",
              "      <td>2036.000000</td>\n",
              "    </tr>\n",
              "    <tr>\n",
              "      <th>50%</th>\n",
              "      <td>535978.500000</td>\n",
              "      <td>53803.000000</td>\n",
              "      <td>7.094600e+04</td>\n",
              "      <td>76.800000</td>\n",
              "      <td>61.000000</td>\n",
              "      <td>20333.000000</td>\n",
              "      <td>86.000000</td>\n",
              "      <td>2970.000000</td>\n",
              "      <td>NaN</td>\n",
              "      <td>NaN</td>\n",
              "      <td>...</td>\n",
              "      <td>0.000000e+00</td>\n",
              "      <td>0.000000</td>\n",
              "      <td>0.000000</td>\n",
              "      <td>NaN</td>\n",
              "      <td>NaN</td>\n",
              "      <td>0.000000</td>\n",
              "      <td>0.000000</td>\n",
              "      <td>900.000000</td>\n",
              "      <td>12149.000000</td>\n",
              "      <td>2923.000000</td>\n",
              "    </tr>\n",
              "    <tr>\n",
              "      <th>75%</th>\n",
              "      <td>595039.750000</td>\n",
              "      <td>60413.000000</td>\n",
              "      <td>7.920175e+04</td>\n",
              "      <td>83.670000</td>\n",
              "      <td>130.000000</td>\n",
              "      <td>23000.000000</td>\n",
              "      <td>86.000000</td>\n",
              "      <td>5677.000000</td>\n",
              "      <td>NaN</td>\n",
              "      <td>NaN</td>\n",
              "      <td>...</td>\n",
              "      <td>0.000000e+00</td>\n",
              "      <td>0.000000</td>\n",
              "      <td>0.000000</td>\n",
              "      <td>NaN</td>\n",
              "      <td>NaN</td>\n",
              "      <td>0.000000</td>\n",
              "      <td>1.000000</td>\n",
              "      <td>1506.000000</td>\n",
              "      <td>22987.000000</td>\n",
              "      <td>7311.000000</td>\n",
              "    </tr>\n",
              "    <tr>\n",
              "      <th>max</th>\n",
              "      <td>671084.000000</td>\n",
              "      <td>990572.000000</td>\n",
              "      <td>1.628992e+06</td>\n",
              "      <td>95.000000</td>\n",
              "      <td>261.000000</td>\n",
              "      <td>24803.000000</td>\n",
              "      <td>156.000000</td>\n",
              "      <td>7345.000000</td>\n",
              "      <td>NaN</td>\n",
              "      <td>NaN</td>\n",
              "      <td>...</td>\n",
              "      <td>4.170901e+06</td>\n",
              "      <td>35.000000</td>\n",
              "      <td>20.000000</td>\n",
              "      <td>NaN</td>\n",
              "      <td>NaN</td>\n",
              "      <td>36.000000</td>\n",
              "      <td>1.000000</td>\n",
              "      <td>3412.000000</td>\n",
              "      <td>22987.000000</td>\n",
              "      <td>7387.000000</td>\n",
              "    </tr>\n",
              "  </tbody>\n",
              "</table>\n",
              "<p>11 rows × 44 columns</p>\n",
              "</div>\n",
              "    <div class=\"colab-df-buttons\">\n",
              "\n",
              "  <div class=\"colab-df-container\">\n",
              "    <button class=\"colab-df-convert\" onclick=\"convertToInteractive('df-b6814904-37a5-4615-9f12-6b3345457854')\"\n",
              "            title=\"Convert this dataframe to an interactive table.\"\n",
              "            style=\"display:none;\">\n",
              "\n",
              "  <svg xmlns=\"http://www.w3.org/2000/svg\" height=\"24px\" viewBox=\"0 -960 960 960\">\n",
              "    <path d=\"M120-120v-720h720v720H120Zm60-500h600v-160H180v160Zm220 220h160v-160H400v160Zm0 220h160v-160H400v160ZM180-400h160v-160H180v160Zm440 0h160v-160H620v160ZM180-180h160v-160H180v160Zm440 0h160v-160H620v160Z\"/>\n",
              "  </svg>\n",
              "    </button>\n",
              "\n",
              "  <style>\n",
              "    .colab-df-container {\n",
              "      display:flex;\n",
              "      gap: 12px;\n",
              "    }\n",
              "\n",
              "    .colab-df-convert {\n",
              "      background-color: #E8F0FE;\n",
              "      border: none;\n",
              "      border-radius: 50%;\n",
              "      cursor: pointer;\n",
              "      display: none;\n",
              "      fill: #1967D2;\n",
              "      height: 32px;\n",
              "      padding: 0 0 0 0;\n",
              "      width: 32px;\n",
              "    }\n",
              "\n",
              "    .colab-df-convert:hover {\n",
              "      background-color: #E2EBFA;\n",
              "      box-shadow: 0px 1px 2px rgba(60, 64, 67, 0.3), 0px 1px 3px 1px rgba(60, 64, 67, 0.15);\n",
              "      fill: #174EA6;\n",
              "    }\n",
              "\n",
              "    .colab-df-buttons div {\n",
              "      margin-bottom: 4px;\n",
              "    }\n",
              "\n",
              "    [theme=dark] .colab-df-convert {\n",
              "      background-color: #3B4455;\n",
              "      fill: #D2E3FC;\n",
              "    }\n",
              "\n",
              "    [theme=dark] .colab-df-convert:hover {\n",
              "      background-color: #434B5C;\n",
              "      box-shadow: 0px 1px 3px 1px rgba(0, 0, 0, 0.15);\n",
              "      filter: drop-shadow(0px 1px 2px rgba(0, 0, 0, 0.3));\n",
              "      fill: #FFFFFF;\n",
              "    }\n",
              "  </style>\n",
              "\n",
              "    <script>\n",
              "      const buttonEl =\n",
              "        document.querySelector('#df-b6814904-37a5-4615-9f12-6b3345457854 button.colab-df-convert');\n",
              "      buttonEl.style.display =\n",
              "        google.colab.kernel.accessAllowed ? 'block' : 'none';\n",
              "\n",
              "      async function convertToInteractive(key) {\n",
              "        const element = document.querySelector('#df-b6814904-37a5-4615-9f12-6b3345457854');\n",
              "        const dataTable =\n",
              "          await google.colab.kernel.invokeFunction('convertToInteractive',\n",
              "                                                    [key], {});\n",
              "        if (!dataTable) return;\n",
              "\n",
              "        const docLinkHtml = 'Like what you see? Visit the ' +\n",
              "          '<a target=\"_blank\" href=https://colab.research.google.com/notebooks/data_table.ipynb>data table notebook</a>'\n",
              "          + ' to learn more about interactive tables.';\n",
              "        element.innerHTML = '';\n",
              "        dataTable['output_type'] = 'display_data';\n",
              "        await google.colab.output.renderOutput(dataTable, element);\n",
              "        const docLink = document.createElement('div');\n",
              "        docLink.innerHTML = docLinkHtml;\n",
              "        element.appendChild(docLink);\n",
              "      }\n",
              "    </script>\n",
              "  </div>\n",
              "\n",
              "\n",
              "<div id=\"df-e741a917-9db3-41c4-a861-a00d0cfc4639\">\n",
              "  <button class=\"colab-df-quickchart\" onclick=\"quickchart('df-e741a917-9db3-41c4-a861-a00d0cfc4639')\"\n",
              "            title=\"Suggest charts\"\n",
              "            style=\"display:none;\">\n",
              "\n",
              "<svg xmlns=\"http://www.w3.org/2000/svg\" height=\"24px\"viewBox=\"0 0 24 24\"\n",
              "     width=\"24px\">\n",
              "    <g>\n",
              "        <path d=\"M19 3H5c-1.1 0-2 .9-2 2v14c0 1.1.9 2 2 2h14c1.1 0 2-.9 2-2V5c0-1.1-.9-2-2-2zM9 17H7v-7h2v7zm4 0h-2V7h2v10zm4 0h-2v-4h2v4z\"/>\n",
              "    </g>\n",
              "</svg>\n",
              "  </button>\n",
              "\n",
              "<style>\n",
              "  .colab-df-quickchart {\n",
              "      --bg-color: #E8F0FE;\n",
              "      --fill-color: #1967D2;\n",
              "      --hover-bg-color: #E2EBFA;\n",
              "      --hover-fill-color: #174EA6;\n",
              "      --disabled-fill-color: #AAA;\n",
              "      --disabled-bg-color: #DDD;\n",
              "  }\n",
              "\n",
              "  [theme=dark] .colab-df-quickchart {\n",
              "      --bg-color: #3B4455;\n",
              "      --fill-color: #D2E3FC;\n",
              "      --hover-bg-color: #434B5C;\n",
              "      --hover-fill-color: #FFFFFF;\n",
              "      --disabled-bg-color: #3B4455;\n",
              "      --disabled-fill-color: #666;\n",
              "  }\n",
              "\n",
              "  .colab-df-quickchart {\n",
              "    background-color: var(--bg-color);\n",
              "    border: none;\n",
              "    border-radius: 50%;\n",
              "    cursor: pointer;\n",
              "    display: none;\n",
              "    fill: var(--fill-color);\n",
              "    height: 32px;\n",
              "    padding: 0;\n",
              "    width: 32px;\n",
              "  }\n",
              "\n",
              "  .colab-df-quickchart:hover {\n",
              "    background-color: var(--hover-bg-color);\n",
              "    box-shadow: 0 1px 2px rgba(60, 64, 67, 0.3), 0 1px 3px 1px rgba(60, 64, 67, 0.15);\n",
              "    fill: var(--button-hover-fill-color);\n",
              "  }\n",
              "\n",
              "  .colab-df-quickchart-complete:disabled,\n",
              "  .colab-df-quickchart-complete:disabled:hover {\n",
              "    background-color: var(--disabled-bg-color);\n",
              "    fill: var(--disabled-fill-color);\n",
              "    box-shadow: none;\n",
              "  }\n",
              "\n",
              "  .colab-df-spinner {\n",
              "    border: 2px solid var(--fill-color);\n",
              "    border-color: transparent;\n",
              "    border-bottom-color: var(--fill-color);\n",
              "    animation:\n",
              "      spin 1s steps(1) infinite;\n",
              "  }\n",
              "\n",
              "  @keyframes spin {\n",
              "    0% {\n",
              "      border-color: transparent;\n",
              "      border-bottom-color: var(--fill-color);\n",
              "      border-left-color: var(--fill-color);\n",
              "    }\n",
              "    20% {\n",
              "      border-color: transparent;\n",
              "      border-left-color: var(--fill-color);\n",
              "      border-top-color: var(--fill-color);\n",
              "    }\n",
              "    30% {\n",
              "      border-color: transparent;\n",
              "      border-left-color: var(--fill-color);\n",
              "      border-top-color: var(--fill-color);\n",
              "      border-right-color: var(--fill-color);\n",
              "    }\n",
              "    40% {\n",
              "      border-color: transparent;\n",
              "      border-right-color: var(--fill-color);\n",
              "      border-top-color: var(--fill-color);\n",
              "    }\n",
              "    60% {\n",
              "      border-color: transparent;\n",
              "      border-right-color: var(--fill-color);\n",
              "    }\n",
              "    80% {\n",
              "      border-color: transparent;\n",
              "      border-right-color: var(--fill-color);\n",
              "      border-bottom-color: var(--fill-color);\n",
              "    }\n",
              "    90% {\n",
              "      border-color: transparent;\n",
              "      border-bottom-color: var(--fill-color);\n",
              "    }\n",
              "  }\n",
              "</style>\n",
              "\n",
              "  <script>\n",
              "    async function quickchart(key) {\n",
              "      const quickchartButtonEl =\n",
              "        document.querySelector('#' + key + ' button');\n",
              "      quickchartButtonEl.disabled = true;  // To prevent multiple clicks.\n",
              "      quickchartButtonEl.classList.add('colab-df-spinner');\n",
              "      try {\n",
              "        const charts = await google.colab.kernel.invokeFunction(\n",
              "            'suggestCharts', [key], {});\n",
              "      } catch (error) {\n",
              "        console.error('Error during call to suggestCharts:', error);\n",
              "      }\n",
              "      quickchartButtonEl.classList.remove('colab-df-spinner');\n",
              "      quickchartButtonEl.classList.add('colab-df-quickchart-complete');\n",
              "    }\n",
              "    (() => {\n",
              "      let quickchartButtonEl =\n",
              "        document.querySelector('#df-e741a917-9db3-41c4-a861-a00d0cfc4639 button');\n",
              "      quickchartButtonEl.style.display =\n",
              "        google.colab.kernel.accessAllowed ? 'block' : 'none';\n",
              "    })();\n",
              "  </script>\n",
              "</div>\n",
              "\n",
              "    </div>\n",
              "  </div>\n"
            ]
          },
          "metadata": {},
          "execution_count": 19
        }
      ],
      "source": [
        "data.describe(include='all',\n",
        "              datetime_is_numeric=True)"
      ]
    },
    {
      "cell_type": "code",
      "execution_count": null,
      "metadata": {
        "colab": {
          "base_uri": "https://localhost:8080/"
        },
        "id": "2qjKhbhi3t9Y",
        "outputId": "d4ef5b21-781d-4cc8-8539-34627539acb3"
      },
      "outputs": [
        {
          "output_type": "execute_result",
          "data": {
            "text/plain": [
              "float"
            ]
          },
          "metadata": {},
          "execution_count": 20
        }
      ],
      "source": [
        "type(np.nan)"
      ]
    },
    {
      "cell_type": "code",
      "execution_count": null,
      "metadata": {
        "colab": {
          "base_uri": "https://localhost:8080/"
        },
        "id": "JkTX_y4jaWoP",
        "outputId": "62c12797-4cba-48bb-9c4b-643f8dbb8848"
      },
      "outputs": [
        {
          "output_type": "execute_result",
          "data": {
            "text/plain": [
              "uniqueid                                  0\n",
              "disbursed_amount                          0\n",
              "asset_cost                                0\n",
              "ltv                                       0\n",
              "branch_id                                 0\n",
              "supplier_id                               0\n",
              "manufacturer_id                           0\n",
              "current_pincode_id                        0\n",
              "date_of_birth                             0\n",
              "employment_type                        7661\n",
              "disbursaldate                             0\n",
              "state_id                                  0\n",
              "employee_code_id                          0\n",
              "mobileno_avl_flag                         0\n",
              "aadhar_flag                               0\n",
              "pan_flag                                  0\n",
              "voterid_flag                              0\n",
              "driving_flag                              0\n",
              "passport_flag                             0\n",
              "perform_cns_score                         0\n",
              "perform_cns_score_description             0\n",
              "pri_no_of_accts                           0\n",
              "pri_active_accts                          0\n",
              "pri_overdue_accts                         0\n",
              "pri_current_balance                       0\n",
              "pri_sanctioned_amount                     0\n",
              "pri_disbursed_amount                      0\n",
              "sec_no_of_accts                           0\n",
              "sec_active_accts                          0\n",
              "sec_overdue_accts                         0\n",
              "sec_current_balance                       0\n",
              "sec_sanctioned_amount                     0\n",
              "sec_disbursed_amount                      0\n",
              "primary_instal_amt                        0\n",
              "sec_instal_amt                            0\n",
              "new_accts_in_last_six_months              0\n",
              "delinquent_accts_in_last_six_months       0\n",
              "average_acct_age                          0\n",
              "credit_history_length                     0\n",
              "no_of_inquiries                           0\n",
              "loan_default                              0\n",
              "event_count_branch                        0\n",
              "event_count_manufacturer                  0\n",
              "event_state                               0\n",
              "dtype: int64"
            ]
          },
          "metadata": {},
          "execution_count": 21
        }
      ],
      "source": [
        "data.isnull().sum()"
      ]
    },
    {
      "cell_type": "code",
      "execution_count": null,
      "metadata": {
        "colab": {
          "base_uri": "https://localhost:8080/"
        },
        "id": "eGfHrrxFgs5U",
        "outputId": "4cd5eb48-f981-4aaa-a241-6bd98bf94d55"
      },
      "outputs": [
        {
          "output_type": "execute_result",
          "data": {
            "text/plain": [
              "0    157976\n",
              "1     75178\n",
              "Name: loan_default, dtype: int64"
            ]
          },
          "metadata": {},
          "execution_count": 22
        }
      ],
      "source": [
        "data.loan_default.value_counts()"
      ]
    },
    {
      "cell_type": "code",
      "execution_count": null,
      "metadata": {
        "colab": {
          "base_uri": "https://localhost:8080/"
        },
        "id": "TuoJvS9Fh8ab",
        "outputId": "7461962c-e1b6-4430-9a9d-18540355626d"
      },
      "outputs": [
        {
          "output_type": "execute_result",
          "data": {
            "text/plain": [
              "0    0.677561\n",
              "1    0.322439\n",
              "Name: loan_default, dtype: float64"
            ]
          },
          "metadata": {},
          "execution_count": 23
        }
      ],
      "source": [
        "data.loan_default.value_counts(normalize=True)"
      ]
    },
    {
      "cell_type": "code",
      "execution_count": null,
      "metadata": {
        "id": "mpmsNun4q1Ny"
      },
      "outputs": [],
      "source": [
        "\n",
        "\n",
        "##removing noisy data\n",
        "## data preprocessing starts here b"
      ]
    },
    {
      "cell_type": "code",
      "execution_count": null,
      "metadata": {
        "id": "InGP0jsriDSi"
      },
      "outputs": [],
      "source": [
        "id_cols = set(data.columns[[item.endswith('id') for item in data.columns]])"
      ]
    },
    {
      "cell_type": "code",
      "execution_count": null,
      "metadata": {
        "id": "pDmPyDpenChw"
      },
      "outputs": [],
      "source": [
        "target = 'loan_default'"
      ]
    },
    {
      "cell_type": "code",
      "execution_count": null,
      "metadata": {
        "id": "8w50ggnxnqHk"
      },
      "outputs": [],
      "source": [
        "id_cols.add(target)"
      ]
    },
    {
      "cell_type": "code",
      "execution_count": null,
      "metadata": {
        "colab": {
          "base_uri": "https://localhost:8080/"
        },
        "id": "Zn8upELWl0vx",
        "outputId": "b69cfb08-938f-4f79-cbf6-a5c045173d0b"
      },
      "outputs": [
        {
          "output_type": "execute_result",
          "data": {
            "text/plain": [
              "{'branch_id',\n",
              " 'current_pincode_id',\n",
              " 'employee_code_id',\n",
              " 'loan_default',\n",
              " 'manufacturer_id',\n",
              " 'state_id',\n",
              " 'supplier_id',\n",
              " 'uniqueid'}"
            ]
          },
          "metadata": {},
          "execution_count": 27
        }
      ],
      "source": [
        "id_cols"
      ]
    },
    {
      "cell_type": "code",
      "execution_count": null,
      "metadata": {
        "id": "Sqi_rRSLmcmg"
      },
      "outputs": [],
      "source": [
        "all_columns = set(data.columns)"
      ]
    },
    {
      "cell_type": "code",
      "execution_count": null,
      "metadata": {
        "id": "l4MZvc9soPkQ"
      },
      "outputs": [],
      "source": [
        "remaining_cols = list(all_columns.difference(id_cols))"
      ]
    },
    {
      "cell_type": "code",
      "execution_count": null,
      "metadata": {
        "colab": {
          "base_uri": "https://localhost:8080/"
        },
        "id": "W4yvXdvAqsEP",
        "outputId": "c0cffbb9-571d-425e-d7e1-cece7567e027"
      },
      "outputs": [
        {
          "output_type": "execute_result",
          "data": {
            "text/plain": [
              "['ltv',\n",
              " 'pri_current_balance',\n",
              " 'sec_disbursed_amount',\n",
              " 'event_count_branch',\n",
              " 'mobileno_avl_flag',\n",
              " 'perform_cns_score',\n",
              " 'primary_instal_amt',\n",
              " 'date_of_birth',\n",
              " 'sec_active_accts',\n",
              " 'credit_history_length',\n",
              " 'sec_no_of_accts',\n",
              " 'pri_no_of_accts',\n",
              " 'asset_cost',\n",
              " 'employment_type',\n",
              " 'pri_disbursed_amount',\n",
              " 'new_accts_in_last_six_months',\n",
              " 'pri_overdue_accts',\n",
              " 'sec_overdue_accts',\n",
              " 'disbursaldate',\n",
              " 'voterid_flag',\n",
              " 'average_acct_age',\n",
              " 'pri_active_accts',\n",
              " 'delinquent_accts_in_last_six_months',\n",
              " 'aadhar_flag',\n",
              " 'driving_flag',\n",
              " 'sec_sanctioned_amount',\n",
              " 'sec_current_balance',\n",
              " 'no_of_inquiries',\n",
              " 'event_state',\n",
              " 'pri_sanctioned_amount',\n",
              " 'pan_flag',\n",
              " 'disbursed_amount',\n",
              " 'passport_flag',\n",
              " 'sec_instal_amt',\n",
              " 'event_count_manufacturer',\n",
              " 'perform_cns_score_description']"
            ]
          },
          "metadata": {},
          "execution_count": 30
        }
      ],
      "source": [
        "remaining_cols"
      ]
    },
    {
      "cell_type": "code",
      "execution_count": null,
      "metadata": {
        "colab": {
          "base_uri": "https://localhost:8080/"
        },
        "id": "bkfGucJ5qv7P",
        "outputId": "6f8b6c12-3a85-482a-b66f-c68822ca92d6"
      },
      "outputs": [
        {
          "output_type": "execute_result",
          "data": {
            "text/plain": [
              "{'aadhar_flag',\n",
              " 'asset_cost',\n",
              " 'average_acct_age',\n",
              " 'credit_history_length',\n",
              " 'date_of_birth',\n",
              " 'delinquent_accts_in_last_six_months',\n",
              " 'disbursaldate',\n",
              " 'disbursed_amount',\n",
              " 'driving_flag',\n",
              " 'employment_type',\n",
              " 'event_count_branch',\n",
              " 'event_count_manufacturer',\n",
              " 'event_state',\n",
              " 'ltv',\n",
              " 'mobileno_avl_flag',\n",
              " 'new_accts_in_last_six_months',\n",
              " 'no_of_inquiries',\n",
              " 'pan_flag',\n",
              " 'passport_flag',\n",
              " 'perform_cns_score',\n",
              " 'perform_cns_score_description',\n",
              " 'pri_active_accts',\n",
              " 'pri_current_balance',\n",
              " 'pri_disbursed_amount',\n",
              " 'pri_no_of_accts',\n",
              " 'pri_overdue_accts',\n",
              " 'pri_sanctioned_amount',\n",
              " 'primary_instal_amt',\n",
              " 'sec_active_accts',\n",
              " 'sec_current_balance',\n",
              " 'sec_disbursed_amount',\n",
              " 'sec_instal_amt',\n",
              " 'sec_no_of_accts',\n",
              " 'sec_overdue_accts',\n",
              " 'sec_sanctioned_amount',\n",
              " 'voterid_flag'}"
            ]
          },
          "metadata": {},
          "execution_count": 31
        }
      ],
      "source": [
        "all_columns - set(id_cols)"
      ]
    },
    {
      "cell_type": "code",
      "execution_count": null,
      "metadata": {
        "colab": {
          "base_uri": "https://localhost:8080/"
        },
        "id": "3KOJugZtrXMf",
        "outputId": "1c0795de-7ca9-497b-8aa0-a5425156dafd"
      },
      "outputs": [
        {
          "output_type": "execute_result",
          "data": {
            "text/plain": [
              "(233154, 44)"
            ]
          },
          "metadata": {},
          "execution_count": 32
        }
      ],
      "source": [
        "data.shape"
      ]
    },
    {
      "cell_type": "code",
      "execution_count": null,
      "metadata": {
        "colab": {
          "base_uri": "https://localhost:8080/",
          "height": 255
        },
        "id": "wKtU3xwirgme",
        "outputId": "2ff573a6-2d2e-4c95-ee27-69b373efd646"
      },
      "outputs": [
        {
          "output_type": "execute_result",
          "data": {
            "text/plain": [
              "     ltv  pri_current_balance  sec_disbursed_amount  event_count_branch  \\\n",
              "0  89.55                    0                     0                2430   \n",
              "1  73.23                27600                     0                2430   \n",
              "2  89.63                    0                     0                2430   \n",
              "3  88.48                    0                     0                2430   \n",
              "4  88.39                    0                     0                2430   \n",
              "\n",
              "   mobileno_avl_flag  perform_cns_score  primary_instal_amt date_of_birth  \\\n",
              "0                  1                  0                   0    01-01-1984   \n",
              "1                  1                598                1991    31-07-1985   \n",
              "2                  1                  0                   0    24-08-1985   \n",
              "3                  1                305                  31    30-12-1993   \n",
              "4                  1                  0                   0    09-12-1977   \n",
              "\n",
              "   sec_active_accts credit_history_length  ...  sec_current_balance  \\\n",
              "0                 0             0yrs 0mon  ...                    0   \n",
              "1                 0            1yrs 11mon  ...                    0   \n",
              "2                 0             0yrs 0mon  ...                    0   \n",
              "3                 0             1yrs 3mon  ...                    0   \n",
              "4                 0             0yrs 0mon  ...                    0   \n",
              "\n",
              "   no_of_inquiries  event_state pri_sanctioned_amount  pan_flag  \\\n",
              "0                0         6058                     0         0   \n",
              "1                0         6058                 50200         0   \n",
              "2                0         6058                     0         0   \n",
              "3                1         6058                     0         0   \n",
              "4                1         6058                     0         0   \n",
              "\n",
              "   disbursed_amount  passport_flag  sec_instal_amt event_count_manufacturer  \\\n",
              "0             50578              0               0                    12149   \n",
              "1             47145              0               0                    12149   \n",
              "2             53278              0               0                    12149   \n",
              "3             57513              0               0                    12149   \n",
              "4             52378              0               0                    12149   \n",
              "\n",
              "   perform_cns_score_description  \n",
              "0    No Bureau History Available  \n",
              "1                    Medium Risk  \n",
              "2    No Bureau History Available  \n",
              "3                 Very High Risk  \n",
              "4    No Bureau History Available  \n",
              "\n",
              "[5 rows x 36 columns]"
            ],
            "text/html": [
              "\n",
              "  <div id=\"df-40dee12e-4680-49b5-b7fc-acd2bd89b0c4\" class=\"colab-df-container\">\n",
              "    <div>\n",
              "<style scoped>\n",
              "    .dataframe tbody tr th:only-of-type {\n",
              "        vertical-align: middle;\n",
              "    }\n",
              "\n",
              "    .dataframe tbody tr th {\n",
              "        vertical-align: top;\n",
              "    }\n",
              "\n",
              "    .dataframe thead th {\n",
              "        text-align: right;\n",
              "    }\n",
              "</style>\n",
              "<table border=\"1\" class=\"dataframe\">\n",
              "  <thead>\n",
              "    <tr style=\"text-align: right;\">\n",
              "      <th></th>\n",
              "      <th>ltv</th>\n",
              "      <th>pri_current_balance</th>\n",
              "      <th>sec_disbursed_amount</th>\n",
              "      <th>event_count_branch</th>\n",
              "      <th>mobileno_avl_flag</th>\n",
              "      <th>perform_cns_score</th>\n",
              "      <th>primary_instal_amt</th>\n",
              "      <th>date_of_birth</th>\n",
              "      <th>sec_active_accts</th>\n",
              "      <th>credit_history_length</th>\n",
              "      <th>...</th>\n",
              "      <th>sec_current_balance</th>\n",
              "      <th>no_of_inquiries</th>\n",
              "      <th>event_state</th>\n",
              "      <th>pri_sanctioned_amount</th>\n",
              "      <th>pan_flag</th>\n",
              "      <th>disbursed_amount</th>\n",
              "      <th>passport_flag</th>\n",
              "      <th>sec_instal_amt</th>\n",
              "      <th>event_count_manufacturer</th>\n",
              "      <th>perform_cns_score_description</th>\n",
              "    </tr>\n",
              "  </thead>\n",
              "  <tbody>\n",
              "    <tr>\n",
              "      <th>0</th>\n",
              "      <td>89.55</td>\n",
              "      <td>0</td>\n",
              "      <td>0</td>\n",
              "      <td>2430</td>\n",
              "      <td>1</td>\n",
              "      <td>0</td>\n",
              "      <td>0</td>\n",
              "      <td>01-01-1984</td>\n",
              "      <td>0</td>\n",
              "      <td>0yrs 0mon</td>\n",
              "      <td>...</td>\n",
              "      <td>0</td>\n",
              "      <td>0</td>\n",
              "      <td>6058</td>\n",
              "      <td>0</td>\n",
              "      <td>0</td>\n",
              "      <td>50578</td>\n",
              "      <td>0</td>\n",
              "      <td>0</td>\n",
              "      <td>12149</td>\n",
              "      <td>No Bureau History Available</td>\n",
              "    </tr>\n",
              "    <tr>\n",
              "      <th>1</th>\n",
              "      <td>73.23</td>\n",
              "      <td>27600</td>\n",
              "      <td>0</td>\n",
              "      <td>2430</td>\n",
              "      <td>1</td>\n",
              "      <td>598</td>\n",
              "      <td>1991</td>\n",
              "      <td>31-07-1985</td>\n",
              "      <td>0</td>\n",
              "      <td>1yrs 11mon</td>\n",
              "      <td>...</td>\n",
              "      <td>0</td>\n",
              "      <td>0</td>\n",
              "      <td>6058</td>\n",
              "      <td>50200</td>\n",
              "      <td>0</td>\n",
              "      <td>47145</td>\n",
              "      <td>0</td>\n",
              "      <td>0</td>\n",
              "      <td>12149</td>\n",
              "      <td>Medium Risk</td>\n",
              "    </tr>\n",
              "    <tr>\n",
              "      <th>2</th>\n",
              "      <td>89.63</td>\n",
              "      <td>0</td>\n",
              "      <td>0</td>\n",
              "      <td>2430</td>\n",
              "      <td>1</td>\n",
              "      <td>0</td>\n",
              "      <td>0</td>\n",
              "      <td>24-08-1985</td>\n",
              "      <td>0</td>\n",
              "      <td>0yrs 0mon</td>\n",
              "      <td>...</td>\n",
              "      <td>0</td>\n",
              "      <td>0</td>\n",
              "      <td>6058</td>\n",
              "      <td>0</td>\n",
              "      <td>0</td>\n",
              "      <td>53278</td>\n",
              "      <td>0</td>\n",
              "      <td>0</td>\n",
              "      <td>12149</td>\n",
              "      <td>No Bureau History Available</td>\n",
              "    </tr>\n",
              "    <tr>\n",
              "      <th>3</th>\n",
              "      <td>88.48</td>\n",
              "      <td>0</td>\n",
              "      <td>0</td>\n",
              "      <td>2430</td>\n",
              "      <td>1</td>\n",
              "      <td>305</td>\n",
              "      <td>31</td>\n",
              "      <td>30-12-1993</td>\n",
              "      <td>0</td>\n",
              "      <td>1yrs 3mon</td>\n",
              "      <td>...</td>\n",
              "      <td>0</td>\n",
              "      <td>1</td>\n",
              "      <td>6058</td>\n",
              "      <td>0</td>\n",
              "      <td>0</td>\n",
              "      <td>57513</td>\n",
              "      <td>0</td>\n",
              "      <td>0</td>\n",
              "      <td>12149</td>\n",
              "      <td>Very High Risk</td>\n",
              "    </tr>\n",
              "    <tr>\n",
              "      <th>4</th>\n",
              "      <td>88.39</td>\n",
              "      <td>0</td>\n",
              "      <td>0</td>\n",
              "      <td>2430</td>\n",
              "      <td>1</td>\n",
              "      <td>0</td>\n",
              "      <td>0</td>\n",
              "      <td>09-12-1977</td>\n",
              "      <td>0</td>\n",
              "      <td>0yrs 0mon</td>\n",
              "      <td>...</td>\n",
              "      <td>0</td>\n",
              "      <td>1</td>\n",
              "      <td>6058</td>\n",
              "      <td>0</td>\n",
              "      <td>0</td>\n",
              "      <td>52378</td>\n",
              "      <td>0</td>\n",
              "      <td>0</td>\n",
              "      <td>12149</td>\n",
              "      <td>No Bureau History Available</td>\n",
              "    </tr>\n",
              "  </tbody>\n",
              "</table>\n",
              "<p>5 rows × 36 columns</p>\n",
              "</div>\n",
              "    <div class=\"colab-df-buttons\">\n",
              "\n",
              "  <div class=\"colab-df-container\">\n",
              "    <button class=\"colab-df-convert\" onclick=\"convertToInteractive('df-40dee12e-4680-49b5-b7fc-acd2bd89b0c4')\"\n",
              "            title=\"Convert this dataframe to an interactive table.\"\n",
              "            style=\"display:none;\">\n",
              "\n",
              "  <svg xmlns=\"http://www.w3.org/2000/svg\" height=\"24px\" viewBox=\"0 -960 960 960\">\n",
              "    <path d=\"M120-120v-720h720v720H120Zm60-500h600v-160H180v160Zm220 220h160v-160H400v160Zm0 220h160v-160H400v160ZM180-400h160v-160H180v160Zm440 0h160v-160H620v160ZM180-180h160v-160H180v160Zm440 0h160v-160H620v160Z\"/>\n",
              "  </svg>\n",
              "    </button>\n",
              "\n",
              "  <style>\n",
              "    .colab-df-container {\n",
              "      display:flex;\n",
              "      gap: 12px;\n",
              "    }\n",
              "\n",
              "    .colab-df-convert {\n",
              "      background-color: #E8F0FE;\n",
              "      border: none;\n",
              "      border-radius: 50%;\n",
              "      cursor: pointer;\n",
              "      display: none;\n",
              "      fill: #1967D2;\n",
              "      height: 32px;\n",
              "      padding: 0 0 0 0;\n",
              "      width: 32px;\n",
              "    }\n",
              "\n",
              "    .colab-df-convert:hover {\n",
              "      background-color: #E2EBFA;\n",
              "      box-shadow: 0px 1px 2px rgba(60, 64, 67, 0.3), 0px 1px 3px 1px rgba(60, 64, 67, 0.15);\n",
              "      fill: #174EA6;\n",
              "    }\n",
              "\n",
              "    .colab-df-buttons div {\n",
              "      margin-bottom: 4px;\n",
              "    }\n",
              "\n",
              "    [theme=dark] .colab-df-convert {\n",
              "      background-color: #3B4455;\n",
              "      fill: #D2E3FC;\n",
              "    }\n",
              "\n",
              "    [theme=dark] .colab-df-convert:hover {\n",
              "      background-color: #434B5C;\n",
              "      box-shadow: 0px 1px 3px 1px rgba(0, 0, 0, 0.15);\n",
              "      filter: drop-shadow(0px 1px 2px rgba(0, 0, 0, 0.3));\n",
              "      fill: #FFFFFF;\n",
              "    }\n",
              "  </style>\n",
              "\n",
              "    <script>\n",
              "      const buttonEl =\n",
              "        document.querySelector('#df-40dee12e-4680-49b5-b7fc-acd2bd89b0c4 button.colab-df-convert');\n",
              "      buttonEl.style.display =\n",
              "        google.colab.kernel.accessAllowed ? 'block' : 'none';\n",
              "\n",
              "      async function convertToInteractive(key) {\n",
              "        const element = document.querySelector('#df-40dee12e-4680-49b5-b7fc-acd2bd89b0c4');\n",
              "        const dataTable =\n",
              "          await google.colab.kernel.invokeFunction('convertToInteractive',\n",
              "                                                    [key], {});\n",
              "        if (!dataTable) return;\n",
              "\n",
              "        const docLinkHtml = 'Like what you see? Visit the ' +\n",
              "          '<a target=\"_blank\" href=https://colab.research.google.com/notebooks/data_table.ipynb>data table notebook</a>'\n",
              "          + ' to learn more about interactive tables.';\n",
              "        element.innerHTML = '';\n",
              "        dataTable['output_type'] = 'display_data';\n",
              "        await google.colab.output.renderOutput(dataTable, element);\n",
              "        const docLink = document.createElement('div');\n",
              "        docLink.innerHTML = docLinkHtml;\n",
              "        element.appendChild(docLink);\n",
              "      }\n",
              "    </script>\n",
              "  </div>\n",
              "\n",
              "\n",
              "<div id=\"df-64045a71-01b2-435e-ab8a-b52b8a0fdd49\">\n",
              "  <button class=\"colab-df-quickchart\" onclick=\"quickchart('df-64045a71-01b2-435e-ab8a-b52b8a0fdd49')\"\n",
              "            title=\"Suggest charts\"\n",
              "            style=\"display:none;\">\n",
              "\n",
              "<svg xmlns=\"http://www.w3.org/2000/svg\" height=\"24px\"viewBox=\"0 0 24 24\"\n",
              "     width=\"24px\">\n",
              "    <g>\n",
              "        <path d=\"M19 3H5c-1.1 0-2 .9-2 2v14c0 1.1.9 2 2 2h14c1.1 0 2-.9 2-2V5c0-1.1-.9-2-2-2zM9 17H7v-7h2v7zm4 0h-2V7h2v10zm4 0h-2v-4h2v4z\"/>\n",
              "    </g>\n",
              "</svg>\n",
              "  </button>\n",
              "\n",
              "<style>\n",
              "  .colab-df-quickchart {\n",
              "      --bg-color: #E8F0FE;\n",
              "      --fill-color: #1967D2;\n",
              "      --hover-bg-color: #E2EBFA;\n",
              "      --hover-fill-color: #174EA6;\n",
              "      --disabled-fill-color: #AAA;\n",
              "      --disabled-bg-color: #DDD;\n",
              "  }\n",
              "\n",
              "  [theme=dark] .colab-df-quickchart {\n",
              "      --bg-color: #3B4455;\n",
              "      --fill-color: #D2E3FC;\n",
              "      --hover-bg-color: #434B5C;\n",
              "      --hover-fill-color: #FFFFFF;\n",
              "      --disabled-bg-color: #3B4455;\n",
              "      --disabled-fill-color: #666;\n",
              "  }\n",
              "\n",
              "  .colab-df-quickchart {\n",
              "    background-color: var(--bg-color);\n",
              "    border: none;\n",
              "    border-radius: 50%;\n",
              "    cursor: pointer;\n",
              "    display: none;\n",
              "    fill: var(--fill-color);\n",
              "    height: 32px;\n",
              "    padding: 0;\n",
              "    width: 32px;\n",
              "  }\n",
              "\n",
              "  .colab-df-quickchart:hover {\n",
              "    background-color: var(--hover-bg-color);\n",
              "    box-shadow: 0 1px 2px rgba(60, 64, 67, 0.3), 0 1px 3px 1px rgba(60, 64, 67, 0.15);\n",
              "    fill: var(--button-hover-fill-color);\n",
              "  }\n",
              "\n",
              "  .colab-df-quickchart-complete:disabled,\n",
              "  .colab-df-quickchart-complete:disabled:hover {\n",
              "    background-color: var(--disabled-bg-color);\n",
              "    fill: var(--disabled-fill-color);\n",
              "    box-shadow: none;\n",
              "  }\n",
              "\n",
              "  .colab-df-spinner {\n",
              "    border: 2px solid var(--fill-color);\n",
              "    border-color: transparent;\n",
              "    border-bottom-color: var(--fill-color);\n",
              "    animation:\n",
              "      spin 1s steps(1) infinite;\n",
              "  }\n",
              "\n",
              "  @keyframes spin {\n",
              "    0% {\n",
              "      border-color: transparent;\n",
              "      border-bottom-color: var(--fill-color);\n",
              "      border-left-color: var(--fill-color);\n",
              "    }\n",
              "    20% {\n",
              "      border-color: transparent;\n",
              "      border-left-color: var(--fill-color);\n",
              "      border-top-color: var(--fill-color);\n",
              "    }\n",
              "    30% {\n",
              "      border-color: transparent;\n",
              "      border-left-color: var(--fill-color);\n",
              "      border-top-color: var(--fill-color);\n",
              "      border-right-color: var(--fill-color);\n",
              "    }\n",
              "    40% {\n",
              "      border-color: transparent;\n",
              "      border-right-color: var(--fill-color);\n",
              "      border-top-color: var(--fill-color);\n",
              "    }\n",
              "    60% {\n",
              "      border-color: transparent;\n",
              "      border-right-color: var(--fill-color);\n",
              "    }\n",
              "    80% {\n",
              "      border-color: transparent;\n",
              "      border-right-color: var(--fill-color);\n",
              "      border-bottom-color: var(--fill-color);\n",
              "    }\n",
              "    90% {\n",
              "      border-color: transparent;\n",
              "      border-bottom-color: var(--fill-color);\n",
              "    }\n",
              "  }\n",
              "</style>\n",
              "\n",
              "  <script>\n",
              "    async function quickchart(key) {\n",
              "      const quickchartButtonEl =\n",
              "        document.querySelector('#' + key + ' button');\n",
              "      quickchartButtonEl.disabled = true;  // To prevent multiple clicks.\n",
              "      quickchartButtonEl.classList.add('colab-df-spinner');\n",
              "      try {\n",
              "        const charts = await google.colab.kernel.invokeFunction(\n",
              "            'suggestCharts', [key], {});\n",
              "      } catch (error) {\n",
              "        console.error('Error during call to suggestCharts:', error);\n",
              "      }\n",
              "      quickchartButtonEl.classList.remove('colab-df-spinner');\n",
              "      quickchartButtonEl.classList.add('colab-df-quickchart-complete');\n",
              "    }\n",
              "    (() => {\n",
              "      let quickchartButtonEl =\n",
              "        document.querySelector('#df-64045a71-01b2-435e-ab8a-b52b8a0fdd49 button');\n",
              "      quickchartButtonEl.style.display =\n",
              "        google.colab.kernel.accessAllowed ? 'block' : 'none';\n",
              "    })();\n",
              "  </script>\n",
              "</div>\n",
              "\n",
              "    </div>\n",
              "  </div>\n"
            ]
          },
          "metadata": {},
          "execution_count": 33
        }
      ],
      "source": [
        "data.loc[: , remaining_cols].head()"
      ]
    },
    {
      "cell_type": "code",
      "execution_count": null,
      "metadata": {
        "colab": {
          "base_uri": "https://localhost:8080/"
        },
        "id": "1Psn8FN_05OL",
        "outputId": "3fb07d7f-5fd6-4107-cb7c-5ed8a4bac113"
      },
      "outputs": [
        {
          "output_type": "execute_result",
          "data": {
            "text/plain": [
              "0    01-01-1984\n",
              "1    31-07-1985\n",
              "2    24-08-1985\n",
              "3    30-12-1993\n",
              "4    09-12-1977\n",
              "Name: date_of_birth, dtype: object"
            ]
          },
          "metadata": {},
          "execution_count": 34
        }
      ],
      "source": [
        "data.date_of_birth.head()"
      ]
    },
    {
      "cell_type": "code",
      "execution_count": null,
      "metadata": {
        "id": "xJKWIhNgDaAG"
      },
      "outputs": [],
      "source": [
        "data = data.assign(\n",
        "    **{\n",
        "        'date_of_birth' : pd.to_datetime(data['date_of_birth'],format= '%d-%m-%Y'),\n",
        "        'disbursaldate' : pd.to_datetime(data['disbursaldate'],format= '%d-%m-%Y'),\n",
        "        'age' : lambda x: (x.disbursaldate - x.date_of_birth).dt.days/365.25\n",
        "    }\n",
        ")"
      ]
    },
    {
      "cell_type": "code",
      "execution_count": null,
      "metadata": {
        "colab": {
          "base_uri": "https://localhost:8080/",
          "height": 206
        },
        "id": "meQiZDEOFoS2",
        "outputId": "f4049b75-f591-4916-afde-724f7e4ea248"
      },
      "outputs": [
        {
          "output_type": "execute_result",
          "data": {
            "text/plain": [
              "  date_of_birth disbursaldate        age\n",
              "0    1984-01-01    2018-08-03  34.587269\n",
              "1    1985-07-31    2018-09-26  33.155373\n",
              "2    1985-08-24    2018-08-01  32.936345\n",
              "3    1993-12-30    2018-10-26  24.821355\n",
              "4    1977-12-09    2018-09-26  40.796715"
            ],
            "text/html": [
              "\n",
              "  <div id=\"df-ee86b7c3-2d66-479d-8040-da4471d42a6e\" class=\"colab-df-container\">\n",
              "    <div>\n",
              "<style scoped>\n",
              "    .dataframe tbody tr th:only-of-type {\n",
              "        vertical-align: middle;\n",
              "    }\n",
              "\n",
              "    .dataframe tbody tr th {\n",
              "        vertical-align: top;\n",
              "    }\n",
              "\n",
              "    .dataframe thead th {\n",
              "        text-align: right;\n",
              "    }\n",
              "</style>\n",
              "<table border=\"1\" class=\"dataframe\">\n",
              "  <thead>\n",
              "    <tr style=\"text-align: right;\">\n",
              "      <th></th>\n",
              "      <th>date_of_birth</th>\n",
              "      <th>disbursaldate</th>\n",
              "      <th>age</th>\n",
              "    </tr>\n",
              "  </thead>\n",
              "  <tbody>\n",
              "    <tr>\n",
              "      <th>0</th>\n",
              "      <td>1984-01-01</td>\n",
              "      <td>2018-08-03</td>\n",
              "      <td>34.587269</td>\n",
              "    </tr>\n",
              "    <tr>\n",
              "      <th>1</th>\n",
              "      <td>1985-07-31</td>\n",
              "      <td>2018-09-26</td>\n",
              "      <td>33.155373</td>\n",
              "    </tr>\n",
              "    <tr>\n",
              "      <th>2</th>\n",
              "      <td>1985-08-24</td>\n",
              "      <td>2018-08-01</td>\n",
              "      <td>32.936345</td>\n",
              "    </tr>\n",
              "    <tr>\n",
              "      <th>3</th>\n",
              "      <td>1993-12-30</td>\n",
              "      <td>2018-10-26</td>\n",
              "      <td>24.821355</td>\n",
              "    </tr>\n",
              "    <tr>\n",
              "      <th>4</th>\n",
              "      <td>1977-12-09</td>\n",
              "      <td>2018-09-26</td>\n",
              "      <td>40.796715</td>\n",
              "    </tr>\n",
              "  </tbody>\n",
              "</table>\n",
              "</div>\n",
              "    <div class=\"colab-df-buttons\">\n",
              "\n",
              "  <div class=\"colab-df-container\">\n",
              "    <button class=\"colab-df-convert\" onclick=\"convertToInteractive('df-ee86b7c3-2d66-479d-8040-da4471d42a6e')\"\n",
              "            title=\"Convert this dataframe to an interactive table.\"\n",
              "            style=\"display:none;\">\n",
              "\n",
              "  <svg xmlns=\"http://www.w3.org/2000/svg\" height=\"24px\" viewBox=\"0 -960 960 960\">\n",
              "    <path d=\"M120-120v-720h720v720H120Zm60-500h600v-160H180v160Zm220 220h160v-160H400v160Zm0 220h160v-160H400v160ZM180-400h160v-160H180v160Zm440 0h160v-160H620v160ZM180-180h160v-160H180v160Zm440 0h160v-160H620v160Z\"/>\n",
              "  </svg>\n",
              "    </button>\n",
              "\n",
              "  <style>\n",
              "    .colab-df-container {\n",
              "      display:flex;\n",
              "      gap: 12px;\n",
              "    }\n",
              "\n",
              "    .colab-df-convert {\n",
              "      background-color: #E8F0FE;\n",
              "      border: none;\n",
              "      border-radius: 50%;\n",
              "      cursor: pointer;\n",
              "      display: none;\n",
              "      fill: #1967D2;\n",
              "      height: 32px;\n",
              "      padding: 0 0 0 0;\n",
              "      width: 32px;\n",
              "    }\n",
              "\n",
              "    .colab-df-convert:hover {\n",
              "      background-color: #E2EBFA;\n",
              "      box-shadow: 0px 1px 2px rgba(60, 64, 67, 0.3), 0px 1px 3px 1px rgba(60, 64, 67, 0.15);\n",
              "      fill: #174EA6;\n",
              "    }\n",
              "\n",
              "    .colab-df-buttons div {\n",
              "      margin-bottom: 4px;\n",
              "    }\n",
              "\n",
              "    [theme=dark] .colab-df-convert {\n",
              "      background-color: #3B4455;\n",
              "      fill: #D2E3FC;\n",
              "    }\n",
              "\n",
              "    [theme=dark] .colab-df-convert:hover {\n",
              "      background-color: #434B5C;\n",
              "      box-shadow: 0px 1px 3px 1px rgba(0, 0, 0, 0.15);\n",
              "      filter: drop-shadow(0px 1px 2px rgba(0, 0, 0, 0.3));\n",
              "      fill: #FFFFFF;\n",
              "    }\n",
              "  </style>\n",
              "\n",
              "    <script>\n",
              "      const buttonEl =\n",
              "        document.querySelector('#df-ee86b7c3-2d66-479d-8040-da4471d42a6e button.colab-df-convert');\n",
              "      buttonEl.style.display =\n",
              "        google.colab.kernel.accessAllowed ? 'block' : 'none';\n",
              "\n",
              "      async function convertToInteractive(key) {\n",
              "        const element = document.querySelector('#df-ee86b7c3-2d66-479d-8040-da4471d42a6e');\n",
              "        const dataTable =\n",
              "          await google.colab.kernel.invokeFunction('convertToInteractive',\n",
              "                                                    [key], {});\n",
              "        if (!dataTable) return;\n",
              "\n",
              "        const docLinkHtml = 'Like what you see? Visit the ' +\n",
              "          '<a target=\"_blank\" href=https://colab.research.google.com/notebooks/data_table.ipynb>data table notebook</a>'\n",
              "          + ' to learn more about interactive tables.';\n",
              "        element.innerHTML = '';\n",
              "        dataTable['output_type'] = 'display_data';\n",
              "        await google.colab.output.renderOutput(dataTable, element);\n",
              "        const docLink = document.createElement('div');\n",
              "        docLink.innerHTML = docLinkHtml;\n",
              "        element.appendChild(docLink);\n",
              "      }\n",
              "    </script>\n",
              "  </div>\n",
              "\n",
              "\n",
              "<div id=\"df-50b63f6f-a93d-43a3-891d-a48c06b11942\">\n",
              "  <button class=\"colab-df-quickchart\" onclick=\"quickchart('df-50b63f6f-a93d-43a3-891d-a48c06b11942')\"\n",
              "            title=\"Suggest charts\"\n",
              "            style=\"display:none;\">\n",
              "\n",
              "<svg xmlns=\"http://www.w3.org/2000/svg\" height=\"24px\"viewBox=\"0 0 24 24\"\n",
              "     width=\"24px\">\n",
              "    <g>\n",
              "        <path d=\"M19 3H5c-1.1 0-2 .9-2 2v14c0 1.1.9 2 2 2h14c1.1 0 2-.9 2-2V5c0-1.1-.9-2-2-2zM9 17H7v-7h2v7zm4 0h-2V7h2v10zm4 0h-2v-4h2v4z\"/>\n",
              "    </g>\n",
              "</svg>\n",
              "  </button>\n",
              "\n",
              "<style>\n",
              "  .colab-df-quickchart {\n",
              "      --bg-color: #E8F0FE;\n",
              "      --fill-color: #1967D2;\n",
              "      --hover-bg-color: #E2EBFA;\n",
              "      --hover-fill-color: #174EA6;\n",
              "      --disabled-fill-color: #AAA;\n",
              "      --disabled-bg-color: #DDD;\n",
              "  }\n",
              "\n",
              "  [theme=dark] .colab-df-quickchart {\n",
              "      --bg-color: #3B4455;\n",
              "      --fill-color: #D2E3FC;\n",
              "      --hover-bg-color: #434B5C;\n",
              "      --hover-fill-color: #FFFFFF;\n",
              "      --disabled-bg-color: #3B4455;\n",
              "      --disabled-fill-color: #666;\n",
              "  }\n",
              "\n",
              "  .colab-df-quickchart {\n",
              "    background-color: var(--bg-color);\n",
              "    border: none;\n",
              "    border-radius: 50%;\n",
              "    cursor: pointer;\n",
              "    display: none;\n",
              "    fill: var(--fill-color);\n",
              "    height: 32px;\n",
              "    padding: 0;\n",
              "    width: 32px;\n",
              "  }\n",
              "\n",
              "  .colab-df-quickchart:hover {\n",
              "    background-color: var(--hover-bg-color);\n",
              "    box-shadow: 0 1px 2px rgba(60, 64, 67, 0.3), 0 1px 3px 1px rgba(60, 64, 67, 0.15);\n",
              "    fill: var(--button-hover-fill-color);\n",
              "  }\n",
              "\n",
              "  .colab-df-quickchart-complete:disabled,\n",
              "  .colab-df-quickchart-complete:disabled:hover {\n",
              "    background-color: var(--disabled-bg-color);\n",
              "    fill: var(--disabled-fill-color);\n",
              "    box-shadow: none;\n",
              "  }\n",
              "\n",
              "  .colab-df-spinner {\n",
              "    border: 2px solid var(--fill-color);\n",
              "    border-color: transparent;\n",
              "    border-bottom-color: var(--fill-color);\n",
              "    animation:\n",
              "      spin 1s steps(1) infinite;\n",
              "  }\n",
              "\n",
              "  @keyframes spin {\n",
              "    0% {\n",
              "      border-color: transparent;\n",
              "      border-bottom-color: var(--fill-color);\n",
              "      border-left-color: var(--fill-color);\n",
              "    }\n",
              "    20% {\n",
              "      border-color: transparent;\n",
              "      border-left-color: var(--fill-color);\n",
              "      border-top-color: var(--fill-color);\n",
              "    }\n",
              "    30% {\n",
              "      border-color: transparent;\n",
              "      border-left-color: var(--fill-color);\n",
              "      border-top-color: var(--fill-color);\n",
              "      border-right-color: var(--fill-color);\n",
              "    }\n",
              "    40% {\n",
              "      border-color: transparent;\n",
              "      border-right-color: var(--fill-color);\n",
              "      border-top-color: var(--fill-color);\n",
              "    }\n",
              "    60% {\n",
              "      border-color: transparent;\n",
              "      border-right-color: var(--fill-color);\n",
              "    }\n",
              "    80% {\n",
              "      border-color: transparent;\n",
              "      border-right-color: var(--fill-color);\n",
              "      border-bottom-color: var(--fill-color);\n",
              "    }\n",
              "    90% {\n",
              "      border-color: transparent;\n",
              "      border-bottom-color: var(--fill-color);\n",
              "    }\n",
              "  }\n",
              "</style>\n",
              "\n",
              "  <script>\n",
              "    async function quickchart(key) {\n",
              "      const quickchartButtonEl =\n",
              "        document.querySelector('#' + key + ' button');\n",
              "      quickchartButtonEl.disabled = true;  // To prevent multiple clicks.\n",
              "      quickchartButtonEl.classList.add('colab-df-spinner');\n",
              "      try {\n",
              "        const charts = await google.colab.kernel.invokeFunction(\n",
              "            'suggestCharts', [key], {});\n",
              "      } catch (error) {\n",
              "        console.error('Error during call to suggestCharts:', error);\n",
              "      }\n",
              "      quickchartButtonEl.classList.remove('colab-df-spinner');\n",
              "      quickchartButtonEl.classList.add('colab-df-quickchart-complete');\n",
              "    }\n",
              "    (() => {\n",
              "      let quickchartButtonEl =\n",
              "        document.querySelector('#df-50b63f6f-a93d-43a3-891d-a48c06b11942 button');\n",
              "      quickchartButtonEl.style.display =\n",
              "        google.colab.kernel.accessAllowed ? 'block' : 'none';\n",
              "    })();\n",
              "  </script>\n",
              "</div>\n",
              "\n",
              "    </div>\n",
              "  </div>\n"
            ]
          },
          "metadata": {},
          "execution_count": 36
        }
      ],
      "source": [
        "\n",
        "data.loc[: , ['date_of_birth','disbursaldate','age']].head()"
      ]
    },
    {
      "cell_type": "code",
      "execution_count": null,
      "metadata": {
        "id": "LlIMGL3dHCGw"
      },
      "outputs": [],
      "source": [
        "\n",
        "object_cols = data.loc[: , remaining_cols].select_dtypes('object').columns"
      ]
    },
    {
      "cell_type": "code",
      "execution_count": null,
      "metadata": {
        "colab": {
          "base_uri": "https://localhost:8080/"
        },
        "id": "_7OHgLWzI_xx",
        "outputId": "1a239c92-8882-464f-f79f-8b4cfd0b5f0c"
      },
      "outputs": [
        {
          "output_type": "execute_result",
          "data": {
            "text/plain": [
              "Index(['credit_history_length', 'employment_type', 'average_acct_age',\n",
              "       'perform_cns_score_description'],\n",
              "      dtype='object')"
            ]
          },
          "metadata": {},
          "execution_count": 38
        }
      ],
      "source": [
        "object_cols"
      ]
    },
    {
      "cell_type": "code",
      "source": [
        "#The original data in this column appears to be in a format like \"X yrs Y mon\" where X is the number of years and Y is the number of months.\n",
        "#The code cleans and transforms this information into a unified representation of time in years."
      ],
      "metadata": {
        "id": "lfRXxUdxBRpT"
      },
      "execution_count": null,
      "outputs": []
    },
    {
      "cell_type": "code",
      "execution_count": null,
      "metadata": {
        "colab": {
          "base_uri": "https://localhost:8080/"
        },
        "id": "7duVpchhJEvF",
        "outputId": "063f5085-eb75-475d-8fbe-f37b5df25939"
      },
      "outputs": [
        {
          "output_type": "execute_result",
          "data": {
            "text/plain": [
              "0    0.000000\n",
              "1    1.916667\n",
              "2    0.000000\n",
              "3    1.250000\n",
              "4    0.000000\n",
              "dtype: float64"
            ]
          },
          "metadata": {},
          "execution_count": 39
        }
      ],
      "source": [
        "(\n",
        "data.head().credit_history_length.str.\n",
        "replace('yrs|mon', '', regex=True).\n",
        "str.\n",
        "split(\" \",expand=True).\n",
        "rename(columns={0:'year', 1: 'month'}).\n",
        "pipe(lambda x: x.year.astype('int') + x.month.astype('int')/12)\n",
        ")"
      ]
    },
    {
      "cell_type": "code",
      "execution_count": null,
      "metadata": {
        "id": "OtFaQ64bltsW"
      },
      "outputs": [],
      "source": [
        "#def split_yr_mon(x):\n",
        "  #yrs = (x.str.replace('yrs|mon', '', regex=True).str.\n",
        "  #split('' '',expand=True).rename(columns = {0:'year',1:month}).\n",
        "  #pipe( lambda x: x.year.astype('int') + x.month.astype('int')/12))\n",
        " # return yrs"
      ]
    },
    {
      "cell_type": "code",
      "execution_count": null,
      "metadata": {
        "id": "qJDSuwjdU_tA"
      },
      "outputs": [],
      "source": [
        "#def split_yr_mon(x):\n",
        " #   yrs = (x.str.replace('yrs|mon', '', regex=True) # Remove 'yrs' or 'mon' from strings\n",
        " #          .str.split(' ', expand=True)              # Split strings into 'year' and 'month' columns\n",
        "  #         .rename(columns={0: 'year', 1: 'month'})    # Rename columns resulting from split\n",
        "   #        .pipe(lambda x: x['year'].astype('int') + x['month'].astype('int') / 12))\n",
        "   # return yrs\n"
      ]
    },
    {
      "cell_type": "code",
      "execution_count": null,
      "metadata": {
        "id": "hHhdDIRB42Kz"
      },
      "outputs": [],
      "source": [
        "#def split_yr_mon(x):\n",
        " #   def convert_to_years(entry):\n",
        "  #      parts = entry.replace('yrs', '').replace('mon', '').split()\n",
        "   #     years = int(parts[0]) if len(parts) > 0 else 0\n",
        "    #    months = int(parts[1]) if len(parts) > 1 else 0\n",
        "     #   return years + months / 12\n",
        "\n",
        "    #return x.apply(convert_to_years)\n",
        "\n",
        "# Apply the function to the DataFrame column\n",
        "#data['average_acct_age'] = split_yr_mon(data['average_acct_age'])\n"
      ]
    },
    {
      "cell_type": "code",
      "execution_count": null,
      "metadata": {
        "id": "fTtfIHsQ5Dat"
      },
      "outputs": [],
      "source": [
        "def split_yr_mon(x):\n",
        "    def convert_to_years(entry):\n",
        "        if isinstance(entry, str):\n",
        "            parts = entry.replace('yrs', '').replace('mon', '').split()\n",
        "            years = int(parts[0]) if len(parts) > 0 else 0\n",
        "            months = int(parts[1]) if len(parts) > 1 else 0\n",
        "            return years + months / 12\n",
        "        else:\n",
        "            return entry\n",
        "\n",
        "    return x.apply(convert_to_years)\n",
        "\n",
        "# Apply the function to the DataFrame column\n",
        "data['average_acct_age'] = split_yr_mon(data['average_acct_age'])\n"
      ]
    },
    {
      "cell_type": "code",
      "execution_count": null,
      "metadata": {
        "colab": {
          "base_uri": "https://localhost:8080/"
        },
        "id": "GLpoxelWSSXY",
        "outputId": "b37744a9-4980-4c27-ba95-071e033d2c5e"
      },
      "outputs": [
        {
          "output_type": "execute_result",
          "data": {
            "text/plain": [
              "0    0.000000\n",
              "1    1.916667\n",
              "2    0.000000\n",
              "3    0.666667\n",
              "4    0.000000\n",
              "Name: average_acct_age, dtype: float64"
            ]
          },
          "metadata": {},
          "execution_count": 41
        }
      ],
      "source": [
        "data.average_acct_age.head()"
      ]
    },
    {
      "cell_type": "code",
      "execution_count": null,
      "metadata": {
        "id": "KCz_4GkiTV6u"
      },
      "outputs": [],
      "source": [
        "#split_yr_mon(data['average_acct_age'])"
      ]
    },
    {
      "cell_type": "code",
      "execution_count": null,
      "metadata": {
        "id": "yNtjanL-ULBM"
      },
      "outputs": [],
      "source": [
        "#data = data.assign(**{\n",
        " #   'average_acct_age': split_yr_mon(data['average_acct_age']),\n",
        "  #  'credit_history_length': split_yr_mon(data['credit_history_length'])\n",
        "\n",
        "#})\n"
      ]
    },
    {
      "cell_type": "code",
      "execution_count": null,
      "metadata": {
        "id": "fOWLWxPRhxcd"
      },
      "outputs": [],
      "source": [
        "data['average_acct_age'].fillna(0, inplace=True)  # Replace NaN with 0\n",
        "data['credit_history_length'].fillna(0, inplace=True)\n"
      ]
    },
    {
      "cell_type": "code",
      "execution_count": null,
      "metadata": {
        "id": "n6sw-ui1h33D"
      },
      "outputs": [],
      "source": [
        "#def split_yr_mon(value):\n",
        "    # Example implementation (adjust based on your actual function)\n",
        " #   if pd.isna(value):\n",
        "  #      return 0  # Replace NaN with 0 or handle in a way suitable for your data\n",
        "    # Rest of your implementation\n",
        "\n",
        "#data['average_acct_age'].fillna(0, inplace=True)\n",
        "#data['credit_history_length'].fillna(0, inplace=True)\n",
        "\n",
        "#data = data.assign(**{\n",
        " #   'average_acct_age': split_yr_mon(data['average_acct_age']),\n",
        "  #  'credit_history_length': split_yr_mon(data['credit_history_length'])\n",
        "#})\n"
      ]
    },
    {
      "cell_type": "code",
      "execution_count": null,
      "metadata": {
        "id": "9-Eqf_hUipLD"
      },
      "outputs": [],
      "source": [
        "## Replace NaN values with a default value (e.g., 0) in the DataFrame\n",
        "#data.fillna(0, inplace=True)\n",
        "\n",
        "# Apply the function to transform string representations into numeric values\n",
        "#data = data.assign(**{\n",
        " #   'average_acct_age': split_yr_mon(data['average_acct_age']),\n",
        "  #  'credit_history_length': split_yr_mon(data['credit_history_length'])\n",
        "#})\n",
        "#data['average_acct_age'] = split_yr_mon(data['average_acct_age'])\n",
        "#data['credit_history_length'] = split_yr_mon(data['credit_history_length'])\n"
      ]
    },
    {
      "cell_type": "code",
      "execution_count": null,
      "metadata": {
        "colab": {
          "base_uri": "https://localhost:8080/"
        },
        "id": "nGbILorMUq3M",
        "outputId": "e98c420c-ccea-407d-9219-83305fffdd44"
      },
      "outputs": [
        {
          "output_type": "execute_result",
          "data": {
            "text/plain": [
              "0         No Bureau History Available\n",
              "1                         Medium Risk\n",
              "2         No Bureau History Available\n",
              "3                      Very High Risk\n",
              "4         No Bureau History Available\n",
              "                     ...             \n",
              "233149                  Very Low Risk\n",
              "233150                  Very Low Risk\n",
              "233151    No Bureau History Available\n",
              "233152    No Bureau History Available\n",
              "233153    No Bureau History Available\n",
              "Name: perform_cns_score_description, Length: 233154, dtype: object"
            ]
          },
          "metadata": {},
          "execution_count": 43
        }
      ],
      "source": [
        "data.perform_cns_score_description"
      ]
    },
    {
      "cell_type": "code",
      "execution_count": null,
      "metadata": {
        "id": "FmQljkT7YDXy"
      },
      "outputs": [],
      "source": [
        "\n",
        "\n",
        "##removing noisy columns"
      ]
    },
    {
      "cell_type": "code",
      "execution_count": null,
      "metadata": {
        "id": "FW4WG0vkYXWc"
      },
      "outputs": [],
      "source": [
        "remove_cols = {'date_of_birth','disbursaldate',\n",
        "               'mobileno_avl_flag'}"
      ]
    },
    {
      "cell_type": "code",
      "execution_count": null,
      "metadata": {
        "id": "nDbCml8TZEQ7"
      },
      "outputs": [],
      "source": [
        "\n",
        "remaining_cols = list(set(remaining_cols) - remove_cols)"
      ]
    },
    {
      "cell_type": "code",
      "execution_count": null,
      "metadata": {
        "colab": {
          "base_uri": "https://localhost:8080/"
        },
        "id": "1hxl-sPgZW3g",
        "outputId": "2e4381a8-0528-406a-a6f0-6283e9502094"
      },
      "outputs": [
        {
          "output_type": "execute_result",
          "data": {
            "text/plain": [
              "['pri_current_balance',\n",
              " 'ltv',\n",
              " 'sec_disbursed_amount',\n",
              " 'event_count_branch',\n",
              " 'perform_cns_score',\n",
              " 'primary_instal_amt',\n",
              " 'sec_active_accts',\n",
              " 'credit_history_length',\n",
              " 'sec_no_of_accts',\n",
              " 'pri_no_of_accts',\n",
              " 'asset_cost',\n",
              " 'employment_type',\n",
              " 'pri_disbursed_amount',\n",
              " 'new_accts_in_last_six_months',\n",
              " 'pri_overdue_accts',\n",
              " 'sec_overdue_accts',\n",
              " 'voterid_flag',\n",
              " 'average_acct_age',\n",
              " 'pri_active_accts',\n",
              " 'delinquent_accts_in_last_six_months',\n",
              " 'aadhar_flag',\n",
              " 'driving_flag',\n",
              " 'sec_sanctioned_amount',\n",
              " 'sec_current_balance',\n",
              " 'no_of_inquiries',\n",
              " 'event_state',\n",
              " 'pri_sanctioned_amount',\n",
              " 'pan_flag',\n",
              " 'disbursed_amount',\n",
              " 'event_count_manufacturer',\n",
              " 'passport_flag',\n",
              " 'sec_instal_amt',\n",
              " 'perform_cns_score_description']"
            ]
          },
          "metadata": {},
          "execution_count": 46
        }
      ],
      "source": [
        "remaining_cols"
      ]
    },
    {
      "cell_type": "code",
      "execution_count": null,
      "metadata": {
        "colab": {
          "base_uri": "https://localhost:8080/"
        },
        "id": "joywu5VQZ46r",
        "outputId": "bc2c55d5-54cd-4f1e-aad5-35d1ba591dbf"
      },
      "outputs": [
        {
          "output_type": "execute_result",
          "data": {
            "text/plain": [
              "Index(['credit_history_length', 'employment_type',\n",
              "       'perform_cns_score_description'],\n",
              "      dtype='object')"
            ]
          },
          "metadata": {},
          "execution_count": 47
        }
      ],
      "source": [
        "data.loc[:, remaining_cols].select_dtypes(include='object').columns\n"
      ]
    },
    {
      "cell_type": "code",
      "execution_count": null,
      "metadata": {
        "colab": {
          "base_uri": "https://localhost:8080/"
        },
        "id": "kKVXsM6AavP7",
        "outputId": "4ece484a-cb22-487a-ea1a-1fbc0bf622f3"
      },
      "outputs": [
        {
          "output_type": "execute_result",
          "data": {
            "text/plain": [
              "Index(['pri_current_balance', 'ltv', 'sec_disbursed_amount',\n",
              "       'event_count_branch', 'perform_cns_score', 'primary_instal_amt',\n",
              "       'sec_active_accts', 'sec_no_of_accts', 'pri_no_of_accts', 'asset_cost',\n",
              "       'pri_disbursed_amount', 'new_accts_in_last_six_months',\n",
              "       'pri_overdue_accts', 'sec_overdue_accts', 'voterid_flag',\n",
              "       'average_acct_age', 'pri_active_accts',\n",
              "       'delinquent_accts_in_last_six_months', 'aadhar_flag', 'driving_flag',\n",
              "       'sec_sanctioned_amount', 'sec_current_balance', 'no_of_inquiries',\n",
              "       'event_state', 'pri_sanctioned_amount', 'pan_flag', 'disbursed_amount',\n",
              "       'event_count_manufacturer', 'passport_flag', 'sec_instal_amt'],\n",
              "      dtype='object')"
            ]
          },
          "metadata": {},
          "execution_count": 48
        }
      ],
      "source": [
        "data.loc[:, remaining_cols].select_dtypes(np.number).columns\n"
      ]
    },
    {
      "cell_type": "code",
      "execution_count": null,
      "metadata": {
        "id": "Qzsul6y3bKDk"
      },
      "outputs": [],
      "source": [
        "## splitting the train and test data"
      ]
    },
    {
      "cell_type": "code",
      "execution_count": null,
      "metadata": {
        "id": "rkfeIXI9bhsK"
      },
      "outputs": [],
      "source": [
        "x_train, x_test = train_test_split(data.loc[:, remaining_cols + [target]],\n",
        "                                   test_size = .2,random_state=1)"
      ]
    },
    {
      "cell_type": "code",
      "execution_count": null,
      "metadata": {
        "colab": {
          "base_uri": "https://localhost:8080/"
        },
        "id": "YHGpYExEb9DK",
        "outputId": "bf0ee8a3-433e-4844-b02f-0b5489ddb3c6"
      },
      "outputs": [
        {
          "output_type": "execute_result",
          "data": {
            "text/plain": [
              "0"
            ]
          },
          "metadata": {},
          "execution_count": 50
        }
      ],
      "source": [
        "x_train[target].isnull().sum()"
      ]
    },
    {
      "cell_type": "code",
      "execution_count": null,
      "metadata": {
        "colab": {
          "base_uri": "https://localhost:8080/"
        },
        "id": "KrqT2OsXcH_B",
        "outputId": "893cfb9a-fa77-4a52-d1c5-4b29b581ddce"
      },
      "outputs": [
        {
          "output_type": "execute_result",
          "data": {
            "text/plain": [
              "0"
            ]
          },
          "metadata": {},
          "execution_count": 51
        }
      ],
      "source": [
        "x_test[target].isnull().sum()"
      ]
    },
    {
      "cell_type": "code",
      "execution_count": null,
      "metadata": {
        "id": "PR1QRQ97cftX"
      },
      "outputs": [],
      "source": [
        "x_train_1 = x_train.drop(target, axis = 1)\n",
        "Y_train_1 = x_train[target]\n",
        "\n",
        "x_test1 =  x_test.drop(target, axis = 1)\n",
        "y_test1 =  x_test[target]\n"
      ]
    },
    {
      "cell_type": "code",
      "execution_count": null,
      "metadata": {
        "colab": {
          "base_uri": "https://localhost:8080/"
        },
        "id": "sSXqTqfEduLV",
        "outputId": "6211d449-77b4-4ece-bca9-02c985badbf7"
      },
      "outputs": [
        {
          "output_type": "execute_result",
          "data": {
            "text/plain": [
              "(186523, 33)"
            ]
          },
          "metadata": {},
          "execution_count": 53
        }
      ],
      "source": [
        "x_train_1.shape"
      ]
    },
    {
      "cell_type": "code",
      "execution_count": null,
      "metadata": {
        "id": "ChAJy94Bd2E3"
      },
      "outputs": [],
      "source": [
        "char_columns = list(x_train_1.loc[:, remaining_cols].select_dtypes(object).columns)\n"
      ]
    },
    {
      "cell_type": "code",
      "execution_count": null,
      "metadata": {
        "id": "6weJ40BperIG"
      },
      "outputs": [],
      "source": [
        "num_columns = list(x_train_1.loc[:, remaining_cols].select_dtypes(np.number).columns)\n"
      ]
    },
    {
      "cell_type": "code",
      "execution_count": null,
      "metadata": {
        "id": "WL--PyPBfKUQ"
      },
      "outputs": [],
      "source": [
        "not_in_pipe = set([\"passport_flag\", \"pan_flag\",\n",
        "                   \"voterid_flag\", \"driving_flag\",\n",
        "                   \"aadhar_flag\"])"
      ]
    },
    {
      "cell_type": "code",
      "execution_count": null,
      "metadata": {
        "id": "jBUKJ1AnQJzD"
      },
      "outputs": [],
      "source": [
        "num_columns = list(set(num_columns) - not_in_pipe)"
      ]
    },
    {
      "cell_type": "code",
      "execution_count": null,
      "metadata": {
        "id": "9oHkYEKEQdkX"
      },
      "outputs": [],
      "source": [
        "not_in_pipe = list(not_in_pipe)"
      ]
    },
    {
      "cell_type": "code",
      "execution_count": null,
      "metadata": {
        "colab": {
          "base_uri": "https://localhost:8080/"
        },
        "id": "cvJcbjbqQlV4",
        "outputId": "fbe4dcf1-d43b-4f07-f2f0-c977389d822d"
      },
      "outputs": [
        {
          "output_type": "execute_result",
          "data": {
            "text/plain": [
              "(['credit_history_length', 'employment_type', 'perform_cns_score_description'],\n",
              " ['ltv',\n",
              "  'pri_current_balance',\n",
              "  'pri_overdue_accts',\n",
              "  'sec_overdue_accts',\n",
              "  'sec_disbursed_amount',\n",
              "  'event_count_branch',\n",
              "  'pri_disbursed_amount',\n",
              "  'average_acct_age',\n",
              "  'pri_active_accts',\n",
              "  'delinquent_accts_in_last_six_months',\n",
              "  'perform_cns_score',\n",
              "  'primary_instal_amt',\n",
              "  'sec_active_accts',\n",
              "  'sec_sanctioned_amount',\n",
              "  'sec_current_balance',\n",
              "  'sec_no_of_accts',\n",
              "  'pri_no_of_accts',\n",
              "  'no_of_inquiries',\n",
              "  'event_state',\n",
              "  'pri_sanctioned_amount',\n",
              "  'disbursed_amount',\n",
              "  'asset_cost',\n",
              "  'event_count_manufacturer',\n",
              "  'sec_instal_amt',\n",
              "  'new_accts_in_last_six_months'])"
            ]
          },
          "metadata": {},
          "execution_count": 59
        }
      ],
      "source": [
        "char_columns, num_columns"
      ]
    },
    {
      "cell_type": "code",
      "execution_count": null,
      "metadata": {
        "id": "IAoQQUz4Q0HI"
      },
      "outputs": [],
      "source": [
        "## here pipeline is created and OHE is done with preprocessor"
      ]
    },
    {
      "cell_type": "code",
      "execution_count": null,
      "metadata": {
        "id": "YLx7CyIQn4op"
      },
      "outputs": [],
      "source": [
        "from sklearn.compose import ColumnTransformer\n",
        "from sklearn.impute import SimpleImputer\n",
        "from sklearn.preprocessing import OneHotEncoder, StandardScaler\n",
        "from sklearn.pipeline import make_pipeline\n",
        "\n",
        "# Assuming char_columns and num_columns are defined somewhere\n",
        "\n",
        "pipe_char = make_pipeline(\n",
        "    SimpleImputer(strategy=\"constant\", fill_value=\"Missing\"),\n",
        "    OneHotEncoder(handle_unknown=\"ignore\")\n",
        ")\n",
        "\n",
        "pipe_num = make_pipeline(\n",
        "    SimpleImputer(strategy=\"mean\"),\n",
        "    StandardScaler()\n",
        ")\n",
        "\n",
        "preprocessor = ColumnTransformer(\n",
        "    transformers=[\n",
        "        ('cat', pipe_char, char_columns),\n",
        "        ('num', pipe_num, num_columns)\n",
        "    ],\n",
        "    remainder='passthrough'  # Keep columns not explicitly transformed\n",
        ")\n"
      ]
    },
    {
      "cell_type": "code",
      "execution_count": null,
      "metadata": {
        "colab": {
          "base_uri": "https://localhost:8080/"
        },
        "id": "J4X2hPb8nfn5",
        "outputId": "3b4d170f-1131-49f9-90fe-3158986f0b74"
      },
      "outputs": [
        {
          "output_type": "execute_result",
          "data": {
            "text/plain": [
              "sklearn.compose._column_transformer.ColumnTransformer"
            ]
          },
          "metadata": {},
          "execution_count": 61
        }
      ],
      "source": [
        "type(preprocessor)"
      ]
    },
    {
      "cell_type": "code",
      "execution_count": null,
      "metadata": {
        "id": "PbXm_1EeUs9y"
      },
      "outputs": [],
      "source": [
        "## model applying"
      ]
    },
    {
      "cell_type": "code",
      "execution_count": null,
      "metadata": {
        "id": "RDU5_Vr2VMAP"
      },
      "outputs": [],
      "source": [
        "classifier = LogisticRegression(solver='lbfgs',\n",
        "                                class_weight='balanced',\n",
        "                                max_iter=10000)"
      ]
    },
    {
      "cell_type": "code",
      "execution_count": null,
      "metadata": {
        "colab": {
          "base_uri": "https://localhost:8080/",
          "height": 75
        },
        "id": "RSMC-GJuW9oP",
        "outputId": "e3db3a8e-953f-4506-aafb-0d67aa35d55a"
      },
      "outputs": [
        {
          "output_type": "execute_result",
          "data": {
            "text/plain": [
              "LogisticRegression(class_weight='balanced', max_iter=10000)"
            ],
            "text/html": [
              "<style>#sk-container-id-1 {color: black;background-color: white;}#sk-container-id-1 pre{padding: 0;}#sk-container-id-1 div.sk-toggleable {background-color: white;}#sk-container-id-1 label.sk-toggleable__label {cursor: pointer;display: block;width: 100%;margin-bottom: 0;padding: 0.3em;box-sizing: border-box;text-align: center;}#sk-container-id-1 label.sk-toggleable__label-arrow:before {content: \"▸\";float: left;margin-right: 0.25em;color: #696969;}#sk-container-id-1 label.sk-toggleable__label-arrow:hover:before {color: black;}#sk-container-id-1 div.sk-estimator:hover label.sk-toggleable__label-arrow:before {color: black;}#sk-container-id-1 div.sk-toggleable__content {max-height: 0;max-width: 0;overflow: hidden;text-align: left;background-color: #f0f8ff;}#sk-container-id-1 div.sk-toggleable__content pre {margin: 0.2em;color: black;border-radius: 0.25em;background-color: #f0f8ff;}#sk-container-id-1 input.sk-toggleable__control:checked~div.sk-toggleable__content {max-height: 200px;max-width: 100%;overflow: auto;}#sk-container-id-1 input.sk-toggleable__control:checked~label.sk-toggleable__label-arrow:before {content: \"▾\";}#sk-container-id-1 div.sk-estimator input.sk-toggleable__control:checked~label.sk-toggleable__label {background-color: #d4ebff;}#sk-container-id-1 div.sk-label input.sk-toggleable__control:checked~label.sk-toggleable__label {background-color: #d4ebff;}#sk-container-id-1 input.sk-hidden--visually {border: 0;clip: rect(1px 1px 1px 1px);clip: rect(1px, 1px, 1px, 1px);height: 1px;margin: -1px;overflow: hidden;padding: 0;position: absolute;width: 1px;}#sk-container-id-1 div.sk-estimator {font-family: monospace;background-color: #f0f8ff;border: 1px dotted black;border-radius: 0.25em;box-sizing: border-box;margin-bottom: 0.5em;}#sk-container-id-1 div.sk-estimator:hover {background-color: #d4ebff;}#sk-container-id-1 div.sk-parallel-item::after {content: \"\";width: 100%;border-bottom: 1px solid gray;flex-grow: 1;}#sk-container-id-1 div.sk-label:hover label.sk-toggleable__label {background-color: #d4ebff;}#sk-container-id-1 div.sk-serial::before {content: \"\";position: absolute;border-left: 1px solid gray;box-sizing: border-box;top: 0;bottom: 0;left: 50%;z-index: 0;}#sk-container-id-1 div.sk-serial {display: flex;flex-direction: column;align-items: center;background-color: white;padding-right: 0.2em;padding-left: 0.2em;position: relative;}#sk-container-id-1 div.sk-item {position: relative;z-index: 1;}#sk-container-id-1 div.sk-parallel {display: flex;align-items: stretch;justify-content: center;background-color: white;position: relative;}#sk-container-id-1 div.sk-item::before, #sk-container-id-1 div.sk-parallel-item::before {content: \"\";position: absolute;border-left: 1px solid gray;box-sizing: border-box;top: 0;bottom: 0;left: 50%;z-index: -1;}#sk-container-id-1 div.sk-parallel-item {display: flex;flex-direction: column;z-index: 1;position: relative;background-color: white;}#sk-container-id-1 div.sk-parallel-item:first-child::after {align-self: flex-end;width: 50%;}#sk-container-id-1 div.sk-parallel-item:last-child::after {align-self: flex-start;width: 50%;}#sk-container-id-1 div.sk-parallel-item:only-child::after {width: 0;}#sk-container-id-1 div.sk-dashed-wrapped {border: 1px dashed gray;margin: 0 0.4em 0.5em 0.4em;box-sizing: border-box;padding-bottom: 0.4em;background-color: white;}#sk-container-id-1 div.sk-label label {font-family: monospace;font-weight: bold;display: inline-block;line-height: 1.2em;}#sk-container-id-1 div.sk-label-container {text-align: center;}#sk-container-id-1 div.sk-container {/* jupyter's `normalize.less` sets `[hidden] { display: none; }` but bootstrap.min.css set `[hidden] { display: none !important; }` so we also need the `!important` here to be able to override the default hidden behavior on the sphinx rendered scikit-learn.org. See: https://github.com/scikit-learn/scikit-learn/issues/21755 */display: inline-block !important;position: relative;}#sk-container-id-1 div.sk-text-repr-fallback {display: none;}</style><div id=\"sk-container-id-1\" class=\"sk-top-container\"><div class=\"sk-text-repr-fallback\"><pre>LogisticRegression(class_weight=&#x27;balanced&#x27;, max_iter=10000)</pre><b>In a Jupyter environment, please rerun this cell to show the HTML representation or trust the notebook. <br />On GitHub, the HTML representation is unable to render, please try loading this page with nbviewer.org.</b></div><div class=\"sk-container\" hidden><div class=\"sk-item\"><div class=\"sk-estimator sk-toggleable\"><input class=\"sk-toggleable__control sk-hidden--visually\" id=\"sk-estimator-id-1\" type=\"checkbox\" checked><label for=\"sk-estimator-id-1\" class=\"sk-toggleable__label sk-toggleable__label-arrow\">LogisticRegression</label><div class=\"sk-toggleable__content\"><pre>LogisticRegression(class_weight=&#x27;balanced&#x27;, max_iter=10000)</pre></div></div></div></div></div>"
            ]
          },
          "metadata": {},
          "execution_count": 63
        }
      ],
      "source": [
        "classifier"
      ]
    },
    {
      "cell_type": "code",
      "execution_count": null,
      "metadata": {
        "id": "MYGAkgYoYa9O"
      },
      "outputs": [],
      "source": [
        "model = Pipeline(steps=[\n",
        "    ('preprocessor',preprocessor),\n",
        "    ('classifier',classifier)\n",
        "])"
      ]
    },
    {
      "cell_type": "code",
      "execution_count": null,
      "metadata": {
        "colab": {
          "base_uri": "https://localhost:8080/",
          "height": 228
        },
        "id": "kLC6O2bNaJUi",
        "outputId": "35f9dc83-4d50-4c63-fad8-75077631d1c0"
      },
      "outputs": [
        {
          "output_type": "execute_result",
          "data": {
            "text/plain": [
              "Pipeline(steps=[('preprocessor',\n",
              "                 ColumnTransformer(remainder='passthrough',\n",
              "                                   transformers=[('cat',\n",
              "                                                  Pipeline(steps=[('simpleimputer',\n",
              "                                                                   SimpleImputer(fill_value='Missing',\n",
              "                                                                                 strategy='constant')),\n",
              "                                                                  ('onehotencoder',\n",
              "                                                                   OneHotEncoder(handle_unknown='ignore'))]),\n",
              "                                                  ['credit_history_length',\n",
              "                                                   'employment_type',\n",
              "                                                   'perform_cns_score_description']),\n",
              "                                                 ('num',\n",
              "                                                  Pipeline(steps=[('simp...\n",
              "                                                   'primary_instal_amt',\n",
              "                                                   'sec_active_accts',\n",
              "                                                   'sec_sanctioned_amount',\n",
              "                                                   'sec_current_balance',\n",
              "                                                   'sec_no_of_accts',\n",
              "                                                   'pri_no_of_accts',\n",
              "                                                   'no_of_inquiries',\n",
              "                                                   'event_state',\n",
              "                                                   'pri_sanctioned_amount',\n",
              "                                                   'disbursed_amount',\n",
              "                                                   'asset_cost',\n",
              "                                                   'event_count_manufacturer',\n",
              "                                                   'sec_instal_amt',\n",
              "                                                   'new_accts_in_last_six_months'])])),\n",
              "                ('classifier',\n",
              "                 LogisticRegression(class_weight='balanced', max_iter=10000))])"
            ],
            "text/html": [
              "<style>#sk-container-id-2 {color: black;background-color: white;}#sk-container-id-2 pre{padding: 0;}#sk-container-id-2 div.sk-toggleable {background-color: white;}#sk-container-id-2 label.sk-toggleable__label {cursor: pointer;display: block;width: 100%;margin-bottom: 0;padding: 0.3em;box-sizing: border-box;text-align: center;}#sk-container-id-2 label.sk-toggleable__label-arrow:before {content: \"▸\";float: left;margin-right: 0.25em;color: #696969;}#sk-container-id-2 label.sk-toggleable__label-arrow:hover:before {color: black;}#sk-container-id-2 div.sk-estimator:hover label.sk-toggleable__label-arrow:before {color: black;}#sk-container-id-2 div.sk-toggleable__content {max-height: 0;max-width: 0;overflow: hidden;text-align: left;background-color: #f0f8ff;}#sk-container-id-2 div.sk-toggleable__content pre {margin: 0.2em;color: black;border-radius: 0.25em;background-color: #f0f8ff;}#sk-container-id-2 input.sk-toggleable__control:checked~div.sk-toggleable__content {max-height: 200px;max-width: 100%;overflow: auto;}#sk-container-id-2 input.sk-toggleable__control:checked~label.sk-toggleable__label-arrow:before {content: \"▾\";}#sk-container-id-2 div.sk-estimator input.sk-toggleable__control:checked~label.sk-toggleable__label {background-color: #d4ebff;}#sk-container-id-2 div.sk-label input.sk-toggleable__control:checked~label.sk-toggleable__label {background-color: #d4ebff;}#sk-container-id-2 input.sk-hidden--visually {border: 0;clip: rect(1px 1px 1px 1px);clip: rect(1px, 1px, 1px, 1px);height: 1px;margin: -1px;overflow: hidden;padding: 0;position: absolute;width: 1px;}#sk-container-id-2 div.sk-estimator {font-family: monospace;background-color: #f0f8ff;border: 1px dotted black;border-radius: 0.25em;box-sizing: border-box;margin-bottom: 0.5em;}#sk-container-id-2 div.sk-estimator:hover {background-color: #d4ebff;}#sk-container-id-2 div.sk-parallel-item::after {content: \"\";width: 100%;border-bottom: 1px solid gray;flex-grow: 1;}#sk-container-id-2 div.sk-label:hover label.sk-toggleable__label {background-color: #d4ebff;}#sk-container-id-2 div.sk-serial::before {content: \"\";position: absolute;border-left: 1px solid gray;box-sizing: border-box;top: 0;bottom: 0;left: 50%;z-index: 0;}#sk-container-id-2 div.sk-serial {display: flex;flex-direction: column;align-items: center;background-color: white;padding-right: 0.2em;padding-left: 0.2em;position: relative;}#sk-container-id-2 div.sk-item {position: relative;z-index: 1;}#sk-container-id-2 div.sk-parallel {display: flex;align-items: stretch;justify-content: center;background-color: white;position: relative;}#sk-container-id-2 div.sk-item::before, #sk-container-id-2 div.sk-parallel-item::before {content: \"\";position: absolute;border-left: 1px solid gray;box-sizing: border-box;top: 0;bottom: 0;left: 50%;z-index: -1;}#sk-container-id-2 div.sk-parallel-item {display: flex;flex-direction: column;z-index: 1;position: relative;background-color: white;}#sk-container-id-2 div.sk-parallel-item:first-child::after {align-self: flex-end;width: 50%;}#sk-container-id-2 div.sk-parallel-item:last-child::after {align-self: flex-start;width: 50%;}#sk-container-id-2 div.sk-parallel-item:only-child::after {width: 0;}#sk-container-id-2 div.sk-dashed-wrapped {border: 1px dashed gray;margin: 0 0.4em 0.5em 0.4em;box-sizing: border-box;padding-bottom: 0.4em;background-color: white;}#sk-container-id-2 div.sk-label label {font-family: monospace;font-weight: bold;display: inline-block;line-height: 1.2em;}#sk-container-id-2 div.sk-label-container {text-align: center;}#sk-container-id-2 div.sk-container {/* jupyter's `normalize.less` sets `[hidden] { display: none; }` but bootstrap.min.css set `[hidden] { display: none !important; }` so we also need the `!important` here to be able to override the default hidden behavior on the sphinx rendered scikit-learn.org. See: https://github.com/scikit-learn/scikit-learn/issues/21755 */display: inline-block !important;position: relative;}#sk-container-id-2 div.sk-text-repr-fallback {display: none;}</style><div id=\"sk-container-id-2\" class=\"sk-top-container\"><div class=\"sk-text-repr-fallback\"><pre>Pipeline(steps=[(&#x27;preprocessor&#x27;,\n",
              "                 ColumnTransformer(remainder=&#x27;passthrough&#x27;,\n",
              "                                   transformers=[(&#x27;cat&#x27;,\n",
              "                                                  Pipeline(steps=[(&#x27;simpleimputer&#x27;,\n",
              "                                                                   SimpleImputer(fill_value=&#x27;Missing&#x27;,\n",
              "                                                                                 strategy=&#x27;constant&#x27;)),\n",
              "                                                                  (&#x27;onehotencoder&#x27;,\n",
              "                                                                   OneHotEncoder(handle_unknown=&#x27;ignore&#x27;))]),\n",
              "                                                  [&#x27;credit_history_length&#x27;,\n",
              "                                                   &#x27;employment_type&#x27;,\n",
              "                                                   &#x27;perform_cns_score_description&#x27;]),\n",
              "                                                 (&#x27;num&#x27;,\n",
              "                                                  Pipeline(steps=[(&#x27;simp...\n",
              "                                                   &#x27;primary_instal_amt&#x27;,\n",
              "                                                   &#x27;sec_active_accts&#x27;,\n",
              "                                                   &#x27;sec_sanctioned_amount&#x27;,\n",
              "                                                   &#x27;sec_current_balance&#x27;,\n",
              "                                                   &#x27;sec_no_of_accts&#x27;,\n",
              "                                                   &#x27;pri_no_of_accts&#x27;,\n",
              "                                                   &#x27;no_of_inquiries&#x27;,\n",
              "                                                   &#x27;event_state&#x27;,\n",
              "                                                   &#x27;pri_sanctioned_amount&#x27;,\n",
              "                                                   &#x27;disbursed_amount&#x27;,\n",
              "                                                   &#x27;asset_cost&#x27;,\n",
              "                                                   &#x27;event_count_manufacturer&#x27;,\n",
              "                                                   &#x27;sec_instal_amt&#x27;,\n",
              "                                                   &#x27;new_accts_in_last_six_months&#x27;])])),\n",
              "                (&#x27;classifier&#x27;,\n",
              "                 LogisticRegression(class_weight=&#x27;balanced&#x27;, max_iter=10000))])</pre><b>In a Jupyter environment, please rerun this cell to show the HTML representation or trust the notebook. <br />On GitHub, the HTML representation is unable to render, please try loading this page with nbviewer.org.</b></div><div class=\"sk-container\" hidden><div class=\"sk-item sk-dashed-wrapped\"><div class=\"sk-label-container\"><div class=\"sk-label sk-toggleable\"><input class=\"sk-toggleable__control sk-hidden--visually\" id=\"sk-estimator-id-2\" type=\"checkbox\" ><label for=\"sk-estimator-id-2\" class=\"sk-toggleable__label sk-toggleable__label-arrow\">Pipeline</label><div class=\"sk-toggleable__content\"><pre>Pipeline(steps=[(&#x27;preprocessor&#x27;,\n",
              "                 ColumnTransformer(remainder=&#x27;passthrough&#x27;,\n",
              "                                   transformers=[(&#x27;cat&#x27;,\n",
              "                                                  Pipeline(steps=[(&#x27;simpleimputer&#x27;,\n",
              "                                                                   SimpleImputer(fill_value=&#x27;Missing&#x27;,\n",
              "                                                                                 strategy=&#x27;constant&#x27;)),\n",
              "                                                                  (&#x27;onehotencoder&#x27;,\n",
              "                                                                   OneHotEncoder(handle_unknown=&#x27;ignore&#x27;))]),\n",
              "                                                  [&#x27;credit_history_length&#x27;,\n",
              "                                                   &#x27;employment_type&#x27;,\n",
              "                                                   &#x27;perform_cns_score_description&#x27;]),\n",
              "                                                 (&#x27;num&#x27;,\n",
              "                                                  Pipeline(steps=[(&#x27;simp...\n",
              "                                                   &#x27;primary_instal_amt&#x27;,\n",
              "                                                   &#x27;sec_active_accts&#x27;,\n",
              "                                                   &#x27;sec_sanctioned_amount&#x27;,\n",
              "                                                   &#x27;sec_current_balance&#x27;,\n",
              "                                                   &#x27;sec_no_of_accts&#x27;,\n",
              "                                                   &#x27;pri_no_of_accts&#x27;,\n",
              "                                                   &#x27;no_of_inquiries&#x27;,\n",
              "                                                   &#x27;event_state&#x27;,\n",
              "                                                   &#x27;pri_sanctioned_amount&#x27;,\n",
              "                                                   &#x27;disbursed_amount&#x27;,\n",
              "                                                   &#x27;asset_cost&#x27;,\n",
              "                                                   &#x27;event_count_manufacturer&#x27;,\n",
              "                                                   &#x27;sec_instal_amt&#x27;,\n",
              "                                                   &#x27;new_accts_in_last_six_months&#x27;])])),\n",
              "                (&#x27;classifier&#x27;,\n",
              "                 LogisticRegression(class_weight=&#x27;balanced&#x27;, max_iter=10000))])</pre></div></div></div><div class=\"sk-serial\"><div class=\"sk-item sk-dashed-wrapped\"><div class=\"sk-label-container\"><div class=\"sk-label sk-toggleable\"><input class=\"sk-toggleable__control sk-hidden--visually\" id=\"sk-estimator-id-3\" type=\"checkbox\" ><label for=\"sk-estimator-id-3\" class=\"sk-toggleable__label sk-toggleable__label-arrow\">preprocessor: ColumnTransformer</label><div class=\"sk-toggleable__content\"><pre>ColumnTransformer(remainder=&#x27;passthrough&#x27;,\n",
              "                  transformers=[(&#x27;cat&#x27;,\n",
              "                                 Pipeline(steps=[(&#x27;simpleimputer&#x27;,\n",
              "                                                  SimpleImputer(fill_value=&#x27;Missing&#x27;,\n",
              "                                                                strategy=&#x27;constant&#x27;)),\n",
              "                                                 (&#x27;onehotencoder&#x27;,\n",
              "                                                  OneHotEncoder(handle_unknown=&#x27;ignore&#x27;))]),\n",
              "                                 [&#x27;credit_history_length&#x27;, &#x27;employment_type&#x27;,\n",
              "                                  &#x27;perform_cns_score_description&#x27;]),\n",
              "                                (&#x27;num&#x27;,\n",
              "                                 Pipeline(steps=[(&#x27;simpleimputer&#x27;,\n",
              "                                                  SimpleImputer()),\n",
              "                                                 (&#x27;st...\n",
              "                                  &#x27;pri_active_accts&#x27;,\n",
              "                                  &#x27;delinquent_accts_in_last_six_months&#x27;,\n",
              "                                  &#x27;perform_cns_score&#x27;, &#x27;primary_instal_amt&#x27;,\n",
              "                                  &#x27;sec_active_accts&#x27;, &#x27;sec_sanctioned_amount&#x27;,\n",
              "                                  &#x27;sec_current_balance&#x27;, &#x27;sec_no_of_accts&#x27;,\n",
              "                                  &#x27;pri_no_of_accts&#x27;, &#x27;no_of_inquiries&#x27;,\n",
              "                                  &#x27;event_state&#x27;, &#x27;pri_sanctioned_amount&#x27;,\n",
              "                                  &#x27;disbursed_amount&#x27;, &#x27;asset_cost&#x27;,\n",
              "                                  &#x27;event_count_manufacturer&#x27;, &#x27;sec_instal_amt&#x27;,\n",
              "                                  &#x27;new_accts_in_last_six_months&#x27;])])</pre></div></div></div><div class=\"sk-parallel\"><div class=\"sk-parallel-item\"><div class=\"sk-item\"><div class=\"sk-label-container\"><div class=\"sk-label sk-toggleable\"><input class=\"sk-toggleable__control sk-hidden--visually\" id=\"sk-estimator-id-4\" type=\"checkbox\" ><label for=\"sk-estimator-id-4\" class=\"sk-toggleable__label sk-toggleable__label-arrow\">cat</label><div class=\"sk-toggleable__content\"><pre>[&#x27;credit_history_length&#x27;, &#x27;employment_type&#x27;, &#x27;perform_cns_score_description&#x27;]</pre></div></div></div><div class=\"sk-serial\"><div class=\"sk-item\"><div class=\"sk-serial\"><div class=\"sk-item\"><div class=\"sk-estimator sk-toggleable\"><input class=\"sk-toggleable__control sk-hidden--visually\" id=\"sk-estimator-id-5\" type=\"checkbox\" ><label for=\"sk-estimator-id-5\" class=\"sk-toggleable__label sk-toggleable__label-arrow\">SimpleImputer</label><div class=\"sk-toggleable__content\"><pre>SimpleImputer(fill_value=&#x27;Missing&#x27;, strategy=&#x27;constant&#x27;)</pre></div></div></div><div class=\"sk-item\"><div class=\"sk-estimator sk-toggleable\"><input class=\"sk-toggleable__control sk-hidden--visually\" id=\"sk-estimator-id-6\" type=\"checkbox\" ><label for=\"sk-estimator-id-6\" class=\"sk-toggleable__label sk-toggleable__label-arrow\">OneHotEncoder</label><div class=\"sk-toggleable__content\"><pre>OneHotEncoder(handle_unknown=&#x27;ignore&#x27;)</pre></div></div></div></div></div></div></div></div><div class=\"sk-parallel-item\"><div class=\"sk-item\"><div class=\"sk-label-container\"><div class=\"sk-label sk-toggleable\"><input class=\"sk-toggleable__control sk-hidden--visually\" id=\"sk-estimator-id-7\" type=\"checkbox\" ><label for=\"sk-estimator-id-7\" class=\"sk-toggleable__label sk-toggleable__label-arrow\">num</label><div class=\"sk-toggleable__content\"><pre>[&#x27;ltv&#x27;, &#x27;pri_current_balance&#x27;, &#x27;pri_overdue_accts&#x27;, &#x27;sec_overdue_accts&#x27;, &#x27;sec_disbursed_amount&#x27;, &#x27;event_count_branch&#x27;, &#x27;pri_disbursed_amount&#x27;, &#x27;average_acct_age&#x27;, &#x27;pri_active_accts&#x27;, &#x27;delinquent_accts_in_last_six_months&#x27;, &#x27;perform_cns_score&#x27;, &#x27;primary_instal_amt&#x27;, &#x27;sec_active_accts&#x27;, &#x27;sec_sanctioned_amount&#x27;, &#x27;sec_current_balance&#x27;, &#x27;sec_no_of_accts&#x27;, &#x27;pri_no_of_accts&#x27;, &#x27;no_of_inquiries&#x27;, &#x27;event_state&#x27;, &#x27;pri_sanctioned_amount&#x27;, &#x27;disbursed_amount&#x27;, &#x27;asset_cost&#x27;, &#x27;event_count_manufacturer&#x27;, &#x27;sec_instal_amt&#x27;, &#x27;new_accts_in_last_six_months&#x27;]</pre></div></div></div><div class=\"sk-serial\"><div class=\"sk-item\"><div class=\"sk-serial\"><div class=\"sk-item\"><div class=\"sk-estimator sk-toggleable\"><input class=\"sk-toggleable__control sk-hidden--visually\" id=\"sk-estimator-id-8\" type=\"checkbox\" ><label for=\"sk-estimator-id-8\" class=\"sk-toggleable__label sk-toggleable__label-arrow\">SimpleImputer</label><div class=\"sk-toggleable__content\"><pre>SimpleImputer()</pre></div></div></div><div class=\"sk-item\"><div class=\"sk-estimator sk-toggleable\"><input class=\"sk-toggleable__control sk-hidden--visually\" id=\"sk-estimator-id-9\" type=\"checkbox\" ><label for=\"sk-estimator-id-9\" class=\"sk-toggleable__label sk-toggleable__label-arrow\">StandardScaler</label><div class=\"sk-toggleable__content\"><pre>StandardScaler()</pre></div></div></div></div></div></div></div></div><div class=\"sk-parallel-item\"><div class=\"sk-item\"><div class=\"sk-label-container\"><div class=\"sk-label sk-toggleable\"><input class=\"sk-toggleable__control sk-hidden--visually\" id=\"sk-estimator-id-10\" type=\"checkbox\" ><label for=\"sk-estimator-id-10\" class=\"sk-toggleable__label sk-toggleable__label-arrow\">remainder</label><div class=\"sk-toggleable__content\"><pre></pre></div></div></div><div class=\"sk-serial\"><div class=\"sk-item\"><div class=\"sk-estimator sk-toggleable\"><input class=\"sk-toggleable__control sk-hidden--visually\" id=\"sk-estimator-id-11\" type=\"checkbox\" ><label for=\"sk-estimator-id-11\" class=\"sk-toggleable__label sk-toggleable__label-arrow\">passthrough</label><div class=\"sk-toggleable__content\"><pre>passthrough</pre></div></div></div></div></div></div></div></div><div class=\"sk-item\"><div class=\"sk-estimator sk-toggleable\"><input class=\"sk-toggleable__control sk-hidden--visually\" id=\"sk-estimator-id-12\" type=\"checkbox\" ><label for=\"sk-estimator-id-12\" class=\"sk-toggleable__label sk-toggleable__label-arrow\">LogisticRegression</label><div class=\"sk-toggleable__content\"><pre>LogisticRegression(class_weight=&#x27;balanced&#x27;, max_iter=10000)</pre></div></div></div></div></div></div></div>"
            ]
          },
          "metadata": {},
          "execution_count": 65
        }
      ],
      "source": [
        "model"
      ]
    },
    {
      "cell_type": "code",
      "execution_count": null,
      "metadata": {
        "id": "AbLcOyhpZFvA"
      },
      "outputs": [],
      "source": [
        "all_columns = num_columns + char_columns"
      ]
    },
    {
      "cell_type": "code",
      "execution_count": null,
      "metadata": {
        "colab": {
          "base_uri": "https://localhost:8080/"
        },
        "id": "y_Zstq9LZbsF",
        "outputId": "35b38fcf-e32b-421e-f5c1-ccee2b2a7336"
      },
      "outputs": [
        {
          "output_type": "execute_result",
          "data": {
            "text/plain": [
              "['ltv',\n",
              " 'pri_current_balance',\n",
              " 'pri_overdue_accts',\n",
              " 'sec_overdue_accts',\n",
              " 'sec_disbursed_amount',\n",
              " 'event_count_branch',\n",
              " 'pri_disbursed_amount',\n",
              " 'average_acct_age',\n",
              " 'pri_active_accts',\n",
              " 'delinquent_accts_in_last_six_months',\n",
              " 'perform_cns_score',\n",
              " 'primary_instal_amt',\n",
              " 'sec_active_accts',\n",
              " 'sec_sanctioned_amount',\n",
              " 'sec_current_balance',\n",
              " 'sec_no_of_accts',\n",
              " 'pri_no_of_accts',\n",
              " 'no_of_inquiries',\n",
              " 'event_state',\n",
              " 'pri_sanctioned_amount',\n",
              " 'disbursed_amount',\n",
              " 'asset_cost',\n",
              " 'event_count_manufacturer',\n",
              " 'sec_instal_amt',\n",
              " 'new_accts_in_last_six_months',\n",
              " 'credit_history_length',\n",
              " 'employment_type',\n",
              " 'perform_cns_score_description']"
            ]
          },
          "metadata": {},
          "execution_count": 67
        }
      ],
      "source": [
        "all_columns"
      ]
    },
    {
      "cell_type": "code",
      "execution_count": null,
      "metadata": {
        "id": "NWvangGQZdu1"
      },
      "outputs": [],
      "source": [
        "## transformation of data"
      ]
    },
    {
      "cell_type": "code",
      "execution_count": null,
      "metadata": {
        "colab": {
          "base_uri": "https://localhost:8080/",
          "height": 353
        },
        "id": "GRnd2_LdaVbJ",
        "outputId": "f2e736b3-18fa-4744-aebb-480915168cb8"
      },
      "outputs": [
        {
          "output_type": "execute_result",
          "data": {
            "text/plain": [
              "ColumnTransformer(remainder='passthrough',\n",
              "                  transformers=[('cat',\n",
              "                                 Pipeline(steps=[('simpleimputer',\n",
              "                                                  SimpleImputer(fill_value='Missing',\n",
              "                                                                strategy='constant')),\n",
              "                                                 ('onehotencoder',\n",
              "                                                  OneHotEncoder(handle_unknown='ignore'))]),\n",
              "                                 ['credit_history_length', 'employment_type',\n",
              "                                  'perform_cns_score_description']),\n",
              "                                ('num',\n",
              "                                 Pipeline(steps=[('simpleimputer',\n",
              "                                                  SimpleImputer()),\n",
              "                                                 ('st...\n",
              "                                  'pri_active_accts',\n",
              "                                  'delinquent_accts_in_last_six_months',\n",
              "                                  'perform_cns_score', 'primary_instal_amt',\n",
              "                                  'sec_active_accts', 'sec_sanctioned_amount',\n",
              "                                  'sec_current_balance', 'sec_no_of_accts',\n",
              "                                  'pri_no_of_accts', 'no_of_inquiries',\n",
              "                                  'event_state', 'pri_sanctioned_amount',\n",
              "                                  'disbursed_amount', 'asset_cost',\n",
              "                                  'event_count_manufacturer', 'sec_instal_amt',\n",
              "                                  'new_accts_in_last_six_months'])])"
            ],
            "text/html": [
              "<style>#sk-container-id-3 {color: black;background-color: white;}#sk-container-id-3 pre{padding: 0;}#sk-container-id-3 div.sk-toggleable {background-color: white;}#sk-container-id-3 label.sk-toggleable__label {cursor: pointer;display: block;width: 100%;margin-bottom: 0;padding: 0.3em;box-sizing: border-box;text-align: center;}#sk-container-id-3 label.sk-toggleable__label-arrow:before {content: \"▸\";float: left;margin-right: 0.25em;color: #696969;}#sk-container-id-3 label.sk-toggleable__label-arrow:hover:before {color: black;}#sk-container-id-3 div.sk-estimator:hover label.sk-toggleable__label-arrow:before {color: black;}#sk-container-id-3 div.sk-toggleable__content {max-height: 0;max-width: 0;overflow: hidden;text-align: left;background-color: #f0f8ff;}#sk-container-id-3 div.sk-toggleable__content pre {margin: 0.2em;color: black;border-radius: 0.25em;background-color: #f0f8ff;}#sk-container-id-3 input.sk-toggleable__control:checked~div.sk-toggleable__content {max-height: 200px;max-width: 100%;overflow: auto;}#sk-container-id-3 input.sk-toggleable__control:checked~label.sk-toggleable__label-arrow:before {content: \"▾\";}#sk-container-id-3 div.sk-estimator input.sk-toggleable__control:checked~label.sk-toggleable__label {background-color: #d4ebff;}#sk-container-id-3 div.sk-label input.sk-toggleable__control:checked~label.sk-toggleable__label {background-color: #d4ebff;}#sk-container-id-3 input.sk-hidden--visually {border: 0;clip: rect(1px 1px 1px 1px);clip: rect(1px, 1px, 1px, 1px);height: 1px;margin: -1px;overflow: hidden;padding: 0;position: absolute;width: 1px;}#sk-container-id-3 div.sk-estimator {font-family: monospace;background-color: #f0f8ff;border: 1px dotted black;border-radius: 0.25em;box-sizing: border-box;margin-bottom: 0.5em;}#sk-container-id-3 div.sk-estimator:hover {background-color: #d4ebff;}#sk-container-id-3 div.sk-parallel-item::after {content: \"\";width: 100%;border-bottom: 1px solid gray;flex-grow: 1;}#sk-container-id-3 div.sk-label:hover label.sk-toggleable__label {background-color: #d4ebff;}#sk-container-id-3 div.sk-serial::before {content: \"\";position: absolute;border-left: 1px solid gray;box-sizing: border-box;top: 0;bottom: 0;left: 50%;z-index: 0;}#sk-container-id-3 div.sk-serial {display: flex;flex-direction: column;align-items: center;background-color: white;padding-right: 0.2em;padding-left: 0.2em;position: relative;}#sk-container-id-3 div.sk-item {position: relative;z-index: 1;}#sk-container-id-3 div.sk-parallel {display: flex;align-items: stretch;justify-content: center;background-color: white;position: relative;}#sk-container-id-3 div.sk-item::before, #sk-container-id-3 div.sk-parallel-item::before {content: \"\";position: absolute;border-left: 1px solid gray;box-sizing: border-box;top: 0;bottom: 0;left: 50%;z-index: -1;}#sk-container-id-3 div.sk-parallel-item {display: flex;flex-direction: column;z-index: 1;position: relative;background-color: white;}#sk-container-id-3 div.sk-parallel-item:first-child::after {align-self: flex-end;width: 50%;}#sk-container-id-3 div.sk-parallel-item:last-child::after {align-self: flex-start;width: 50%;}#sk-container-id-3 div.sk-parallel-item:only-child::after {width: 0;}#sk-container-id-3 div.sk-dashed-wrapped {border: 1px dashed gray;margin: 0 0.4em 0.5em 0.4em;box-sizing: border-box;padding-bottom: 0.4em;background-color: white;}#sk-container-id-3 div.sk-label label {font-family: monospace;font-weight: bold;display: inline-block;line-height: 1.2em;}#sk-container-id-3 div.sk-label-container {text-align: center;}#sk-container-id-3 div.sk-container {/* jupyter's `normalize.less` sets `[hidden] { display: none; }` but bootstrap.min.css set `[hidden] { display: none !important; }` so we also need the `!important` here to be able to override the default hidden behavior on the sphinx rendered scikit-learn.org. See: https://github.com/scikit-learn/scikit-learn/issues/21755 */display: inline-block !important;position: relative;}#sk-container-id-3 div.sk-text-repr-fallback {display: none;}</style><div id=\"sk-container-id-3\" class=\"sk-top-container\"><div class=\"sk-text-repr-fallback\"><pre>ColumnTransformer(remainder=&#x27;passthrough&#x27;,\n",
              "                  transformers=[(&#x27;cat&#x27;,\n",
              "                                 Pipeline(steps=[(&#x27;simpleimputer&#x27;,\n",
              "                                                  SimpleImputer(fill_value=&#x27;Missing&#x27;,\n",
              "                                                                strategy=&#x27;constant&#x27;)),\n",
              "                                                 (&#x27;onehotencoder&#x27;,\n",
              "                                                  OneHotEncoder(handle_unknown=&#x27;ignore&#x27;))]),\n",
              "                                 [&#x27;credit_history_length&#x27;, &#x27;employment_type&#x27;,\n",
              "                                  &#x27;perform_cns_score_description&#x27;]),\n",
              "                                (&#x27;num&#x27;,\n",
              "                                 Pipeline(steps=[(&#x27;simpleimputer&#x27;,\n",
              "                                                  SimpleImputer()),\n",
              "                                                 (&#x27;st...\n",
              "                                  &#x27;pri_active_accts&#x27;,\n",
              "                                  &#x27;delinquent_accts_in_last_six_months&#x27;,\n",
              "                                  &#x27;perform_cns_score&#x27;, &#x27;primary_instal_amt&#x27;,\n",
              "                                  &#x27;sec_active_accts&#x27;, &#x27;sec_sanctioned_amount&#x27;,\n",
              "                                  &#x27;sec_current_balance&#x27;, &#x27;sec_no_of_accts&#x27;,\n",
              "                                  &#x27;pri_no_of_accts&#x27;, &#x27;no_of_inquiries&#x27;,\n",
              "                                  &#x27;event_state&#x27;, &#x27;pri_sanctioned_amount&#x27;,\n",
              "                                  &#x27;disbursed_amount&#x27;, &#x27;asset_cost&#x27;,\n",
              "                                  &#x27;event_count_manufacturer&#x27;, &#x27;sec_instal_amt&#x27;,\n",
              "                                  &#x27;new_accts_in_last_six_months&#x27;])])</pre><b>In a Jupyter environment, please rerun this cell to show the HTML representation or trust the notebook. <br />On GitHub, the HTML representation is unable to render, please try loading this page with nbviewer.org.</b></div><div class=\"sk-container\" hidden><div class=\"sk-item sk-dashed-wrapped\"><div class=\"sk-label-container\"><div class=\"sk-label sk-toggleable\"><input class=\"sk-toggleable__control sk-hidden--visually\" id=\"sk-estimator-id-13\" type=\"checkbox\" ><label for=\"sk-estimator-id-13\" class=\"sk-toggleable__label sk-toggleable__label-arrow\">ColumnTransformer</label><div class=\"sk-toggleable__content\"><pre>ColumnTransformer(remainder=&#x27;passthrough&#x27;,\n",
              "                  transformers=[(&#x27;cat&#x27;,\n",
              "                                 Pipeline(steps=[(&#x27;simpleimputer&#x27;,\n",
              "                                                  SimpleImputer(fill_value=&#x27;Missing&#x27;,\n",
              "                                                                strategy=&#x27;constant&#x27;)),\n",
              "                                                 (&#x27;onehotencoder&#x27;,\n",
              "                                                  OneHotEncoder(handle_unknown=&#x27;ignore&#x27;))]),\n",
              "                                 [&#x27;credit_history_length&#x27;, &#x27;employment_type&#x27;,\n",
              "                                  &#x27;perform_cns_score_description&#x27;]),\n",
              "                                (&#x27;num&#x27;,\n",
              "                                 Pipeline(steps=[(&#x27;simpleimputer&#x27;,\n",
              "                                                  SimpleImputer()),\n",
              "                                                 (&#x27;st...\n",
              "                                  &#x27;pri_active_accts&#x27;,\n",
              "                                  &#x27;delinquent_accts_in_last_six_months&#x27;,\n",
              "                                  &#x27;perform_cns_score&#x27;, &#x27;primary_instal_amt&#x27;,\n",
              "                                  &#x27;sec_active_accts&#x27;, &#x27;sec_sanctioned_amount&#x27;,\n",
              "                                  &#x27;sec_current_balance&#x27;, &#x27;sec_no_of_accts&#x27;,\n",
              "                                  &#x27;pri_no_of_accts&#x27;, &#x27;no_of_inquiries&#x27;,\n",
              "                                  &#x27;event_state&#x27;, &#x27;pri_sanctioned_amount&#x27;,\n",
              "                                  &#x27;disbursed_amount&#x27;, &#x27;asset_cost&#x27;,\n",
              "                                  &#x27;event_count_manufacturer&#x27;, &#x27;sec_instal_amt&#x27;,\n",
              "                                  &#x27;new_accts_in_last_six_months&#x27;])])</pre></div></div></div><div class=\"sk-parallel\"><div class=\"sk-parallel-item\"><div class=\"sk-item\"><div class=\"sk-label-container\"><div class=\"sk-label sk-toggleable\"><input class=\"sk-toggleable__control sk-hidden--visually\" id=\"sk-estimator-id-14\" type=\"checkbox\" ><label for=\"sk-estimator-id-14\" class=\"sk-toggleable__label sk-toggleable__label-arrow\">cat</label><div class=\"sk-toggleable__content\"><pre>[&#x27;credit_history_length&#x27;, &#x27;employment_type&#x27;, &#x27;perform_cns_score_description&#x27;]</pre></div></div></div><div class=\"sk-serial\"><div class=\"sk-item\"><div class=\"sk-serial\"><div class=\"sk-item\"><div class=\"sk-estimator sk-toggleable\"><input class=\"sk-toggleable__control sk-hidden--visually\" id=\"sk-estimator-id-15\" type=\"checkbox\" ><label for=\"sk-estimator-id-15\" class=\"sk-toggleable__label sk-toggleable__label-arrow\">SimpleImputer</label><div class=\"sk-toggleable__content\"><pre>SimpleImputer(fill_value=&#x27;Missing&#x27;, strategy=&#x27;constant&#x27;)</pre></div></div></div><div class=\"sk-item\"><div class=\"sk-estimator sk-toggleable\"><input class=\"sk-toggleable__control sk-hidden--visually\" id=\"sk-estimator-id-16\" type=\"checkbox\" ><label for=\"sk-estimator-id-16\" class=\"sk-toggleable__label sk-toggleable__label-arrow\">OneHotEncoder</label><div class=\"sk-toggleable__content\"><pre>OneHotEncoder(handle_unknown=&#x27;ignore&#x27;)</pre></div></div></div></div></div></div></div></div><div class=\"sk-parallel-item\"><div class=\"sk-item\"><div class=\"sk-label-container\"><div class=\"sk-label sk-toggleable\"><input class=\"sk-toggleable__control sk-hidden--visually\" id=\"sk-estimator-id-17\" type=\"checkbox\" ><label for=\"sk-estimator-id-17\" class=\"sk-toggleable__label sk-toggleable__label-arrow\">num</label><div class=\"sk-toggleable__content\"><pre>[&#x27;ltv&#x27;, &#x27;pri_current_balance&#x27;, &#x27;pri_overdue_accts&#x27;, &#x27;sec_overdue_accts&#x27;, &#x27;sec_disbursed_amount&#x27;, &#x27;event_count_branch&#x27;, &#x27;pri_disbursed_amount&#x27;, &#x27;average_acct_age&#x27;, &#x27;pri_active_accts&#x27;, &#x27;delinquent_accts_in_last_six_months&#x27;, &#x27;perform_cns_score&#x27;, &#x27;primary_instal_amt&#x27;, &#x27;sec_active_accts&#x27;, &#x27;sec_sanctioned_amount&#x27;, &#x27;sec_current_balance&#x27;, &#x27;sec_no_of_accts&#x27;, &#x27;pri_no_of_accts&#x27;, &#x27;no_of_inquiries&#x27;, &#x27;event_state&#x27;, &#x27;pri_sanctioned_amount&#x27;, &#x27;disbursed_amount&#x27;, &#x27;asset_cost&#x27;, &#x27;event_count_manufacturer&#x27;, &#x27;sec_instal_amt&#x27;, &#x27;new_accts_in_last_six_months&#x27;]</pre></div></div></div><div class=\"sk-serial\"><div class=\"sk-item\"><div class=\"sk-serial\"><div class=\"sk-item\"><div class=\"sk-estimator sk-toggleable\"><input class=\"sk-toggleable__control sk-hidden--visually\" id=\"sk-estimator-id-18\" type=\"checkbox\" ><label for=\"sk-estimator-id-18\" class=\"sk-toggleable__label sk-toggleable__label-arrow\">SimpleImputer</label><div class=\"sk-toggleable__content\"><pre>SimpleImputer()</pre></div></div></div><div class=\"sk-item\"><div class=\"sk-estimator sk-toggleable\"><input class=\"sk-toggleable__control sk-hidden--visually\" id=\"sk-estimator-id-19\" type=\"checkbox\" ><label for=\"sk-estimator-id-19\" class=\"sk-toggleable__label sk-toggleable__label-arrow\">StandardScaler</label><div class=\"sk-toggleable__content\"><pre>StandardScaler()</pre></div></div></div></div></div></div></div></div><div class=\"sk-parallel-item\"><div class=\"sk-item\"><div class=\"sk-label-container\"><div class=\"sk-label sk-toggleable\"><input class=\"sk-toggleable__control sk-hidden--visually\" id=\"sk-estimator-id-20\" type=\"checkbox\" ><label for=\"sk-estimator-id-20\" class=\"sk-toggleable__label sk-toggleable__label-arrow\">remainder</label><div class=\"sk-toggleable__content\"><pre></pre></div></div></div><div class=\"sk-serial\"><div class=\"sk-item\"><div class=\"sk-estimator sk-toggleable\"><input class=\"sk-toggleable__control sk-hidden--visually\" id=\"sk-estimator-id-21\" type=\"checkbox\" ><label for=\"sk-estimator-id-21\" class=\"sk-toggleable__label sk-toggleable__label-arrow\">passthrough</label><div class=\"sk-toggleable__content\"><pre>passthrough</pre></div></div></div></div></div></div></div></div></div></div>"
            ]
          },
          "metadata": {},
          "execution_count": 68
        }
      ],
      "source": [
        "preprocessor"
      ]
    },
    {
      "cell_type": "code",
      "execution_count": null,
      "metadata": {
        "id": "iUyzr9p_eB9k"
      },
      "outputs": [],
      "source": []
    },
    {
      "cell_type": "code",
      "execution_count": null,
      "metadata": {
        "colab": {
          "base_uri": "https://localhost:8080/"
        },
        "id": "8cm3d7Qw7mF5",
        "outputId": "25cb0ff6-6706-4afa-d617-3f852f08acc5"
      },
      "outputs": [
        {
          "output_type": "execute_result",
          "data": {
            "text/plain": [
              "pri_current_balance                      int64\n",
              "ltv                                    float64\n",
              "sec_disbursed_amount                     int64\n",
              "event_count_branch                       int64\n",
              "perform_cns_score                        int64\n",
              "primary_instal_amt                       int64\n",
              "sec_active_accts                         int64\n",
              "credit_history_length                   object\n",
              "sec_no_of_accts                          int64\n",
              "pri_no_of_accts                          int64\n",
              "asset_cost                               int64\n",
              "employment_type                         object\n",
              "pri_disbursed_amount                     int64\n",
              "new_accts_in_last_six_months             int64\n",
              "pri_overdue_accts                        int64\n",
              "sec_overdue_accts                        int64\n",
              "voterid_flag                             int64\n",
              "average_acct_age                       float64\n",
              "pri_active_accts                         int64\n",
              "delinquent_accts_in_last_six_months      int64\n",
              "aadhar_flag                              int64\n",
              "driving_flag                             int64\n",
              "sec_sanctioned_amount                    int64\n",
              "sec_current_balance                      int64\n",
              "no_of_inquiries                          int64\n",
              "event_state                              int64\n",
              "pri_sanctioned_amount                    int64\n",
              "pan_flag                                 int64\n",
              "disbursed_amount                         int64\n",
              "event_count_manufacturer                 int64\n",
              "passport_flag                            int64\n",
              "sec_instal_amt                           int64\n",
              "perform_cns_score_description           object\n",
              "dtype: object"
            ]
          },
          "metadata": {},
          "execution_count": 69
        }
      ],
      "source": [
        "x_train_1.dtypes"
      ]
    },
    {
      "cell_type": "code",
      "execution_count": null,
      "metadata": {
        "id": "5scny1z77mPk"
      },
      "outputs": [],
      "source": [
        "#mixed_columns = [col for col in x_train_1.columns if x_train_1[col].dtype.kind in ['i', 'O']]"
      ]
    },
    {
      "cell_type": "code",
      "execution_count": null,
      "metadata": {
        "id": "vetQ6fnM7mTd"
      },
      "outputs": [],
      "source": [
        "# for col in mixed_columns:\n",
        "#     x_train_1[col] = x_train_1[col].astype(str)"
      ]
    },
    {
      "cell_type": "code",
      "execution_count": null,
      "metadata": {
        "id": "ygAQK0-R7zh1"
      },
      "outputs": [],
      "source": [
        "datanew = pd.DataFrame(preprocessor.\n",
        "                    fit_transform(x_train_1.loc[:, num_columns + char_columns + not_in_pipe]).toarray())"
      ]
    },
    {
      "cell_type": "code",
      "execution_count": null,
      "metadata": {
        "id": "AbgJVnTNuvNS"
      },
      "outputs": [],
      "source": [
        "#preprocessor.fit_transform(x_train_1.loc[:, num_columns + char_columns + not_in_pipe]).toarray()"
      ]
    },
    {
      "cell_type": "code",
      "source": [],
      "metadata": {
        "id": "kbDids_qwacM"
      },
      "execution_count": null,
      "outputs": []
    },
    {
      "cell_type": "code",
      "execution_count": null,
      "metadata": {
        "colab": {
          "base_uri": "https://localhost:8080/"
        },
        "id": "wX1ETp1EuvNS",
        "outputId": "107429d6-0e8f-4bb6-9d90-ca2686dfa5e0"
      },
      "outputs": [
        {
          "output_type": "execute_result",
          "data": {
            "text/plain": [
              "(186523, 323)"
            ]
          },
          "metadata": {},
          "execution_count": 71
        }
      ],
      "source": [
        "datanew.shape"
      ]
    },
    {
      "cell_type": "code",
      "execution_count": null,
      "metadata": {
        "id": "tjvug_GU70Lv",
        "colab": {
          "base_uri": "https://localhost:8080/"
        },
        "outputId": "f2cbd4db-4ceb-415b-f71c-469802de6930"
      },
      "outputs": [
        {
          "output_type": "execute_result",
          "data": {
            "text/plain": [
              "(186523, 33)"
            ]
          },
          "metadata": {},
          "execution_count": 72
        }
      ],
      "source": [
        "x_train_1.loc[:, num_columns + char_columns + not_in_pipe].shape"
      ]
    },
    {
      "cell_type": "code",
      "execution_count": null,
      "metadata": {
        "id": "VfnNh24KZoFV"
      },
      "outputs": [],
      "source": [
        "#data = pd.DataFrame(preprocessor.\n",
        " #                   fit_transform(x_train_1.loc[:, num_columns + char_columns + not_in_pipe]))"
      ]
    },
    {
      "cell_type": "code",
      "execution_count": null,
      "metadata": {
        "id": "zTKrPcP-7yRJ"
      },
      "outputs": [],
      "source": []
    },
    {
      "cell_type": "code",
      "execution_count": null,
      "metadata": {
        "id": "h1e8eFXX2Zxs"
      },
      "outputs": [],
      "source": [
        "# Assuming num_columns, char_columns, and not_in_pipe are defined correctly\n",
        "\n",
        "# Combine the lists of column names while avoiding duplicates\n",
        "#all_columns = list(set(num_columns + char_columns + not_in_pipe))\n",
        "\n",
        "# Apply the preprocessor to the selected columns in x_train_1\n",
        "#data = pd.DataFrame(preprocessor.fit_transform(x_train_1[all_columns]))\n"
      ]
    },
    {
      "cell_type": "code",
      "execution_count": null,
      "metadata": {
        "id": "hRF4gqzEpqJc"
      },
      "outputs": [],
      "source": [
        "#data = pd.DataFrame(preprocessor.\n",
        " #                   fit_transform(x_train_1.loc[:, all_columns+\n",
        "   #                                             not_in_pipe]))"
      ]
    },
    {
      "cell_type": "code",
      "execution_count": null,
      "metadata": {
        "id": "PRRWiQZiaXLh"
      },
      "outputs": [],
      "source": [
        "onehotcolumns = preprocessor.named_transformers_['cat']['onehotencoder'].get_feature_names_out()"
      ]
    },
    {
      "cell_type": "code",
      "execution_count": null,
      "metadata": {
        "colab": {
          "base_uri": "https://localhost:8080/"
        },
        "id": "ITbOMW3Y4M27",
        "outputId": "c129ec88-d35e-40f4-f9b7-29005fee8626"
      },
      "outputs": [
        {
          "output_type": "stream",
          "name": "stdout",
          "text": [
            "['x0_0yrs 0mon' 'x0_0yrs 10mon' 'x0_0yrs 11mon' 'x0_0yrs 1mon'\n",
            " 'x0_0yrs 2mon' 'x0_0yrs 3mon' 'x0_0yrs 4mon' 'x0_0yrs 5mon'\n",
            " 'x0_0yrs 6mon' 'x0_0yrs 7mon' 'x0_0yrs 8mon' 'x0_0yrs 9mon'\n",
            " 'x0_10yrs 0mon' 'x0_10yrs 10mon' 'x0_10yrs 11mon' 'x0_10yrs 1mon'\n",
            " 'x0_10yrs 2mon' 'x0_10yrs 3mon' 'x0_10yrs 4mon' 'x0_10yrs 5mon'\n",
            " 'x0_10yrs 6mon' 'x0_10yrs 7mon' 'x0_10yrs 8mon' 'x0_10yrs 9mon'\n",
            " 'x0_11yrs 0mon' 'x0_11yrs 10mon' 'x0_11yrs 11mon' 'x0_11yrs 1mon'\n",
            " 'x0_11yrs 2mon' 'x0_11yrs 3mon' 'x0_11yrs 4mon' 'x0_11yrs 5mon'\n",
            " 'x0_11yrs 6mon' 'x0_11yrs 7mon' 'x0_11yrs 8mon' 'x0_11yrs 9mon'\n",
            " 'x0_12yrs 0mon' 'x0_12yrs 10mon' 'x0_12yrs 11mon' 'x0_12yrs 1mon'\n",
            " 'x0_12yrs 2mon' 'x0_12yrs 3mon' 'x0_12yrs 4mon' 'x0_12yrs 5mon'\n",
            " 'x0_12yrs 6mon' 'x0_12yrs 7mon' 'x0_12yrs 8mon' 'x0_12yrs 9mon'\n",
            " 'x0_13yrs 0mon' 'x0_13yrs 10mon' 'x0_13yrs 11mon' 'x0_13yrs 1mon'\n",
            " 'x0_13yrs 2mon' 'x0_13yrs 3mon' 'x0_13yrs 4mon' 'x0_13yrs 5mon'\n",
            " 'x0_13yrs 6mon' 'x0_13yrs 7mon' 'x0_13yrs 8mon' 'x0_13yrs 9mon'\n",
            " 'x0_14yrs 0mon' 'x0_14yrs 10mon' 'x0_14yrs 11mon' 'x0_14yrs 1mon'\n",
            " 'x0_14yrs 2mon' 'x0_14yrs 3mon' 'x0_14yrs 4mon' 'x0_14yrs 5mon'\n",
            " 'x0_14yrs 6mon' 'x0_14yrs 7mon' 'x0_14yrs 8mon' 'x0_14yrs 9mon'\n",
            " 'x0_15yrs 0mon' 'x0_15yrs 10mon' 'x0_15yrs 11mon' 'x0_15yrs 1mon'\n",
            " 'x0_15yrs 2mon' 'x0_15yrs 3mon' 'x0_15yrs 4mon' 'x0_15yrs 5mon'\n",
            " 'x0_15yrs 6mon' 'x0_15yrs 7mon' 'x0_15yrs 8mon' 'x0_15yrs 9mon'\n",
            " 'x0_16yrs 0mon' 'x0_16yrs 10mon' 'x0_16yrs 11mon' 'x0_16yrs 1mon'\n",
            " 'x0_16yrs 2mon' 'x0_16yrs 3mon' 'x0_16yrs 4mon' 'x0_16yrs 5mon'\n",
            " 'x0_16yrs 6mon' 'x0_16yrs 7mon' 'x0_16yrs 8mon' 'x0_16yrs 9mon'\n",
            " 'x0_17yrs 0mon' 'x0_17yrs 10mon' 'x0_17yrs 11mon' 'x0_17yrs 1mon'\n",
            " 'x0_17yrs 2mon' 'x0_17yrs 3mon' 'x0_17yrs 4mon' 'x0_17yrs 5mon'\n",
            " 'x0_17yrs 6mon' 'x0_17yrs 7mon' 'x0_17yrs 8mon' 'x0_17yrs 9mon'\n",
            " 'x0_18yrs 0mon' 'x0_18yrs 10mon' 'x0_18yrs 11mon' 'x0_18yrs 1mon'\n",
            " 'x0_18yrs 2mon' 'x0_18yrs 4mon' 'x0_18yrs 5mon' 'x0_18yrs 6mon'\n",
            " 'x0_18yrs 8mon' 'x0_19yrs 0mon' 'x0_19yrs 10mon' 'x0_19yrs 11mon'\n",
            " 'x0_19yrs 1mon' 'x0_19yrs 3mon' 'x0_19yrs 5mon' 'x0_19yrs 6mon'\n",
            " 'x0_19yrs 7mon' 'x0_19yrs 9mon' 'x0_1yrs 0mon' 'x0_1yrs 10mon'\n",
            " 'x0_1yrs 11mon' 'x0_1yrs 1mon' 'x0_1yrs 2mon' 'x0_1yrs 3mon'\n",
            " 'x0_1yrs 4mon' 'x0_1yrs 5mon' 'x0_1yrs 6mon' 'x0_1yrs 7mon'\n",
            " 'x0_1yrs 8mon' 'x0_1yrs 9mon' 'x0_20yrs 0mon' 'x0_20yrs 10mon'\n",
            " 'x0_20yrs 11mon' 'x0_20yrs 1mon' 'x0_20yrs 2mon' 'x0_20yrs 4mon'\n",
            " 'x0_20yrs 5mon' 'x0_20yrs 6mon' 'x0_20yrs 8mon' 'x0_21yrs 11mon'\n",
            " 'x0_21yrs 1mon' 'x0_21yrs 2mon' 'x0_21yrs 3mon' 'x0_21yrs 5mon'\n",
            " 'x0_21yrs 8mon' 'x0_22yrs 0mon' 'x0_22yrs 10mon' 'x0_22yrs 11mon'\n",
            " 'x0_22yrs 1mon' 'x0_22yrs 2mon' 'x0_22yrs 3mon' 'x0_22yrs 4mon'\n",
            " 'x0_22yrs 6mon' 'x0_22yrs 7mon' 'x0_23yrs 2mon' 'x0_23yrs 3mon'\n",
            " 'x0_23yrs 4mon' 'x0_23yrs 6mon' 'x0_24yrs 0mon' 'x0_24yrs 4mon'\n",
            " 'x0_24yrs 7mon' 'x0_25yrs 0mon' 'x0_25yrs 11mon' 'x0_25yrs 6mon'\n",
            " 'x0_25yrs 7mon' 'x0_25yrs 8mon' 'x0_26yrs 11mon' 'x0_26yrs 3mon'\n",
            " 'x0_26yrs 8mon' 'x0_27yrs 3mon' 'x0_27yrs 4mon' 'x0_28yrs 3mon'\n",
            " 'x0_29yrs 1mon' 'x0_29yrs 7mon' 'x0_2yrs 0mon' 'x0_2yrs 10mon'\n",
            " 'x0_2yrs 11mon' 'x0_2yrs 1mon' 'x0_2yrs 2mon' 'x0_2yrs 3mon'\n",
            " 'x0_2yrs 4mon' 'x0_2yrs 5mon' 'x0_2yrs 6mon' 'x0_2yrs 7mon'\n",
            " 'x0_2yrs 8mon' 'x0_2yrs 9mon' 'x0_30yrs 7mon' 'x0_30yrs 9mon'\n",
            " 'x0_34yrs 5mon' 'x0_35yrs 3mon' 'x0_39yrs 0mon' 'x0_3yrs 0mon'\n",
            " 'x0_3yrs 10mon' 'x0_3yrs 11mon' 'x0_3yrs 1mon' 'x0_3yrs 2mon'\n",
            " 'x0_3yrs 3mon' 'x0_3yrs 4mon' 'x0_3yrs 5mon' 'x0_3yrs 6mon'\n",
            " 'x0_3yrs 7mon' 'x0_3yrs 8mon' 'x0_3yrs 9mon' 'x0_4yrs 0mon'\n",
            " 'x0_4yrs 10mon' 'x0_4yrs 11mon' 'x0_4yrs 1mon' 'x0_4yrs 2mon'\n",
            " 'x0_4yrs 3mon' 'x0_4yrs 4mon' 'x0_4yrs 5mon' 'x0_4yrs 6mon'\n",
            " 'x0_4yrs 7mon' 'x0_4yrs 8mon' 'x0_4yrs 9mon' 'x0_5yrs 0mon'\n",
            " 'x0_5yrs 10mon' 'x0_5yrs 11mon' 'x0_5yrs 1mon' 'x0_5yrs 2mon'\n",
            " 'x0_5yrs 3mon' 'x0_5yrs 4mon' 'x0_5yrs 5mon' 'x0_5yrs 6mon'\n",
            " 'x0_5yrs 7mon' 'x0_5yrs 8mon' 'x0_5yrs 9mon' 'x0_6yrs 0mon'\n",
            " 'x0_6yrs 10mon' 'x0_6yrs 11mon' 'x0_6yrs 1mon' 'x0_6yrs 2mon'\n",
            " 'x0_6yrs 3mon' 'x0_6yrs 4mon' 'x0_6yrs 5mon' 'x0_6yrs 6mon'\n",
            " 'x0_6yrs 7mon' 'x0_6yrs 8mon' 'x0_6yrs 9mon' 'x0_7yrs 0mon'\n",
            " 'x0_7yrs 10mon' 'x0_7yrs 11mon' 'x0_7yrs 1mon' 'x0_7yrs 2mon'\n",
            " 'x0_7yrs 3mon' 'x0_7yrs 4mon' 'x0_7yrs 5mon' 'x0_7yrs 6mon'\n",
            " 'x0_7yrs 7mon' 'x0_7yrs 8mon' 'x0_7yrs 9mon' 'x0_8yrs 0mon'\n",
            " 'x0_8yrs 10mon' 'x0_8yrs 11mon' 'x0_8yrs 1mon' 'x0_8yrs 2mon'\n",
            " 'x0_8yrs 3mon' 'x0_8yrs 4mon' 'x0_8yrs 5mon' 'x0_8yrs 6mon'\n",
            " 'x0_8yrs 7mon' 'x0_8yrs 8mon' 'x0_8yrs 9mon' 'x0_9yrs 0mon'\n",
            " 'x0_9yrs 10mon' 'x0_9yrs 11mon' 'x0_9yrs 1mon' 'x0_9yrs 2mon'\n",
            " 'x0_9yrs 3mon' 'x0_9yrs 4mon' 'x0_9yrs 5mon' 'x0_9yrs 6mon'\n",
            " 'x0_9yrs 7mon' 'x0_9yrs 8mon' 'x0_9yrs 9mon' 'x1_Missing' 'x1_Salaried'\n",
            " 'x1_Self employed' 'x2_High Risk' 'x2_Low Risk' 'x2_Medium Risk'\n",
            " 'x2_No Bureau History Available' 'x2_Not Scored' 'x2_Very High Risk'\n",
            " 'x2_Very Low Risk']\n"
          ]
        }
      ],
      "source": [
        "# Accessing OneHotEncoder and retrieving feature names\n",
        "onehot_columns = preprocessor.named_transformers_['cat'].named_steps['onehotencoder'].get_feature_names_out()\n",
        "\n",
        "# Verify the feature names\n",
        "print(onehot_columns)\n"
      ]
    },
    {
      "cell_type": "code",
      "execution_count": null,
      "metadata": {
        "id": "wuXffW_M4yiN"
      },
      "outputs": [],
      "source": [
        "# Accessing OneHotEncoder and retrieving feature names\n",
        "#onehotcolumns = preprocessor.named_transformers_['cat']['onehotencoder'].get_feature_names_out()\n",
        "\n",
        "# Verify the feature names\n",
        "#print(onehotcolumns)\n"
      ]
    },
    {
      "cell_type": "code",
      "execution_count": null,
      "metadata": {
        "colab": {
          "base_uri": "https://localhost:8080/"
        },
        "id": "ieAdofo4b5LE",
        "outputId": "d2b00aa6-a6d2-4d47-9243-a8ce562f62ed"
      },
      "outputs": [
        {
          "output_type": "execute_result",
          "data": {
            "text/plain": [
              "array(['x0_0yrs 0mon', 'x0_0yrs 10mon', 'x0_0yrs 11mon', 'x0_0yrs 1mon',\n",
              "       'x0_0yrs 2mon', 'x0_0yrs 3mon', 'x0_0yrs 4mon', 'x0_0yrs 5mon',\n",
              "       'x0_0yrs 6mon', 'x0_0yrs 7mon', 'x0_0yrs 8mon', 'x0_0yrs 9mon',\n",
              "       'x0_10yrs 0mon', 'x0_10yrs 10mon', 'x0_10yrs 11mon',\n",
              "       'x0_10yrs 1mon', 'x0_10yrs 2mon', 'x0_10yrs 3mon', 'x0_10yrs 4mon',\n",
              "       'x0_10yrs 5mon', 'x0_10yrs 6mon', 'x0_10yrs 7mon', 'x0_10yrs 8mon',\n",
              "       'x0_10yrs 9mon', 'x0_11yrs 0mon', 'x0_11yrs 10mon',\n",
              "       'x0_11yrs 11mon', 'x0_11yrs 1mon', 'x0_11yrs 2mon',\n",
              "       'x0_11yrs 3mon', 'x0_11yrs 4mon', 'x0_11yrs 5mon', 'x0_11yrs 6mon',\n",
              "       'x0_11yrs 7mon', 'x0_11yrs 8mon', 'x0_11yrs 9mon', 'x0_12yrs 0mon',\n",
              "       'x0_12yrs 10mon', 'x0_12yrs 11mon', 'x0_12yrs 1mon',\n",
              "       'x0_12yrs 2mon', 'x0_12yrs 3mon', 'x0_12yrs 4mon', 'x0_12yrs 5mon',\n",
              "       'x0_12yrs 6mon', 'x0_12yrs 7mon', 'x0_12yrs 8mon', 'x0_12yrs 9mon',\n",
              "       'x0_13yrs 0mon', 'x0_13yrs 10mon', 'x0_13yrs 11mon',\n",
              "       'x0_13yrs 1mon', 'x0_13yrs 2mon', 'x0_13yrs 3mon', 'x0_13yrs 4mon',\n",
              "       'x0_13yrs 5mon', 'x0_13yrs 6mon', 'x0_13yrs 7mon', 'x0_13yrs 8mon',\n",
              "       'x0_13yrs 9mon', 'x0_14yrs 0mon', 'x0_14yrs 10mon',\n",
              "       'x0_14yrs 11mon', 'x0_14yrs 1mon', 'x0_14yrs 2mon',\n",
              "       'x0_14yrs 3mon', 'x0_14yrs 4mon', 'x0_14yrs 5mon', 'x0_14yrs 6mon',\n",
              "       'x0_14yrs 7mon', 'x0_14yrs 8mon', 'x0_14yrs 9mon', 'x0_15yrs 0mon',\n",
              "       'x0_15yrs 10mon', 'x0_15yrs 11mon', 'x0_15yrs 1mon',\n",
              "       'x0_15yrs 2mon', 'x0_15yrs 3mon', 'x0_15yrs 4mon', 'x0_15yrs 5mon',\n",
              "       'x0_15yrs 6mon', 'x0_15yrs 7mon', 'x0_15yrs 8mon', 'x0_15yrs 9mon',\n",
              "       'x0_16yrs 0mon', 'x0_16yrs 10mon', 'x0_16yrs 11mon',\n",
              "       'x0_16yrs 1mon', 'x0_16yrs 2mon', 'x0_16yrs 3mon', 'x0_16yrs 4mon',\n",
              "       'x0_16yrs 5mon', 'x0_16yrs 6mon', 'x0_16yrs 7mon', 'x0_16yrs 8mon',\n",
              "       'x0_16yrs 9mon', 'x0_17yrs 0mon', 'x0_17yrs 10mon',\n",
              "       'x0_17yrs 11mon', 'x0_17yrs 1mon', 'x0_17yrs 2mon',\n",
              "       'x0_17yrs 3mon', 'x0_17yrs 4mon', 'x0_17yrs 5mon', 'x0_17yrs 6mon',\n",
              "       'x0_17yrs 7mon', 'x0_17yrs 8mon', 'x0_17yrs 9mon', 'x0_18yrs 0mon',\n",
              "       'x0_18yrs 10mon', 'x0_18yrs 11mon', 'x0_18yrs 1mon',\n",
              "       'x0_18yrs 2mon', 'x0_18yrs 4mon', 'x0_18yrs 5mon', 'x0_18yrs 6mon',\n",
              "       'x0_18yrs 8mon', 'x0_19yrs 0mon', 'x0_19yrs 10mon',\n",
              "       'x0_19yrs 11mon', 'x0_19yrs 1mon', 'x0_19yrs 3mon',\n",
              "       'x0_19yrs 5mon', 'x0_19yrs 6mon', 'x0_19yrs 7mon', 'x0_19yrs 9mon',\n",
              "       'x0_1yrs 0mon', 'x0_1yrs 10mon', 'x0_1yrs 11mon', 'x0_1yrs 1mon',\n",
              "       'x0_1yrs 2mon', 'x0_1yrs 3mon', 'x0_1yrs 4mon', 'x0_1yrs 5mon',\n",
              "       'x0_1yrs 6mon', 'x0_1yrs 7mon', 'x0_1yrs 8mon', 'x0_1yrs 9mon',\n",
              "       'x0_20yrs 0mon', 'x0_20yrs 10mon', 'x0_20yrs 11mon',\n",
              "       'x0_20yrs 1mon', 'x0_20yrs 2mon', 'x0_20yrs 4mon', 'x0_20yrs 5mon',\n",
              "       'x0_20yrs 6mon', 'x0_20yrs 8mon', 'x0_21yrs 11mon',\n",
              "       'x0_21yrs 1mon', 'x0_21yrs 2mon', 'x0_21yrs 3mon', 'x0_21yrs 5mon',\n",
              "       'x0_21yrs 8mon', 'x0_22yrs 0mon', 'x0_22yrs 10mon',\n",
              "       'x0_22yrs 11mon', 'x0_22yrs 1mon', 'x0_22yrs 2mon',\n",
              "       'x0_22yrs 3mon', 'x0_22yrs 4mon', 'x0_22yrs 6mon', 'x0_22yrs 7mon',\n",
              "       'x0_23yrs 2mon', 'x0_23yrs 3mon', 'x0_23yrs 4mon', 'x0_23yrs 6mon',\n",
              "       'x0_24yrs 0mon', 'x0_24yrs 4mon', 'x0_24yrs 7mon', 'x0_25yrs 0mon',\n",
              "       'x0_25yrs 11mon', 'x0_25yrs 6mon', 'x0_25yrs 7mon',\n",
              "       'x0_25yrs 8mon', 'x0_26yrs 11mon', 'x0_26yrs 3mon',\n",
              "       'x0_26yrs 8mon', 'x0_27yrs 3mon', 'x0_27yrs 4mon', 'x0_28yrs 3mon',\n",
              "       'x0_29yrs 1mon', 'x0_29yrs 7mon', 'x0_2yrs 0mon', 'x0_2yrs 10mon',\n",
              "       'x0_2yrs 11mon', 'x0_2yrs 1mon', 'x0_2yrs 2mon', 'x0_2yrs 3mon',\n",
              "       'x0_2yrs 4mon', 'x0_2yrs 5mon', 'x0_2yrs 6mon', 'x0_2yrs 7mon',\n",
              "       'x0_2yrs 8mon', 'x0_2yrs 9mon', 'x0_30yrs 7mon', 'x0_30yrs 9mon',\n",
              "       'x0_34yrs 5mon', 'x0_35yrs 3mon', 'x0_39yrs 0mon', 'x0_3yrs 0mon',\n",
              "       'x0_3yrs 10mon', 'x0_3yrs 11mon', 'x0_3yrs 1mon', 'x0_3yrs 2mon',\n",
              "       'x0_3yrs 3mon', 'x0_3yrs 4mon', 'x0_3yrs 5mon', 'x0_3yrs 6mon',\n",
              "       'x0_3yrs 7mon', 'x0_3yrs 8mon', 'x0_3yrs 9mon', 'x0_4yrs 0mon',\n",
              "       'x0_4yrs 10mon', 'x0_4yrs 11mon', 'x0_4yrs 1mon', 'x0_4yrs 2mon',\n",
              "       'x0_4yrs 3mon', 'x0_4yrs 4mon', 'x0_4yrs 5mon', 'x0_4yrs 6mon',\n",
              "       'x0_4yrs 7mon', 'x0_4yrs 8mon', 'x0_4yrs 9mon', 'x0_5yrs 0mon',\n",
              "       'x0_5yrs 10mon', 'x0_5yrs 11mon', 'x0_5yrs 1mon', 'x0_5yrs 2mon',\n",
              "       'x0_5yrs 3mon', 'x0_5yrs 4mon', 'x0_5yrs 5mon', 'x0_5yrs 6mon',\n",
              "       'x0_5yrs 7mon', 'x0_5yrs 8mon', 'x0_5yrs 9mon', 'x0_6yrs 0mon',\n",
              "       'x0_6yrs 10mon', 'x0_6yrs 11mon', 'x0_6yrs 1mon', 'x0_6yrs 2mon',\n",
              "       'x0_6yrs 3mon', 'x0_6yrs 4mon', 'x0_6yrs 5mon', 'x0_6yrs 6mon',\n",
              "       'x0_6yrs 7mon', 'x0_6yrs 8mon', 'x0_6yrs 9mon', 'x0_7yrs 0mon',\n",
              "       'x0_7yrs 10mon', 'x0_7yrs 11mon', 'x0_7yrs 1mon', 'x0_7yrs 2mon',\n",
              "       'x0_7yrs 3mon', 'x0_7yrs 4mon', 'x0_7yrs 5mon', 'x0_7yrs 6mon',\n",
              "       'x0_7yrs 7mon', 'x0_7yrs 8mon', 'x0_7yrs 9mon', 'x0_8yrs 0mon',\n",
              "       'x0_8yrs 10mon', 'x0_8yrs 11mon', 'x0_8yrs 1mon', 'x0_8yrs 2mon',\n",
              "       'x0_8yrs 3mon', 'x0_8yrs 4mon', 'x0_8yrs 5mon', 'x0_8yrs 6mon',\n",
              "       'x0_8yrs 7mon', 'x0_8yrs 8mon', 'x0_8yrs 9mon', 'x0_9yrs 0mon',\n",
              "       'x0_9yrs 10mon', 'x0_9yrs 11mon', 'x0_9yrs 1mon', 'x0_9yrs 2mon',\n",
              "       'x0_9yrs 3mon', 'x0_9yrs 4mon', 'x0_9yrs 5mon', 'x0_9yrs 6mon',\n",
              "       'x0_9yrs 7mon', 'x0_9yrs 8mon', 'x0_9yrs 9mon', 'x1_Missing',\n",
              "       'x1_Salaried', 'x1_Self employed', 'x2_High Risk', 'x2_Low Risk',\n",
              "       'x2_Medium Risk', 'x2_No Bureau History Available',\n",
              "       'x2_Not Scored', 'x2_Very High Risk', 'x2_Very Low Risk'],\n",
              "      dtype=object)"
            ]
          },
          "metadata": {},
          "execution_count": 75
        }
      ],
      "source": [
        "onehotcolumns"
      ]
    },
    {
      "cell_type": "code",
      "execution_count": null,
      "metadata": {
        "colab": {
          "base_uri": "https://localhost:8080/"
        },
        "id": "C4LFqhZ3cPpk",
        "outputId": "8365364e-9ba8-4811-a588-cbc7bc66c515"
      },
      "outputs": [
        {
          "output_type": "execute_result",
          "data": {
            "text/plain": [
              "['driving_flag', 'voterid_flag', 'pan_flag', 'passport_flag', 'aadhar_flag']"
            ]
          },
          "metadata": {},
          "execution_count": 76
        }
      ],
      "source": [
        "not_in_pipe"
      ]
    },
    {
      "cell_type": "code",
      "execution_count": null,
      "metadata": {
        "id": "AqYeoSMZcyIz"
      },
      "outputs": [],
      "source": [
        "all_columns = num_columns + list(onehotcolumns) + not_in_pipe"
      ]
    },
    {
      "cell_type": "code",
      "execution_count": null,
      "metadata": {
        "colab": {
          "base_uri": "https://localhost:8080/"
        },
        "id": "cXbragdVdJ9T",
        "outputId": "04b3bc09-c394-46a5-bd4b-294c3346f47f"
      },
      "outputs": [
        {
          "output_type": "execute_result",
          "data": {
            "text/plain": [
              "['ltv',\n",
              " 'pri_current_balance',\n",
              " 'pri_overdue_accts',\n",
              " 'sec_overdue_accts',\n",
              " 'sec_disbursed_amount',\n",
              " 'event_count_branch',\n",
              " 'pri_disbursed_amount',\n",
              " 'average_acct_age',\n",
              " 'pri_active_accts',\n",
              " 'delinquent_accts_in_last_six_months',\n",
              " 'perform_cns_score',\n",
              " 'primary_instal_amt',\n",
              " 'sec_active_accts',\n",
              " 'sec_sanctioned_amount',\n",
              " 'sec_current_balance',\n",
              " 'sec_no_of_accts',\n",
              " 'pri_no_of_accts',\n",
              " 'no_of_inquiries',\n",
              " 'event_state',\n",
              " 'pri_sanctioned_amount',\n",
              " 'disbursed_amount',\n",
              " 'asset_cost',\n",
              " 'event_count_manufacturer',\n",
              " 'sec_instal_amt',\n",
              " 'new_accts_in_last_six_months',\n",
              " 'x0_0yrs 0mon',\n",
              " 'x0_0yrs 10mon',\n",
              " 'x0_0yrs 11mon',\n",
              " 'x0_0yrs 1mon',\n",
              " 'x0_0yrs 2mon',\n",
              " 'x0_0yrs 3mon',\n",
              " 'x0_0yrs 4mon',\n",
              " 'x0_0yrs 5mon',\n",
              " 'x0_0yrs 6mon',\n",
              " 'x0_0yrs 7mon',\n",
              " 'x0_0yrs 8mon',\n",
              " 'x0_0yrs 9mon',\n",
              " 'x0_10yrs 0mon',\n",
              " 'x0_10yrs 10mon',\n",
              " 'x0_10yrs 11mon',\n",
              " 'x0_10yrs 1mon',\n",
              " 'x0_10yrs 2mon',\n",
              " 'x0_10yrs 3mon',\n",
              " 'x0_10yrs 4mon',\n",
              " 'x0_10yrs 5mon',\n",
              " 'x0_10yrs 6mon',\n",
              " 'x0_10yrs 7mon',\n",
              " 'x0_10yrs 8mon',\n",
              " 'x0_10yrs 9mon',\n",
              " 'x0_11yrs 0mon',\n",
              " 'x0_11yrs 10mon',\n",
              " 'x0_11yrs 11mon',\n",
              " 'x0_11yrs 1mon',\n",
              " 'x0_11yrs 2mon',\n",
              " 'x0_11yrs 3mon',\n",
              " 'x0_11yrs 4mon',\n",
              " 'x0_11yrs 5mon',\n",
              " 'x0_11yrs 6mon',\n",
              " 'x0_11yrs 7mon',\n",
              " 'x0_11yrs 8mon',\n",
              " 'x0_11yrs 9mon',\n",
              " 'x0_12yrs 0mon',\n",
              " 'x0_12yrs 10mon',\n",
              " 'x0_12yrs 11mon',\n",
              " 'x0_12yrs 1mon',\n",
              " 'x0_12yrs 2mon',\n",
              " 'x0_12yrs 3mon',\n",
              " 'x0_12yrs 4mon',\n",
              " 'x0_12yrs 5mon',\n",
              " 'x0_12yrs 6mon',\n",
              " 'x0_12yrs 7mon',\n",
              " 'x0_12yrs 8mon',\n",
              " 'x0_12yrs 9mon',\n",
              " 'x0_13yrs 0mon',\n",
              " 'x0_13yrs 10mon',\n",
              " 'x0_13yrs 11mon',\n",
              " 'x0_13yrs 1mon',\n",
              " 'x0_13yrs 2mon',\n",
              " 'x0_13yrs 3mon',\n",
              " 'x0_13yrs 4mon',\n",
              " 'x0_13yrs 5mon',\n",
              " 'x0_13yrs 6mon',\n",
              " 'x0_13yrs 7mon',\n",
              " 'x0_13yrs 8mon',\n",
              " 'x0_13yrs 9mon',\n",
              " 'x0_14yrs 0mon',\n",
              " 'x0_14yrs 10mon',\n",
              " 'x0_14yrs 11mon',\n",
              " 'x0_14yrs 1mon',\n",
              " 'x0_14yrs 2mon',\n",
              " 'x0_14yrs 3mon',\n",
              " 'x0_14yrs 4mon',\n",
              " 'x0_14yrs 5mon',\n",
              " 'x0_14yrs 6mon',\n",
              " 'x0_14yrs 7mon',\n",
              " 'x0_14yrs 8mon',\n",
              " 'x0_14yrs 9mon',\n",
              " 'x0_15yrs 0mon',\n",
              " 'x0_15yrs 10mon',\n",
              " 'x0_15yrs 11mon',\n",
              " 'x0_15yrs 1mon',\n",
              " 'x0_15yrs 2mon',\n",
              " 'x0_15yrs 3mon',\n",
              " 'x0_15yrs 4mon',\n",
              " 'x0_15yrs 5mon',\n",
              " 'x0_15yrs 6mon',\n",
              " 'x0_15yrs 7mon',\n",
              " 'x0_15yrs 8mon',\n",
              " 'x0_15yrs 9mon',\n",
              " 'x0_16yrs 0mon',\n",
              " 'x0_16yrs 10mon',\n",
              " 'x0_16yrs 11mon',\n",
              " 'x0_16yrs 1mon',\n",
              " 'x0_16yrs 2mon',\n",
              " 'x0_16yrs 3mon',\n",
              " 'x0_16yrs 4mon',\n",
              " 'x0_16yrs 5mon',\n",
              " 'x0_16yrs 6mon',\n",
              " 'x0_16yrs 7mon',\n",
              " 'x0_16yrs 8mon',\n",
              " 'x0_16yrs 9mon',\n",
              " 'x0_17yrs 0mon',\n",
              " 'x0_17yrs 10mon',\n",
              " 'x0_17yrs 11mon',\n",
              " 'x0_17yrs 1mon',\n",
              " 'x0_17yrs 2mon',\n",
              " 'x0_17yrs 3mon',\n",
              " 'x0_17yrs 4mon',\n",
              " 'x0_17yrs 5mon',\n",
              " 'x0_17yrs 6mon',\n",
              " 'x0_17yrs 7mon',\n",
              " 'x0_17yrs 8mon',\n",
              " 'x0_17yrs 9mon',\n",
              " 'x0_18yrs 0mon',\n",
              " 'x0_18yrs 10mon',\n",
              " 'x0_18yrs 11mon',\n",
              " 'x0_18yrs 1mon',\n",
              " 'x0_18yrs 2mon',\n",
              " 'x0_18yrs 4mon',\n",
              " 'x0_18yrs 5mon',\n",
              " 'x0_18yrs 6mon',\n",
              " 'x0_18yrs 8mon',\n",
              " 'x0_19yrs 0mon',\n",
              " 'x0_19yrs 10mon',\n",
              " 'x0_19yrs 11mon',\n",
              " 'x0_19yrs 1mon',\n",
              " 'x0_19yrs 3mon',\n",
              " 'x0_19yrs 5mon',\n",
              " 'x0_19yrs 6mon',\n",
              " 'x0_19yrs 7mon',\n",
              " 'x0_19yrs 9mon',\n",
              " 'x0_1yrs 0mon',\n",
              " 'x0_1yrs 10mon',\n",
              " 'x0_1yrs 11mon',\n",
              " 'x0_1yrs 1mon',\n",
              " 'x0_1yrs 2mon',\n",
              " 'x0_1yrs 3mon',\n",
              " 'x0_1yrs 4mon',\n",
              " 'x0_1yrs 5mon',\n",
              " 'x0_1yrs 6mon',\n",
              " 'x0_1yrs 7mon',\n",
              " 'x0_1yrs 8mon',\n",
              " 'x0_1yrs 9mon',\n",
              " 'x0_20yrs 0mon',\n",
              " 'x0_20yrs 10mon',\n",
              " 'x0_20yrs 11mon',\n",
              " 'x0_20yrs 1mon',\n",
              " 'x0_20yrs 2mon',\n",
              " 'x0_20yrs 4mon',\n",
              " 'x0_20yrs 5mon',\n",
              " 'x0_20yrs 6mon',\n",
              " 'x0_20yrs 8mon',\n",
              " 'x0_21yrs 11mon',\n",
              " 'x0_21yrs 1mon',\n",
              " 'x0_21yrs 2mon',\n",
              " 'x0_21yrs 3mon',\n",
              " 'x0_21yrs 5mon',\n",
              " 'x0_21yrs 8mon',\n",
              " 'x0_22yrs 0mon',\n",
              " 'x0_22yrs 10mon',\n",
              " 'x0_22yrs 11mon',\n",
              " 'x0_22yrs 1mon',\n",
              " 'x0_22yrs 2mon',\n",
              " 'x0_22yrs 3mon',\n",
              " 'x0_22yrs 4mon',\n",
              " 'x0_22yrs 6mon',\n",
              " 'x0_22yrs 7mon',\n",
              " 'x0_23yrs 2mon',\n",
              " 'x0_23yrs 3mon',\n",
              " 'x0_23yrs 4mon',\n",
              " 'x0_23yrs 6mon',\n",
              " 'x0_24yrs 0mon',\n",
              " 'x0_24yrs 4mon',\n",
              " 'x0_24yrs 7mon',\n",
              " 'x0_25yrs 0mon',\n",
              " 'x0_25yrs 11mon',\n",
              " 'x0_25yrs 6mon',\n",
              " 'x0_25yrs 7mon',\n",
              " 'x0_25yrs 8mon',\n",
              " 'x0_26yrs 11mon',\n",
              " 'x0_26yrs 3mon',\n",
              " 'x0_26yrs 8mon',\n",
              " 'x0_27yrs 3mon',\n",
              " 'x0_27yrs 4mon',\n",
              " 'x0_28yrs 3mon',\n",
              " 'x0_29yrs 1mon',\n",
              " 'x0_29yrs 7mon',\n",
              " 'x0_2yrs 0mon',\n",
              " 'x0_2yrs 10mon',\n",
              " 'x0_2yrs 11mon',\n",
              " 'x0_2yrs 1mon',\n",
              " 'x0_2yrs 2mon',\n",
              " 'x0_2yrs 3mon',\n",
              " 'x0_2yrs 4mon',\n",
              " 'x0_2yrs 5mon',\n",
              " 'x0_2yrs 6mon',\n",
              " 'x0_2yrs 7mon',\n",
              " 'x0_2yrs 8mon',\n",
              " 'x0_2yrs 9mon',\n",
              " 'x0_30yrs 7mon',\n",
              " 'x0_30yrs 9mon',\n",
              " 'x0_34yrs 5mon',\n",
              " 'x0_35yrs 3mon',\n",
              " 'x0_39yrs 0mon',\n",
              " 'x0_3yrs 0mon',\n",
              " 'x0_3yrs 10mon',\n",
              " 'x0_3yrs 11mon',\n",
              " 'x0_3yrs 1mon',\n",
              " 'x0_3yrs 2mon',\n",
              " 'x0_3yrs 3mon',\n",
              " 'x0_3yrs 4mon',\n",
              " 'x0_3yrs 5mon',\n",
              " 'x0_3yrs 6mon',\n",
              " 'x0_3yrs 7mon',\n",
              " 'x0_3yrs 8mon',\n",
              " 'x0_3yrs 9mon',\n",
              " 'x0_4yrs 0mon',\n",
              " 'x0_4yrs 10mon',\n",
              " 'x0_4yrs 11mon',\n",
              " 'x0_4yrs 1mon',\n",
              " 'x0_4yrs 2mon',\n",
              " 'x0_4yrs 3mon',\n",
              " 'x0_4yrs 4mon',\n",
              " 'x0_4yrs 5mon',\n",
              " 'x0_4yrs 6mon',\n",
              " 'x0_4yrs 7mon',\n",
              " 'x0_4yrs 8mon',\n",
              " 'x0_4yrs 9mon',\n",
              " 'x0_5yrs 0mon',\n",
              " 'x0_5yrs 10mon',\n",
              " 'x0_5yrs 11mon',\n",
              " 'x0_5yrs 1mon',\n",
              " 'x0_5yrs 2mon',\n",
              " 'x0_5yrs 3mon',\n",
              " 'x0_5yrs 4mon',\n",
              " 'x0_5yrs 5mon',\n",
              " 'x0_5yrs 6mon',\n",
              " 'x0_5yrs 7mon',\n",
              " 'x0_5yrs 8mon',\n",
              " 'x0_5yrs 9mon',\n",
              " 'x0_6yrs 0mon',\n",
              " 'x0_6yrs 10mon',\n",
              " 'x0_6yrs 11mon',\n",
              " 'x0_6yrs 1mon',\n",
              " 'x0_6yrs 2mon',\n",
              " 'x0_6yrs 3mon',\n",
              " 'x0_6yrs 4mon',\n",
              " 'x0_6yrs 5mon',\n",
              " 'x0_6yrs 6mon',\n",
              " 'x0_6yrs 7mon',\n",
              " 'x0_6yrs 8mon',\n",
              " 'x0_6yrs 9mon',\n",
              " 'x0_7yrs 0mon',\n",
              " 'x0_7yrs 10mon',\n",
              " 'x0_7yrs 11mon',\n",
              " 'x0_7yrs 1mon',\n",
              " 'x0_7yrs 2mon',\n",
              " 'x0_7yrs 3mon',\n",
              " 'x0_7yrs 4mon',\n",
              " 'x0_7yrs 5mon',\n",
              " 'x0_7yrs 6mon',\n",
              " 'x0_7yrs 7mon',\n",
              " 'x0_7yrs 8mon',\n",
              " 'x0_7yrs 9mon',\n",
              " 'x0_8yrs 0mon',\n",
              " 'x0_8yrs 10mon',\n",
              " 'x0_8yrs 11mon',\n",
              " 'x0_8yrs 1mon',\n",
              " 'x0_8yrs 2mon',\n",
              " 'x0_8yrs 3mon',\n",
              " 'x0_8yrs 4mon',\n",
              " 'x0_8yrs 5mon',\n",
              " 'x0_8yrs 6mon',\n",
              " 'x0_8yrs 7mon',\n",
              " 'x0_8yrs 8mon',\n",
              " 'x0_8yrs 9mon',\n",
              " 'x0_9yrs 0mon',\n",
              " 'x0_9yrs 10mon',\n",
              " 'x0_9yrs 11mon',\n",
              " 'x0_9yrs 1mon',\n",
              " 'x0_9yrs 2mon',\n",
              " 'x0_9yrs 3mon',\n",
              " 'x0_9yrs 4mon',\n",
              " 'x0_9yrs 5mon',\n",
              " 'x0_9yrs 6mon',\n",
              " 'x0_9yrs 7mon',\n",
              " 'x0_9yrs 8mon',\n",
              " 'x0_9yrs 9mon',\n",
              " 'x1_Missing',\n",
              " 'x1_Salaried',\n",
              " 'x1_Self employed',\n",
              " 'x2_High Risk',\n",
              " 'x2_Low Risk',\n",
              " 'x2_Medium Risk',\n",
              " 'x2_No Bureau History Available',\n",
              " 'x2_Not Scored',\n",
              " 'x2_Very High Risk',\n",
              " 'x2_Very Low Risk',\n",
              " 'driving_flag',\n",
              " 'voterid_flag',\n",
              " 'pan_flag',\n",
              " 'passport_flag',\n",
              " 'aadhar_flag']"
            ]
          },
          "metadata": {},
          "execution_count": 78
        }
      ],
      "source": [
        "all_columns"
      ]
    },
    {
      "cell_type": "code",
      "execution_count": null,
      "metadata": {
        "id": "G3zIBpqFdMi0"
      },
      "outputs": [],
      "source": [
        "datanew.columns = all_columns"
      ]
    },
    {
      "cell_type": "code",
      "execution_count": null,
      "metadata": {
        "colab": {
          "base_uri": "https://localhost:8080/"
        },
        "id": "5U9qbHzO9DH9",
        "outputId": "a2a1abe8-f557-4098-f855-468a25be0211"
      },
      "outputs": [
        {
          "output_type": "stream",
          "name": "stdout",
          "text": [
            "<class 'pandas.core.indexes.base.Index'>\n"
          ]
        }
      ],
      "source": [
        "print(type(datanew.columns))"
      ]
    },
    {
      "cell_type": "code",
      "execution_count": null,
      "metadata": {
        "colab": {
          "base_uri": "https://localhost:8080/"
        },
        "id": "x6reqGtbd9Mj",
        "outputId": "75688ebd-3896-4f6d-bf21-463356dcfebd"
      },
      "outputs": [
        {
          "output_type": "stream",
          "name": "stderr",
          "text": [
            "/usr/local/lib/python3.10/dist-packages/sklearn/utils/validation.py:1143: DataConversionWarning: A column-vector y was passed when a 1d array was expected. Please change the shape of y to (n_samples, ), for example using ravel().\n",
            "  y = column_or_1d(y, warn=True)\n"
          ]
        }
      ],
      "source": [
        "model = model.fit(x_train_1.loc[:, num_columns + char_columns + not_in_pipe], Y_train_1)"
      ]
    },
    {
      "cell_type": "code",
      "source": [
        "##model = RandomForestClassifier(n_estimators=100, random_state=42)\n"
      ],
      "metadata": {
        "id": "hYJKqRIW3o5Y"
      },
      "execution_count": null,
      "outputs": []
    },
    {
      "cell_type": "code",
      "source": [
        "model"
      ],
      "metadata": {
        "colab": {
          "base_uri": "https://localhost:8080/",
          "height": 228
        },
        "id": "7evxA3x83o8r",
        "outputId": "5a89aee6-2cfe-46ac-f9e6-f4a898fd01a9"
      },
      "execution_count": null,
      "outputs": [
        {
          "output_type": "execute_result",
          "data": {
            "text/plain": [
              "Pipeline(steps=[('preprocessor',\n",
              "                 ColumnTransformer(remainder='passthrough',\n",
              "                                   transformers=[('cat',\n",
              "                                                  Pipeline(steps=[('simpleimputer',\n",
              "                                                                   SimpleImputer(fill_value='Missing',\n",
              "                                                                                 strategy='constant')),\n",
              "                                                                  ('onehotencoder',\n",
              "                                                                   OneHotEncoder(handle_unknown='ignore'))]),\n",
              "                                                  ['credit_history_length',\n",
              "                                                   'employment_type',\n",
              "                                                   'perform_cns_score_description']),\n",
              "                                                 ('num',\n",
              "                                                  Pipeline(steps=[('simp...\n",
              "                                                   'primary_instal_amt',\n",
              "                                                   'sec_active_accts',\n",
              "                                                   'sec_sanctioned_amount',\n",
              "                                                   'sec_current_balance',\n",
              "                                                   'sec_no_of_accts',\n",
              "                                                   'pri_no_of_accts',\n",
              "                                                   'no_of_inquiries',\n",
              "                                                   'event_state',\n",
              "                                                   'pri_sanctioned_amount',\n",
              "                                                   'disbursed_amount',\n",
              "                                                   'asset_cost',\n",
              "                                                   'event_count_manufacturer',\n",
              "                                                   'sec_instal_amt',\n",
              "                                                   'new_accts_in_last_six_months'])])),\n",
              "                ('classifier',\n",
              "                 LogisticRegression(class_weight='balanced', max_iter=10000))])"
            ],
            "text/html": [
              "<style>#sk-container-id-5 {color: black;background-color: white;}#sk-container-id-5 pre{padding: 0;}#sk-container-id-5 div.sk-toggleable {background-color: white;}#sk-container-id-5 label.sk-toggleable__label {cursor: pointer;display: block;width: 100%;margin-bottom: 0;padding: 0.3em;box-sizing: border-box;text-align: center;}#sk-container-id-5 label.sk-toggleable__label-arrow:before {content: \"▸\";float: left;margin-right: 0.25em;color: #696969;}#sk-container-id-5 label.sk-toggleable__label-arrow:hover:before {color: black;}#sk-container-id-5 div.sk-estimator:hover label.sk-toggleable__label-arrow:before {color: black;}#sk-container-id-5 div.sk-toggleable__content {max-height: 0;max-width: 0;overflow: hidden;text-align: left;background-color: #f0f8ff;}#sk-container-id-5 div.sk-toggleable__content pre {margin: 0.2em;color: black;border-radius: 0.25em;background-color: #f0f8ff;}#sk-container-id-5 input.sk-toggleable__control:checked~div.sk-toggleable__content {max-height: 200px;max-width: 100%;overflow: auto;}#sk-container-id-5 input.sk-toggleable__control:checked~label.sk-toggleable__label-arrow:before {content: \"▾\";}#sk-container-id-5 div.sk-estimator input.sk-toggleable__control:checked~label.sk-toggleable__label {background-color: #d4ebff;}#sk-container-id-5 div.sk-label input.sk-toggleable__control:checked~label.sk-toggleable__label {background-color: #d4ebff;}#sk-container-id-5 input.sk-hidden--visually {border: 0;clip: rect(1px 1px 1px 1px);clip: rect(1px, 1px, 1px, 1px);height: 1px;margin: -1px;overflow: hidden;padding: 0;position: absolute;width: 1px;}#sk-container-id-5 div.sk-estimator {font-family: monospace;background-color: #f0f8ff;border: 1px dotted black;border-radius: 0.25em;box-sizing: border-box;margin-bottom: 0.5em;}#sk-container-id-5 div.sk-estimator:hover {background-color: #d4ebff;}#sk-container-id-5 div.sk-parallel-item::after {content: \"\";width: 100%;border-bottom: 1px solid gray;flex-grow: 1;}#sk-container-id-5 div.sk-label:hover label.sk-toggleable__label {background-color: #d4ebff;}#sk-container-id-5 div.sk-serial::before {content: \"\";position: absolute;border-left: 1px solid gray;box-sizing: border-box;top: 0;bottom: 0;left: 50%;z-index: 0;}#sk-container-id-5 div.sk-serial {display: flex;flex-direction: column;align-items: center;background-color: white;padding-right: 0.2em;padding-left: 0.2em;position: relative;}#sk-container-id-5 div.sk-item {position: relative;z-index: 1;}#sk-container-id-5 div.sk-parallel {display: flex;align-items: stretch;justify-content: center;background-color: white;position: relative;}#sk-container-id-5 div.sk-item::before, #sk-container-id-5 div.sk-parallel-item::before {content: \"\";position: absolute;border-left: 1px solid gray;box-sizing: border-box;top: 0;bottom: 0;left: 50%;z-index: -1;}#sk-container-id-5 div.sk-parallel-item {display: flex;flex-direction: column;z-index: 1;position: relative;background-color: white;}#sk-container-id-5 div.sk-parallel-item:first-child::after {align-self: flex-end;width: 50%;}#sk-container-id-5 div.sk-parallel-item:last-child::after {align-self: flex-start;width: 50%;}#sk-container-id-5 div.sk-parallel-item:only-child::after {width: 0;}#sk-container-id-5 div.sk-dashed-wrapped {border: 1px dashed gray;margin: 0 0.4em 0.5em 0.4em;box-sizing: border-box;padding-bottom: 0.4em;background-color: white;}#sk-container-id-5 div.sk-label label {font-family: monospace;font-weight: bold;display: inline-block;line-height: 1.2em;}#sk-container-id-5 div.sk-label-container {text-align: center;}#sk-container-id-5 div.sk-container {/* jupyter's `normalize.less` sets `[hidden] { display: none; }` but bootstrap.min.css set `[hidden] { display: none !important; }` so we also need the `!important` here to be able to override the default hidden behavior on the sphinx rendered scikit-learn.org. See: https://github.com/scikit-learn/scikit-learn/issues/21755 */display: inline-block !important;position: relative;}#sk-container-id-5 div.sk-text-repr-fallback {display: none;}</style><div id=\"sk-container-id-5\" class=\"sk-top-container\"><div class=\"sk-text-repr-fallback\"><pre>Pipeline(steps=[(&#x27;preprocessor&#x27;,\n",
              "                 ColumnTransformer(remainder=&#x27;passthrough&#x27;,\n",
              "                                   transformers=[(&#x27;cat&#x27;,\n",
              "                                                  Pipeline(steps=[(&#x27;simpleimputer&#x27;,\n",
              "                                                                   SimpleImputer(fill_value=&#x27;Missing&#x27;,\n",
              "                                                                                 strategy=&#x27;constant&#x27;)),\n",
              "                                                                  (&#x27;onehotencoder&#x27;,\n",
              "                                                                   OneHotEncoder(handle_unknown=&#x27;ignore&#x27;))]),\n",
              "                                                  [&#x27;credit_history_length&#x27;,\n",
              "                                                   &#x27;employment_type&#x27;,\n",
              "                                                   &#x27;perform_cns_score_description&#x27;]),\n",
              "                                                 (&#x27;num&#x27;,\n",
              "                                                  Pipeline(steps=[(&#x27;simp...\n",
              "                                                   &#x27;primary_instal_amt&#x27;,\n",
              "                                                   &#x27;sec_active_accts&#x27;,\n",
              "                                                   &#x27;sec_sanctioned_amount&#x27;,\n",
              "                                                   &#x27;sec_current_balance&#x27;,\n",
              "                                                   &#x27;sec_no_of_accts&#x27;,\n",
              "                                                   &#x27;pri_no_of_accts&#x27;,\n",
              "                                                   &#x27;no_of_inquiries&#x27;,\n",
              "                                                   &#x27;event_state&#x27;,\n",
              "                                                   &#x27;pri_sanctioned_amount&#x27;,\n",
              "                                                   &#x27;disbursed_amount&#x27;,\n",
              "                                                   &#x27;asset_cost&#x27;,\n",
              "                                                   &#x27;event_count_manufacturer&#x27;,\n",
              "                                                   &#x27;sec_instal_amt&#x27;,\n",
              "                                                   &#x27;new_accts_in_last_six_months&#x27;])])),\n",
              "                (&#x27;classifier&#x27;,\n",
              "                 LogisticRegression(class_weight=&#x27;balanced&#x27;, max_iter=10000))])</pre><b>In a Jupyter environment, please rerun this cell to show the HTML representation or trust the notebook. <br />On GitHub, the HTML representation is unable to render, please try loading this page with nbviewer.org.</b></div><div class=\"sk-container\" hidden><div class=\"sk-item sk-dashed-wrapped\"><div class=\"sk-label-container\"><div class=\"sk-label sk-toggleable\"><input class=\"sk-toggleable__control sk-hidden--visually\" id=\"sk-estimator-id-33\" type=\"checkbox\" ><label for=\"sk-estimator-id-33\" class=\"sk-toggleable__label sk-toggleable__label-arrow\">Pipeline</label><div class=\"sk-toggleable__content\"><pre>Pipeline(steps=[(&#x27;preprocessor&#x27;,\n",
              "                 ColumnTransformer(remainder=&#x27;passthrough&#x27;,\n",
              "                                   transformers=[(&#x27;cat&#x27;,\n",
              "                                                  Pipeline(steps=[(&#x27;simpleimputer&#x27;,\n",
              "                                                                   SimpleImputer(fill_value=&#x27;Missing&#x27;,\n",
              "                                                                                 strategy=&#x27;constant&#x27;)),\n",
              "                                                                  (&#x27;onehotencoder&#x27;,\n",
              "                                                                   OneHotEncoder(handle_unknown=&#x27;ignore&#x27;))]),\n",
              "                                                  [&#x27;credit_history_length&#x27;,\n",
              "                                                   &#x27;employment_type&#x27;,\n",
              "                                                   &#x27;perform_cns_score_description&#x27;]),\n",
              "                                                 (&#x27;num&#x27;,\n",
              "                                                  Pipeline(steps=[(&#x27;simp...\n",
              "                                                   &#x27;primary_instal_amt&#x27;,\n",
              "                                                   &#x27;sec_active_accts&#x27;,\n",
              "                                                   &#x27;sec_sanctioned_amount&#x27;,\n",
              "                                                   &#x27;sec_current_balance&#x27;,\n",
              "                                                   &#x27;sec_no_of_accts&#x27;,\n",
              "                                                   &#x27;pri_no_of_accts&#x27;,\n",
              "                                                   &#x27;no_of_inquiries&#x27;,\n",
              "                                                   &#x27;event_state&#x27;,\n",
              "                                                   &#x27;pri_sanctioned_amount&#x27;,\n",
              "                                                   &#x27;disbursed_amount&#x27;,\n",
              "                                                   &#x27;asset_cost&#x27;,\n",
              "                                                   &#x27;event_count_manufacturer&#x27;,\n",
              "                                                   &#x27;sec_instal_amt&#x27;,\n",
              "                                                   &#x27;new_accts_in_last_six_months&#x27;])])),\n",
              "                (&#x27;classifier&#x27;,\n",
              "                 LogisticRegression(class_weight=&#x27;balanced&#x27;, max_iter=10000))])</pre></div></div></div><div class=\"sk-serial\"><div class=\"sk-item sk-dashed-wrapped\"><div class=\"sk-label-container\"><div class=\"sk-label sk-toggleable\"><input class=\"sk-toggleable__control sk-hidden--visually\" id=\"sk-estimator-id-34\" type=\"checkbox\" ><label for=\"sk-estimator-id-34\" class=\"sk-toggleable__label sk-toggleable__label-arrow\">preprocessor: ColumnTransformer</label><div class=\"sk-toggleable__content\"><pre>ColumnTransformer(remainder=&#x27;passthrough&#x27;,\n",
              "                  transformers=[(&#x27;cat&#x27;,\n",
              "                                 Pipeline(steps=[(&#x27;simpleimputer&#x27;,\n",
              "                                                  SimpleImputer(fill_value=&#x27;Missing&#x27;,\n",
              "                                                                strategy=&#x27;constant&#x27;)),\n",
              "                                                 (&#x27;onehotencoder&#x27;,\n",
              "                                                  OneHotEncoder(handle_unknown=&#x27;ignore&#x27;))]),\n",
              "                                 [&#x27;credit_history_length&#x27;, &#x27;employment_type&#x27;,\n",
              "                                  &#x27;perform_cns_score_description&#x27;]),\n",
              "                                (&#x27;num&#x27;,\n",
              "                                 Pipeline(steps=[(&#x27;simpleimputer&#x27;,\n",
              "                                                  SimpleImputer()),\n",
              "                                                 (&#x27;st...\n",
              "                                  &#x27;pri_active_accts&#x27;,\n",
              "                                  &#x27;delinquent_accts_in_last_six_months&#x27;,\n",
              "                                  &#x27;perform_cns_score&#x27;, &#x27;primary_instal_amt&#x27;,\n",
              "                                  &#x27;sec_active_accts&#x27;, &#x27;sec_sanctioned_amount&#x27;,\n",
              "                                  &#x27;sec_current_balance&#x27;, &#x27;sec_no_of_accts&#x27;,\n",
              "                                  &#x27;pri_no_of_accts&#x27;, &#x27;no_of_inquiries&#x27;,\n",
              "                                  &#x27;event_state&#x27;, &#x27;pri_sanctioned_amount&#x27;,\n",
              "                                  &#x27;disbursed_amount&#x27;, &#x27;asset_cost&#x27;,\n",
              "                                  &#x27;event_count_manufacturer&#x27;, &#x27;sec_instal_amt&#x27;,\n",
              "                                  &#x27;new_accts_in_last_six_months&#x27;])])</pre></div></div></div><div class=\"sk-parallel\"><div class=\"sk-parallel-item\"><div class=\"sk-item\"><div class=\"sk-label-container\"><div class=\"sk-label sk-toggleable\"><input class=\"sk-toggleable__control sk-hidden--visually\" id=\"sk-estimator-id-35\" type=\"checkbox\" ><label for=\"sk-estimator-id-35\" class=\"sk-toggleable__label sk-toggleable__label-arrow\">cat</label><div class=\"sk-toggleable__content\"><pre>[&#x27;credit_history_length&#x27;, &#x27;employment_type&#x27;, &#x27;perform_cns_score_description&#x27;]</pre></div></div></div><div class=\"sk-serial\"><div class=\"sk-item\"><div class=\"sk-serial\"><div class=\"sk-item\"><div class=\"sk-estimator sk-toggleable\"><input class=\"sk-toggleable__control sk-hidden--visually\" id=\"sk-estimator-id-36\" type=\"checkbox\" ><label for=\"sk-estimator-id-36\" class=\"sk-toggleable__label sk-toggleable__label-arrow\">SimpleImputer</label><div class=\"sk-toggleable__content\"><pre>SimpleImputer(fill_value=&#x27;Missing&#x27;, strategy=&#x27;constant&#x27;)</pre></div></div></div><div class=\"sk-item\"><div class=\"sk-estimator sk-toggleable\"><input class=\"sk-toggleable__control sk-hidden--visually\" id=\"sk-estimator-id-37\" type=\"checkbox\" ><label for=\"sk-estimator-id-37\" class=\"sk-toggleable__label sk-toggleable__label-arrow\">OneHotEncoder</label><div class=\"sk-toggleable__content\"><pre>OneHotEncoder(handle_unknown=&#x27;ignore&#x27;)</pre></div></div></div></div></div></div></div></div><div class=\"sk-parallel-item\"><div class=\"sk-item\"><div class=\"sk-label-container\"><div class=\"sk-label sk-toggleable\"><input class=\"sk-toggleable__control sk-hidden--visually\" id=\"sk-estimator-id-38\" type=\"checkbox\" ><label for=\"sk-estimator-id-38\" class=\"sk-toggleable__label sk-toggleable__label-arrow\">num</label><div class=\"sk-toggleable__content\"><pre>[&#x27;ltv&#x27;, &#x27;pri_current_balance&#x27;, &#x27;pri_overdue_accts&#x27;, &#x27;sec_overdue_accts&#x27;, &#x27;sec_disbursed_amount&#x27;, &#x27;event_count_branch&#x27;, &#x27;pri_disbursed_amount&#x27;, &#x27;average_acct_age&#x27;, &#x27;pri_active_accts&#x27;, &#x27;delinquent_accts_in_last_six_months&#x27;, &#x27;perform_cns_score&#x27;, &#x27;primary_instal_amt&#x27;, &#x27;sec_active_accts&#x27;, &#x27;sec_sanctioned_amount&#x27;, &#x27;sec_current_balance&#x27;, &#x27;sec_no_of_accts&#x27;, &#x27;pri_no_of_accts&#x27;, &#x27;no_of_inquiries&#x27;, &#x27;event_state&#x27;, &#x27;pri_sanctioned_amount&#x27;, &#x27;disbursed_amount&#x27;, &#x27;asset_cost&#x27;, &#x27;event_count_manufacturer&#x27;, &#x27;sec_instal_amt&#x27;, &#x27;new_accts_in_last_six_months&#x27;]</pre></div></div></div><div class=\"sk-serial\"><div class=\"sk-item\"><div class=\"sk-serial\"><div class=\"sk-item\"><div class=\"sk-estimator sk-toggleable\"><input class=\"sk-toggleable__control sk-hidden--visually\" id=\"sk-estimator-id-39\" type=\"checkbox\" ><label for=\"sk-estimator-id-39\" class=\"sk-toggleable__label sk-toggleable__label-arrow\">SimpleImputer</label><div class=\"sk-toggleable__content\"><pre>SimpleImputer()</pre></div></div></div><div class=\"sk-item\"><div class=\"sk-estimator sk-toggleable\"><input class=\"sk-toggleable__control sk-hidden--visually\" id=\"sk-estimator-id-40\" type=\"checkbox\" ><label for=\"sk-estimator-id-40\" class=\"sk-toggleable__label sk-toggleable__label-arrow\">StandardScaler</label><div class=\"sk-toggleable__content\"><pre>StandardScaler()</pre></div></div></div></div></div></div></div></div><div class=\"sk-parallel-item\"><div class=\"sk-item\"><div class=\"sk-label-container\"><div class=\"sk-label sk-toggleable\"><input class=\"sk-toggleable__control sk-hidden--visually\" id=\"sk-estimator-id-41\" type=\"checkbox\" ><label for=\"sk-estimator-id-41\" class=\"sk-toggleable__label sk-toggleable__label-arrow\">remainder</label><div class=\"sk-toggleable__content\"><pre>[&#x27;driving_flag&#x27;, &#x27;voterid_flag&#x27;, &#x27;pan_flag&#x27;, &#x27;passport_flag&#x27;, &#x27;aadhar_flag&#x27;]</pre></div></div></div><div class=\"sk-serial\"><div class=\"sk-item\"><div class=\"sk-estimator sk-toggleable\"><input class=\"sk-toggleable__control sk-hidden--visually\" id=\"sk-estimator-id-42\" type=\"checkbox\" ><label for=\"sk-estimator-id-42\" class=\"sk-toggleable__label sk-toggleable__label-arrow\">passthrough</label><div class=\"sk-toggleable__content\"><pre>passthrough</pre></div></div></div></div></div></div></div></div><div class=\"sk-item\"><div class=\"sk-estimator sk-toggleable\"><input class=\"sk-toggleable__control sk-hidden--visually\" id=\"sk-estimator-id-43\" type=\"checkbox\" ><label for=\"sk-estimator-id-43\" class=\"sk-toggleable__label sk-toggleable__label-arrow\">LogisticRegression</label><div class=\"sk-toggleable__content\"><pre>LogisticRegression(class_weight=&#x27;balanced&#x27;, max_iter=10000)</pre></div></div></div></div></div></div></div>"
            ]
          },
          "metadata": {},
          "execution_count": 92
        }
      ]
    },
    {
      "cell_type": "code",
      "execution_count": null,
      "metadata": {
        "id": "T6blrCZbfYEN"
      },
      "outputs": [],
      "source": [
        "test_pred = model.predict_proba(x_test1)"
      ]
    },
    {
      "cell_type": "code",
      "execution_count": null,
      "metadata": {
        "colab": {
          "base_uri": "https://localhost:8080/"
        },
        "id": "n0kCAXdefyzi",
        "outputId": "db819e4e-ddb3-435c-ac36-687581b6bef4"
      },
      "outputs": [
        {
          "output_type": "execute_result",
          "data": {
            "text/plain": [
              "array([[0.71960424, 0.28039576],\n",
              "       [0.36677735, 0.63322265],\n",
              "       [0.51236551, 0.48763449],\n",
              "       ...,\n",
              "       [0.62041517, 0.37958483],\n",
              "       [0.53625242, 0.46374758],\n",
              "       [0.54435851, 0.45564149]])"
            ]
          },
          "metadata": {},
          "execution_count": 83
        }
      ],
      "source": [
        "test_pred"
      ]
    },
    {
      "cell_type": "code",
      "source": [
        "#Y_train_1 = pd.DataFrame(Y_train_1)\n",
        "#train_pred = model.predict_proba(Y_train_1)"
      ],
      "metadata": {
        "id": "49x_f10D0QWk"
      },
      "execution_count": null,
      "outputs": []
    },
    {
      "cell_type": "code",
      "source": [
        "#train_pred = model.predict_proba(Y_train_1)  # Replace 'model' with your actual model\n",
        "# = [0, 1, 0, 1, 1, 0, 0, 1, 1, 0]"
      ],
      "metadata": {
        "id": "aZNLI0Of0Qa9"
      },
      "execution_count": null,
      "outputs": []
    },
    {
      "cell_type": "code",
      "execution_count": null,
      "metadata": {
        "id": "hdt9G_Tzf08T"
      },
      "outputs": [],
      "source": [
        "#roc_auc_score(Y_train_1, train_pred[:,1])"
      ]
    },
    {
      "cell_type": "code",
      "execution_count": null,
      "metadata": {
        "id": "8ho0kX9ngl3p"
      },
      "outputs": [],
      "source": [
        "roc_auc = roc_auc_score(y_test1, test_pred[:,1])"
      ]
    },
    {
      "cell_type": "code",
      "source": [
        "roc_auc"
      ],
      "metadata": {
        "colab": {
          "base_uri": "https://localhost:8080/"
        },
        "id": "kww4kqbX8U-b",
        "outputId": "f758198c-e978-4cdc-dc26-f04bf170c151"
      },
      "execution_count": null,
      "outputs": [
        {
          "output_type": "execute_result",
          "data": {
            "text/plain": [
              "0.6278624671451063"
            ]
          },
          "metadata": {},
          "execution_count": 109
        }
      ]
    },
    {
      "cell_type": "code",
      "source": [
        "print(f\"ROC AUC Score: {roc_auc:.4f}\")"
      ],
      "metadata": {
        "colab": {
          "base_uri": "https://localhost:8080/"
        },
        "id": "6RrWBjew6_O6",
        "outputId": "4fd4ba53-7b51-4d04-bf01-1960050cc0c1"
      },
      "execution_count": null,
      "outputs": [
        {
          "output_type": "stream",
          "name": "stdout",
          "text": [
            "ROC AUC Score: 0.6279\n"
          ]
        }
      ]
    },
    {
      "cell_type": "code",
      "source": [
        "fpr, tpr, thresholds = roc_curve(y_test1, test_pred[:, 1])\n"
      ],
      "metadata": {
        "id": "p-UEc7Ol6_bl"
      },
      "execution_count": null,
      "outputs": []
    },
    {
      "cell_type": "code",
      "source": [
        "plt.figure(figsize=(8, 8))\n",
        "plt.plot(fpr, tpr, color='blue', lw=2, label=f'ROC Curve (AUC = {roc_auc:.4f})')\n",
        "plt.plot([0, 1], [0, 1], color='gray', linestyle='--', label='Random')\n",
        "plt.title('Receiver Operating Characteristic (ROC) Curve')\n",
        "plt.xlabel('False Positive Rate (FPR)')\n",
        "plt.ylabel('True Positive Rate (TPR)')\n",
        "plt.legend()\n",
        "plt.show()"
      ],
      "metadata": {
        "colab": {
          "base_uri": "https://localhost:8080/",
          "height": 718
        },
        "id": "ZTcrKVuN6_g7",
        "outputId": "a028de33-25c1-4b35-b716-f1bcb6cdcce7"
      },
      "execution_count": null,
      "outputs": [
        {
          "output_type": "display_data",
          "data": {
            "text/plain": [
              "<Figure size 800x800 with 1 Axes>"
            ],
            "image/png": "[encoded data removed]"
          },
          "metadata": {}
        }
      ]
    },
    {
      "cell_type": "code",
      "source": [
        "import pandas as pd\n",
        "\n",
        "# Assuming you have y_test1, test_pred, and thresholds defined\n",
        "# Replace this with your actual data\n",
        "\n",
        "# Create a DataFrame with actual labels and predicted probabilities\n",
        "df_predictions = pd.DataFrame({'Actual_Label': y_test1, 'Predicted_Probability': test_pred[:, 1]})\n",
        "\n",
        "# Add a column for predicted labels based on a specific threshold (you can adjust this threshold)\n",
        "threshold = 0.5\n",
        "df_predictions['Predicted_Label'] = (df_predictions['Predicted_Probability'] > threshold).astype(int)\n",
        "\n",
        "# Display the DataFrame\n",
        "print(df_predictions.head())\n",
        "\n",
        "# Optionally, you can save the DataFrame to a CSV file\n",
        "df_predictions.to_csv('predictions_dataframe.csv', index=False)\n"
      ],
      "metadata": {
        "colab": {
          "base_uri": "https://localhost:8080/"
        },
        "id": "UmZsNeed9AO7",
        "outputId": "634ec1ef-5b76-47f5-93b5-cbb5279aba5b"
      },
      "execution_count": null,
      "outputs": [
        {
          "output_type": "stream",
          "name": "stdout",
          "text": [
            "        Actual_Label  Predicted_Probability  Predicted_Label\n",
            "8976               0               0.280396                0\n",
            "76007              1               0.633223                1\n",
            "77677              1               0.487634                0\n",
            "209438             1               0.517468                1\n",
            "143261             0               0.560641                1\n"
          ]
        }
      ]
    },
    {
      "cell_type": "code",
      "source": [],
      "metadata": {
        "id": "5AhN7m8x9AVl"
      },
      "execution_count": null,
      "outputs": []
    },
    {
      "cell_type": "code",
      "source": [],
      "metadata": {
        "id": "8DdmOmgN6kmf"
      },
      "execution_count": null,
      "outputs": []
    }
  ],
  "metadata": {
    "colab": {
      "provenance": []
    },
    "kernelspec": {
      "display_name": "Python 3 (ipykernel)",
      "language": "python",
      "name": "python3"
    },
    "language_info": {
      "codemirror_mode": {
        "name": "ipython",
        "version": 3
      },
      "file_extension": ".py",
      "mimetype": "text/x-python",
      "name": "python",
      "nbconvert_exporter": "python",
      "pygments_lexer": "ipython3",
      "version": "3.10.9"
    }
  },
  "nbformat": 4,
  "nbformat_minor": 0
}